{
 "cells": [
  {
   "cell_type": "markdown",
   "metadata": {},
   "source": [
    "# Semantics Construction in GF\n",
    "\n",
    "With GLIF, we usually use MMT to describe the target representation and semantics construction.\n",
    "However, there are ways to perform the semantics construction directly in GF.\n",
    "This notebook explores two such ways:\n",
    "1. Introduce a concrete syntax for the formal representation\n",
    "2. Create another abstract syntax for the target representation"
   ]
  },
  {
   "cell_type": "code",
   "execution_count": 5,
   "metadata": {},
   "outputs": [
    {
     "data": {
      "text/html": [
       "<span class=\"glif-stdout\">GF shell will be reloaded<br/>Successfully changed archive</span>"
      ]
     },
     "metadata": {},
     "output_type": "display_data"
    }
   ],
   "source": [
    "archive tmpGLIF/examples misc/SemConstrInGF"
   ]
  },
  {
   "cell_type": "markdown",
   "metadata": {},
   "source": [
    "## The Grammar"
   ]
  },
  {
   "cell_type": "code",
   "execution_count": 6,
   "metadata": {},
   "outputs": [
    {
     "data": {
      "text/html": [
       "<span class=\"glif-stdout\">Successfully imported Grammar.gf</span>"
      ]
     },
     "metadata": {},
     "output_type": "display_data"
    }
   ],
   "source": [
    "abstract Grammar = {\n",
    "    cat\n",
    "        S;\n",
    "        Agent;\n",
    "        Verb;\n",
    "    data\n",
    "        and_Verb : Verb -> Verb -> Verb;\n",
    "        and_S : S -> S -> S;\n",
    "        act : Agent -> Verb -> S;\n",
    "        ahmed : Agent;\n",
    "        berta : Agent;\n",
    "        paint : Verb;\n",
    "        be_quiet : Verb;\n",
    "}"
   ]
  },
  {
   "cell_type": "code",
   "execution_count": 8,
   "metadata": {},
   "outputs": [
    {
     "data": {
      "text/html": [
       "<span class=\"glif-stdout\">Successfully imported GrammarEng.gf</span>"
      ]
     },
     "metadata": {},
     "output_type": "display_data"
    }
   ],
   "source": [
    "concrete GrammarEng of Grammar = {\n",
    "    lincat\n",
    "        S = Str;\n",
    "        Agent = Str;\n",
    "        Verb = Str;\n",
    "    lin\n",
    "        and_Verb v1 v2 = v1 ++ \"and\" ++ v2;\n",
    "        and_S s1 s2 = s1 ++ \"and\" ++ s2;\n",
    "        act a v = a ++ v;\n",
    "        ahmed = \"Ahmed\";\n",
    "        berta = \"Berta\";\n",
    "        paint = \"paints\";\n",
    "        be_quiet = \"is quiet\";\n",
    "}"
   ]
  },
  {
   "cell_type": "code",
   "execution_count": 10,
   "metadata": {},
   "outputs": [
    {
     "data": {
      "text/html": [
       "<span class=\"glif-stdout\">and_S (act ahmed paint) (act berta be_quiet)</span>"
      ]
     },
     "metadata": {},
     "output_type": "display_data"
    }
   ],
   "source": [
    "-- we can now parse a few simple example sentences:\n",
    "parse \"Ahmed paints and Berta is quiet\""
   ]
  },
  {
   "cell_type": "code",
   "execution_count": 11,
   "metadata": {},
   "outputs": [
    {
     "data": {
      "text/html": [
       "<span class=\"glif-stdout\">act ahmed (and_Verb be_quiet paint)</span>"
      ]
     },
     "metadata": {},
     "output_type": "display_data"
    }
   ],
   "source": [
    "parse \"Ahmed is quiet and paints\""
   ]
  },
  {
   "cell_type": "markdown",
   "metadata": {},
   "source": [
    "## Approach 1: Another concrete syntax\n",
    "Here we treat the semantic representation like any other language and translate to it by creating another concrete syntax – as we usually do for translation with GF."
   ]
  },
  {
   "cell_type": "code",
   "execution_count": 16,
   "metadata": {},
   "outputs": [
    {
     "data": {
      "text/html": [
       "<span class=\"glif-stdout\">Successfully imported GrammarLog.gf</span>"
      ]
     },
     "metadata": {},
     "output_type": "display_data"
    }
   ],
   "source": [
    "concrete GrammarLog of Grammar = {\n",
    "    lincat\n",
    "        S = Str;\n",
    "        Agent = Str;\n",
    "        Verb = Str;\n",
    "    lin\n",
    "        and_Verb v1 v2 = \"(\" ++ \"λx.\" ++ v1 ++ \"(x)\" ++ \"∧\" ++ v2 ++ \"(x)\" ++ \")\";\n",
    "        and_S s1 s2 = s1 ++ \"∧\" ++ s2;\n",
    "        act a v = v ++ \"(\" ++ a ++ \")\";\n",
    "        ahmed = \"a\";\n",
    "        berta = \"b\";\n",
    "        paint = \"p\";\n",
    "        be_quiet = \"q\";\n",
    "}"
   ]
  },
  {
   "cell_type": "code",
   "execution_count": 17,
   "metadata": {},
   "outputs": [
    {
     "data": {
      "text/html": [
       "<span class=\"glif-stdout\">p ( a ) ∧ q ( b )</span>"
      ]
     },
     "metadata": {},
     "output_type": "display_data"
    }
   ],
   "source": [
    "parse -lang=Eng \"Ahmed paints and Berta is quiet\" | linearize -lang=Log"
   ]
  },
  {
   "cell_type": "code",
   "execution_count": 18,
   "metadata": {},
   "outputs": [
    {
     "data": {
      "text/html": [
       "<span class=\"glif-stdout\">( λx. q (x) ∧ p (x) ) ( a )</span>"
      ]
     },
     "metadata": {},
     "output_type": "display_data"
    }
   ],
   "source": [
    "parse -lang=Eng \"Ahmed is quiet and paints\" | linearize -lang=Log"
   ]
  },
  {
   "cell_type": "markdown",
   "metadata": {},
   "source": [
    "Note that *( λx. q (x) ∧ p (x) ) ( a )* β-reduces to *q(a) ∧ p(a)*"
   ]
  },
  {
   "cell_type": "markdown",
   "metadata": {},
   "source": [
    "## Approach 2: Another abstract syntax"
   ]
  },
  {
   "cell_type": "code",
   "execution_count": 19,
   "metadata": {},
   "outputs": [
    {
     "data": {
      "text/html": [
       "<span class=\"glif-stdout\">Successfully imported Target.gf</span>"
      ]
     },
     "metadata": {},
     "output_type": "display_data"
    }
   ],
   "source": [
    "-- an abstract syntax for the target representation\n",
    "\n",
    "abstract Target = {\n",
    "    cat\n",
    "        Prop; Term;\n",
    "    fun\n",
    "        and : Prop -> Prop -> Prop;\n",
    "        a : Term;\n",
    "        b : Term;\n",
    "        p : Term -> Prop;\n",
    "        q : Term -> Prop;\n",
    "}"
   ]
  },
  {
   "cell_type": "code",
   "execution_count": 20,
   "metadata": {},
   "outputs": [
    {
     "data": {
      "text/html": [
       "<span class=\"glif-stdout\">Successfully imported TargetStr.gf</span>"
      ]
     },
     "metadata": {},
     "output_type": "display_data"
    }
   ],
   "source": [
    "-- we can even make a concrete syntax for it to get nice-looking strings\n",
    "\n",
    "concrete TargetStr of Target = {\n",
    "    lincat\n",
    "        Prop = Str;\n",
    "        Term = Str;\n",
    "    lin\n",
    "        and a b = a ++ \"∧\" ++ b;\n",
    "        a = \"a\";\n",
    "        b = \"b\";\n",
    "        p x = \"p\" ++ \"(\" ++ x ++ \")\";\n",
    "        q x = \"q\" ++ \"(\" ++ x ++ \")\";\n",
    "}"
   ]
  },
  {
   "cell_type": "code",
   "execution_count": 21,
   "metadata": {},
   "outputs": [
    {
     "data": {
      "text/html": [
       "<span class=\"glif-stdout\">MMT import failed:<br/>    class info.kwarc.mmt.glf.GfLexerException: string matching regex &#x27;[a-zA-Z_][a-zA-Z0-9_]*&#x27; expected but &#x27;(&#x27; found<br/><br/></span>"
      ]
     },
     "metadata": {},
     "output_type": "display_data"
    }
   ],
   "source": [
    "-- the semantics construction is also defined in an abstract syntax, using the `def` keyword to define functions\n",
    "\n",
    "abstract Semantics = Grammar, Target ** {\n",
    "    fun\n",
    "        transS : S -> Prop;\n",
    "        transAgent : Agent -> Term;\n",
    "        transVerb : Verb -> (Term -> Prop);   -- note that the parentheses are optional\n",
    "    def\n",
    "        transVerb (and_Verb v1 v2) = \\x -> and (transVerb v1 x) (transVerb v2 x);\n",
    "        transS (and_S s1 s2) = and (transS s1) (transS s2);\n",
    "        transS (act x v) = (transVerb v) (transAgent x);\n",
    "        transAgent ahmed = a;\n",
    "        transAgent berta = b;\n",
    "        transVerb paint = p;\n",
    "        transVerb be_quiet = q;        \n",
    "}"
   ]
  },
  {
   "cell_type": "code",
   "execution_count": 22,
   "metadata": {},
   "outputs": [
    {
     "data": {
      "text/html": [
       "<span class=\"glif-stdout\">Successfully imported SemanticsEng.gf</span>"
      ]
     },
     "metadata": {},
     "output_type": "display_data"
    }
   ],
   "source": [
    "concrete SemanticsEng of Semantics = GrammarEng ** {\n",
    "    -- hack as `pt -transfer` is not supported anymore\n",
    "    lincat Prop = Str;\n",
    "    lin transS s = s;\n",
    "}"
   ]
  },
  {
   "cell_type": "code",
   "execution_count": 25,
   "metadata": {},
   "outputs": [
    {
     "data": {
      "text/html": [
       "<span class=\"glif-stdout\">Successfully imported SemanticsStr.gf</span>"
      ]
     },
     "metadata": {},
     "output_type": "display_data"
    }
   ],
   "source": [
    "concrete SemanticsStr of Semantics = TargetStr ** { }"
   ]
  },
  {
   "cell_type": "code",
   "execution_count": 26,
   "metadata": {},
   "outputs": [
    {
     "data": {
      "text/html": [
       "<span class=\"glif-stdout\">and (q a) (p a)</span>"
      ]
     },
     "metadata": {},
     "output_type": "display_data"
    }
   ],
   "source": [
    "-- Now we can try out the semantics construction:\n",
    "parse -lang=Eng -cat=Prop \"Ahmed is quiet and paints\" | put_tree -compute"
   ]
  },
  {
   "cell_type": "code",
   "execution_count": 27,
   "metadata": {},
   "outputs": [
    {
     "data": {
      "text/html": [
       "<span class=\"glif-stdout\">q ( a ) ∧ p ( a )</span>"
      ]
     },
     "metadata": {},
     "output_type": "display_data"
    }
   ],
   "source": [
    "-- And with linearization, we even get a nice looking string:\n",
    "parse -lang=Eng -cat=Prop \"Ahmed is quiet and paints\" | put_tree -compute | linearize -lang=Str"
   ]
  }
 ],
 "metadata": {
  "kernelspec": {
   "display_name": "GLIF",
   "language": "glif",
   "name": "glif"
  },
  "language_info": {
   "file_extension": ".glif",
   "mimetype": "text/glif",
   "name": "GLIF"
  }
 },
 "nbformat": 4,
 "nbformat_minor": 4
}
