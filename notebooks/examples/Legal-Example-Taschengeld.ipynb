{
 "cells": [
  {
   "cell_type": "code",
   "execution_count": 22,
   "id": "1127033f",
   "metadata": {},
   "outputs": [
    {
     "data": {
      "text/html": [
       "<span class=\"glif-stdout\">Successfully imported Grammar.gf</span>"
      ]
     },
     "metadata": {},
     "output_type": "display_data"
    }
   ],
   "source": [
    "abstract Grammar = {\n",
    "    cat\n",
    "        S;\n",
    "        VP;\n",
    "        NP;\n",
    "        Adj;\n",
    "        Object;\n",
    "        Person;\n",
    "    fun\n",
    "        pers2np: Person -> NP;\n",
    "        obj2np: Object -> NP;\n",
    "        \n",
    "        sentence1: NP -> Adj -> S;\n",
    "        sentence2: NP -> VP -> S;\n",
    "        \n",
    "        fabian: Person;\n",
    "        minor: Adj;\n",
    "        person_m: Person;\n",
    "        pocketmoney: Object;\n",
    "        gun: Object;\n",
    "        mit: VP -> NP -> VP;\n",
    "        von: VP -> NP -> VP;\n",
    "        kaufen: NP -> VP;\n",
    "        sparen: NP -> VP;\n",
    "}"
   ]
  },
  {
   "cell_type": "code",
   "execution_count": 2,
   "id": "143026bd",
   "metadata": {},
   "outputs": [
    {
     "data": {
      "text/html": [
       "<span class=\"glif-stdout\">Successfully imported GrammarGer.gf</span>"
      ]
     },
     "metadata": {},
     "output_type": "display_data"
    }
   ],
   "source": [
    "concrete GrammarGer of Grammar = {\n",
    "  lincat\n",
    "    S = Str;\n",
    "    VP = Str;\n",
    "    NP = Str;\n",
    "    Adj = Str;\n",
    "    Object = Str;\n",
    "    Person = Str;\n",
    "\n",
    "  lin\n",
    "    pers2np p = p;\n",
    "    obj2np o = o;\n",
    "\n",
    "    sentence1 np adj = np ++ \"ist\" ++ adj;\n",
    "    sentence2 np vp = np ++ vp;\n",
    "\n",
    "    fabian = \"Fabian\";\n",
    "    minor = \"minderjährig\";\n",
    "    person_m = \"M.\";\n",
    "    pocketmoney = (\"dem\"|\"das\") ++ \"Taschengeld\";\n",
    "    gun = \"die Spielzeugpistole\";\n",
    "    mit vp np = vp ++ \"mit\" ++ np;\n",
    "    von vp np = vp ++ \"von\" ++ np;\n",
    "    kaufen np = \"kauft\" ++ np;\n",
    "    sparen np = \"spart\" ++ np;\n",
    "}\n"
   ]
  },
  {
   "cell_type": "code",
   "execution_count": 3,
   "id": "c8f189ef",
   "metadata": {},
   "outputs": [
    {
     "data": {
      "text/html": [
       "<span class=\"glif-stdout\">sentence1 (pers2np fabian) minor</span>"
      ]
     },
     "metadata": {},
     "output_type": "display_data"
    }
   ],
   "source": [
    "parse \"Fabian ist minderjährig\""
   ]
  },
  {
   "cell_type": "code",
   "execution_count": 4,
   "id": "4a75c917",
   "metadata": {},
   "outputs": [
    {
     "data": {
      "text/html": [
       "<span class=\"glif-stdout\">sentence2 (pers2np fabian) (mit (von (kaufen (obj2np gun)) (pers2np person_m)) (obj2np pocketmoney))</span>"
      ]
     },
     "metadata": {},
     "output_type": "display_data"
    }
   ],
   "source": [
    "parse \"Fabian kauft die Spielzeugpistole von M. mit dem Taschengeld\""
   ]
  },
  {
   "cell_type": "code",
   "execution_count": 5,
   "id": "3aa746aa",
   "metadata": {},
   "outputs": [
    {
     "data": {
      "text/html": [
       "<span class=\"glif-stdout\">Successfully imported DL_Star_Predicate.mmt</span>"
      ]
     },
     "metadata": {},
     "output_type": "display_data"
    }
   ],
   "source": [
    "theory DL_Star_Predicate : latin:/?DL_Star =\n",
    "/T A predicate-logic-no-quantifiers version of the deontic logic DL_Star ❙\n",
    "//include ☞ur:?DiagramOperators ❙\n",
    "tm : type ❙\n",
    "event : type ❙\n",
    "after : event ⟶ event ⟶ prop ❘ # 1 nach 2 prec 150 ❙\n",
    "simultaneous : event ⟶ event ⟶ prop ❘ # 1 zeitgleich 2 prec 150 ❙\n",
    "verlauf_axiom : {X,Y,Z} ⊦ (after X Y) ⟶ ⊦ (after Y Z) ⟶ ⊦ (after X Z)❙\n",
    "Agent : event ⟶ tm ⟶ prop❙\n",
    "Patient :  event ⟶ tm ⟶ prop ❙\n",
    "\n",
    "event_exists: (event ⟶ prop) ⟶ prop ❘ # evE 1 ❘ role EventIntroduction ❙\n",
    "von: event ⟶ tm ⟶ prop ❙\n",
    "mit: event ⟶ tm ⟶ prop ❙\n",
    "\n",
    "proof_sketch : {A: prop} ⊦ A ❙\n",
    "❚"
   ]
  },
  {
   "cell_type": "code",
   "execution_count": 6,
   "id": "42ee15af",
   "metadata": {},
   "outputs": [
    {
     "data": {
      "text/html": [
       "<span class=\"glif-stdout\">Successfully imported ddt.mmt</span>"
      ]
     },
     "metadata": {},
     "output_type": "display_data"
    }
   ],
   "source": [
    "theory ddt : ?DL_Star_Predicate =    \n",
    "    fabian: tm ❙\n",
    "    pers_m: tm ❙\n",
    "    taschengeld: tm ❙\n",
    "    spielzeugpistole: tm ❙\n",
    "    minor: tm ⟶ prop ❙\n",
    "    kaufevent: event ⟶ prop ❙\n",
    "    sparevent: event ⟶ prop ❙\n",
    "    ladenevent : event ⟶ prop ❙\n",
    "    rückforderungsevent : event ⟶ prop ❙\n",
    "    disapprove : event ⟶ tm ⟶ prop ❙\n",
    "    eltern : tm ⟶ tm ❙\n",
    "❚"
   ]
  },
  {
   "cell_type": "code",
   "execution_count": 7,
   "id": "b6514c6a",
   "metadata": {},
   "outputs": [
    {
     "data": {
      "text/html": [
       "<span class=\"glif-stdout\">Successfully imported fall.mmt</span>"
      ]
     },
     "metadata": {},
     "output_type": "display_data"
    }
   ],
   "source": [
    "theory fall : ?ddt =\n",
    "    e0 : event ❙\n",
    "    e1 : event ❙\n",
    "    e2 : event ❙\n",
    "    e3 : event ❙\n",
    "    // Fabian ist minderjährig ❙\n",
    "    // ax : ⊦ minderjährig Fabian ❙\n",
    "    // M. hat eine Spielzeugpistole in seinem Laden ❙\n",
    "    c0 : ⊦ ladenevent e0 ∧ Agent e0 pers_m ∧ Patient e0 spielzeugpistole ❙\n",
    "    // Fabian hat das Taschengeld gespart ❙\n",
    "    c1 : ⊦ sparevent e1 ∧ Agent e1 fabian ∧ Patient e1 taschengeld ❙\n",
    "    time_sequence1 : ⊦ e1 zeitgleich e0 ❙\n",
    "    // generated by GLIF: ❙\n",
    "    // [e0, t0] ladenevent e0 ∧ Agent e0 pers_m ∧ Patient e0 spielzeugpistole ∧ time e0 t0  ❙\n",
    "    // gleichzeitig ([e1, t0] sparevent e1 ∧ Agent e1 fabian ∧ Patient e1 taschengeld ∧ time e1 t0) ❙\n",
    "    // später ([e, t] ....) ❙\n",
    "    // Später kauft Fabian die Spielzeugpistole von M. mit dem Taschengeld gegen den Willen von Fabians Eltern ❙\n",
    "    c2 : ⊦ kaufevent e2 ∧ Agent e2 fabian ∧ Patient e2 spielzeugpistole ∧ von e2 pers_m ∧ mit e2 taschengeld ∧\n",
    "            disapprove e2 (eltern fabian) ❙\n",
    "    time_sequence2 : ⊦ e2 nach e1 ❙\n",
    "    // Danach fordert Fabian das Taschengeld von M. zurück ❙\n",
    "    c3 : ⊦ rückforderungsevent e3 ∧ Agent e3 fabian ∧ Patient e3 taschengeld ∧ von e3 pers_m ❙\n",
    "    time_sequence3 : ⊦ e3 nach e2 ❙\n",
    "    \n",
    "❚"
   ]
  },
  {
   "cell_type": "code",
   "execution_count": 8,
   "id": "048fed37",
   "metadata": {},
   "outputs": [
    {
     "data": {
      "text/html": [
       "<span class=\"glif-stdout\">Successfully imported paragraph985_lexicon.mmt</span>"
      ]
     },
     "metadata": {},
     "output_type": "display_data"
    }
   ],
   "source": [
    "theory paragraph985_lexicon : ?DL_Star_Predicate =\n",
    "    eigentuemer : event ⟶ tm ⟶ prop ❙\n",
    "    besitzer : event ⟶ tm ⟶ prop ❙\n",
    "    sache : event ⟶ tm ⟶ prop ❙\n",
    "    herausgabeevent : event ⟶ prop ❙\n",
    "❚"
   ]
  },
  {
   "cell_type": "code",
   "execution_count": 9,
   "id": "60374921",
   "metadata": {},
   "outputs": [
    {
     "data": {
      "text/html": [
       "<span class=\"glif-stdout\">Successfully imported paragraph985_bedingung.mmt</span>"
      ]
     },
     "metadata": {},
     "output_type": "display_data"
    }
   ],
   "source": [
    "theory paragraph985_bedingung : ?DL_Star_Predicate =\n",
    "    include ?paragraph985_lexicon ❙\n",
    "    bedingungsevent : event ❙\n",
    "    x : tm ❙\n",
    "    y : tm ❙\n",
    "    z : tm ❙\n",
    "    bedingung : ⊦ herausgabeevent bedingungsevent ∧ eigentuemer bedingungsevent x ∧\n",
    "            besitzer bedingungsevent y ∧ sache bedingungsevent z ❙\n",
    "❚"
   ]
  },
  {
   "cell_type": "code",
   "execution_count": 10,
   "id": "d902c48d",
   "metadata": {},
   "outputs": [
    {
     "data": {
      "text/html": [
       "<span class=\"glif-stdout\">Successfully imported paragraph985_folgen.mmt</span>"
      ]
     },
     "metadata": {},
     "output_type": "display_data"
    }
   ],
   "source": [
    "theory paragraph985_folgen : ?DL_Star_Predicate =\n",
    "    include ?paragraph985_bedingung ❙\n",
    "    e1 : event ❙\n",
    "    time : ⊦ e1 nach bedingungsevent ❙\n",
    "    folge : ⊦ herausgabeevent bedingungsevent ∧ eigentuemer bedingungsevent x ∧ besitzer bedingungsevent y ∧ sache bedingungsevent z ⇒\n",
    "        strongly_permitted (eigentuemer e1 y ∧ besitzer e1 x ∧ sache e1 z)\n",
    "❚"
   ]
  },
  {
   "cell_type": "code",
   "execution_count": 11,
   "id": "03d1b8dc",
   "metadata": {},
   "outputs": [
    {
     "data": {
      "text/html": [
       "<span class=\"glif-stdout\">Successfully imported subsumption.mmt</span>"
      ]
     },
     "metadata": {},
     "output_type": "display_data"
    }
   ],
   "source": [
    "view subsumption : ?paragraph985_bedingung -> ?fall = \n",
    "    eigentuemer = Agent ❙\n",
    "    besitzer = von ❙\n",
    "    sache = Patient ❙\n",
    "    herausgabeevent = rückforderungsevent ❙\n",
    "    bedingungsevent = e3 ❙\n",
    "    x = fabian ❙\n",
    "    y = pers_m ❙\n",
    "    z = taschengeld ❙\n",
    "    bedingung = proof_sketch ❙\n",
    "❚"
   ]
  },
  {
   "cell_type": "code",
   "execution_count": 12,
   "id": "dd8ea5b3",
   "metadata": {},
   "outputs": [
    {
     "data": {
      "text/html": [
       "<span class=\"glif-stdout\">Successfully imported GrammarSemantics.mmt</span>"
      ]
     },
     "metadata": {},
     "output_type": "display_data"
    }
   ],
   "source": [
    "view GrammarSemantics : http://mathhub.info/tmpGLIF/default/Grammar.gf?Grammar -> ?ddt =\n",
    "    S = prop ❙\n",
    "    VP = event ⟶ prop ❙\n",
    "    NP = tm ❙\n",
    "    Adj = tm ⟶ prop ❙\n",
    "    Object = tm ❙\n",
    "    Person = tm ❙\n",
    "\n",
    "    pers2np = [x] x ❙\n",
    "    obj2np = [x] x ❙\n",
    "    sentence1 = [np, adj] adj np ❙\n",
    "    sentence2 = [np, vp] evE [e:event] vp e ∧ Agent e np ❙\n",
    "    fabian = fabian ❙\n",
    "    minor = minor ❙\n",
    "    person_m = pers_m ❙\n",
    "    pocketmoney = taschengeld ❙\n",
    "    gun = spielzeugpistole ❙\n",
    "    mit = [vp] [np] [e] (vp e) ∧ (mit e np) ❙\n",
    "    von = [vp] [np] [e] (vp e) ∧ (von e np) ❙\n",
    "    kaufen = [s] [e] kaufevent e ∧ Patient e s ❙\n",
    "    sparen = [s] [e] sparevent e ∧ Patient e s ❙\n",
    "❚\n"
   ]
  },
  {
   "cell_type": "code",
   "execution_count": 13,
   "id": "38818f11",
   "metadata": {},
   "outputs": [
    {
     "data": {
      "text/html": [
       "<span class=\"glif-stdout\">minor fabian</span>"
      ]
     },
     "metadata": {},
     "output_type": "display_data"
    },
    {
     "name": "stdout",
     "output_type": "stream",
     "text": [
      "{'elpi': ['(minor fabian)'], 'mmt': ['minor fabian'], 'mmtplain': ['(http://cds.omdoc.org/urtheories?LambdaPi?apply http://mathhub.info/tmpGLIF/default?ddt?minor http://mathhub.info/tmpGLIF/default?ddt?fabian)']}\n"
     ]
    }
   ],
   "source": [
    "parse \"Fabian ist minderjährig\" | construct"
   ]
  },
  {
   "cell_type": "code",
   "execution_count": 14,
   "id": "95bdb55a",
   "metadata": {},
   "outputs": [
    {
     "data": {
      "text/html": [
       "<span class=\"glif-stdout\">evE [e:event]((sparevent e)∧(Patient e taschengeld))∧(Agent e fabian)</span>"
      ]
     },
     "metadata": {},
     "output_type": "display_data"
    },
    {
     "name": "stdout",
     "output_type": "stream",
     "text": [
      "{'elpi': ['(event_exists (E/e \\\\ and (and (sparevent E/e) (Patient E/e taschengeld)) (Agent E/e fabian)))'], 'mmt': ['evE [e:event]((sparevent e)∧(Patient e taschengeld))∧(Agent e fabian)'], 'mmtplain': ['(http://cds.omdoc.org/urtheories?LambdaPi?apply http://mathhub.info/tmpGLIF/default?DL_Star_Predicate?event_exists (http://cds.omdoc.org/urtheories?LambdaPi?lambda [e : http://mathhub.info/tmpGLIF/default?DL_Star_Predicate?event] (http://cds.omdoc.org/urtheories?LambdaPi?apply latin:/?Conjunction?and (http://cds.omdoc.org/urtheories?LambdaPi?apply latin:/?Conjunction?and (http://cds.omdoc.org/urtheories?LambdaPi?apply http://mathhub.info/tmpGLIF/default?ddt?sparevent e) (http://cds.omdoc.org/urtheories?LambdaPi?apply http://mathhub.info/tmpGLIF/default?DL_Star_Predicate?Patient e http://mathhub.info/tmpGLIF/default?ddt?taschengeld)) (http://cds.omdoc.org/urtheories?LambdaPi?apply http://mathhub.info/tmpGLIF/default?DL_Star_Predicate?Agent e http://mathhub.info/tmpGLIF/default?ddt?fabian))))']}\n"
     ]
    }
   ],
   "source": [
    "parse \"Fabian spart das Taschengeld\" | construct"
   ]
  },
  {
   "cell_type": "code",
   "execution_count": 15,
   "id": "1fd35380",
   "metadata": {},
   "outputs": [
    {
     "data": {
      "text/html": [
       "<span class=\"glif-stdout\">evE [e:event]((((kaufevent e)∧(Patient e spielzeugpistole))∧(von e pers_m))∧(mit e taschengeld))∧(Agent e fabian)</span>"
      ]
     },
     "metadata": {},
     "output_type": "display_data"
    },
    {
     "name": "stdout",
     "output_type": "stream",
     "text": [
      "{'elpi': ['(event_exists (E/e \\\\ and (and (and (and (kaufevent E/e) (Patient E/e spielzeugpistole)) (von E/e pers_m)) (mit E/e taschengeld)) (Agent E/e fabian)))'], 'mmt': ['evE [e:event]((((kaufevent e)∧(Patient e spielzeugpistole))∧(von e pers_m))∧(mit e taschengeld))∧(Agent e fabian)'], 'mmtplain': ['(http://cds.omdoc.org/urtheories?LambdaPi?apply http://mathhub.info/tmpGLIF/default?DL_Star_Predicate?event_exists (http://cds.omdoc.org/urtheories?LambdaPi?lambda [e : http://mathhub.info/tmpGLIF/default?DL_Star_Predicate?event] (http://cds.omdoc.org/urtheories?LambdaPi?apply latin:/?Conjunction?and (http://cds.omdoc.org/urtheories?LambdaPi?apply latin:/?Conjunction?and (http://cds.omdoc.org/urtheories?LambdaPi?apply latin:/?Conjunction?and (http://cds.omdoc.org/urtheories?LambdaPi?apply latin:/?Conjunction?and (http://cds.omdoc.org/urtheories?LambdaPi?apply http://mathhub.info/tmpGLIF/default?ddt?kaufevent e) (http://cds.omdoc.org/urtheories?LambdaPi?apply http://mathhub.info/tmpGLIF/default?DL_Star_Predicate?Patient e http://mathhub.info/tmpGLIF/default?ddt?spielzeugpistole)) (http://cds.omdoc.org/urtheories?LambdaPi?apply http://mathhub.info/tmpGLIF/default?DL_Star_Predicate?von e http://mathhub.info/tmpGLIF/default?ddt?pers_m)) (http://cds.omdoc.org/urtheories?LambdaPi?apply http://mathhub.info/tmpGLIF/default?DL_Star_Predicate?mit e http://mathhub.info/tmpGLIF/default?ddt?taschengeld)) (http://cds.omdoc.org/urtheories?LambdaPi?apply http://mathhub.info/tmpGLIF/default?DL_Star_Predicate?Agent e http://mathhub.info/tmpGLIF/default?ddt?fabian))))']}\n"
     ]
    }
   ],
   "source": [
    "parse \"Fabian kauft die Spielzeugpistole von M. mit dem Taschengeld\" | construct"
   ]
  },
  {
   "cell_type": "code",
   "execution_count": 16,
   "id": "e91049f8",
   "metadata": {},
   "outputs": [
    {
     "data": {
      "text/html": [
       "<span class=\"glif-stderr\">XYZNo command given</span>"
      ]
     },
     "metadata": {},
     "output_type": "display_data"
    }
   ],
   "source": [
    "-- wenn es einen eigentümer und einen besitzer gibt, dann darf der eigentümer die Herausgabe verlangen"
   ]
  },
  {
   "cell_type": "code",
   "execution_count": 17,
   "id": "a2395386",
   "metadata": {},
   "outputs": [
    {
     "data": {
      "text/html": [
       "<span class=\"glif-stderr\">XYZNo command given</span>"
      ]
     },
     "metadata": {},
     "output_type": "display_data"
    }
   ],
   "source": [
    "-- Fabian verlangt"
   ]
  },
  {
   "cell_type": "code",
   "execution_count": null,
   "id": "19e26d19",
   "metadata": {},
   "outputs": [],
   "source": []
  },
  {
   "cell_type": "code",
   "execution_count": 18,
   "id": "a88662d0",
   "metadata": {},
   "outputs": [
    {
     "data": {
      "text/html": [
       "<span class=\"glif-stdout\">evE [e:event]((((kaufevent e)∧(Patient e spielzeugpistole))∧(von e pers_m))∧(mit e taschengeld))∧(Agent e fabian)</span>"
      ]
     },
     "metadata": {},
     "output_type": "display_data"
    },
    {
     "name": "stdout",
     "output_type": "stream",
     "text": [
      "{'elpi': ['(event_exists (E/e \\\\ and (and (and (and (kaufevent E/e) (Patient E/e spielzeugpistole)) (von E/e pers_m)) (mit E/e taschengeld)) (Agent E/e fabian)))'], 'mmt': ['evE [e:event]((((kaufevent e)∧(Patient e spielzeugpistole))∧(von e pers_m))∧(mit e taschengeld))∧(Agent e fabian)'], 'mmtplain': ['(http://cds.omdoc.org/urtheories?LambdaPi?apply http://mathhub.info/tmpGLIF/default?DL_Star_Predicate?event_exists (http://cds.omdoc.org/urtheories?LambdaPi?lambda [e : http://mathhub.info/tmpGLIF/default?DL_Star_Predicate?event] (http://cds.omdoc.org/urtheories?LambdaPi?apply latin:/?Conjunction?and (http://cds.omdoc.org/urtheories?LambdaPi?apply latin:/?Conjunction?and (http://cds.omdoc.org/urtheories?LambdaPi?apply latin:/?Conjunction?and (http://cds.omdoc.org/urtheories?LambdaPi?apply latin:/?Conjunction?and (http://cds.omdoc.org/urtheories?LambdaPi?apply http://mathhub.info/tmpGLIF/default?ddt?kaufevent e) (http://cds.omdoc.org/urtheories?LambdaPi?apply http://mathhub.info/tmpGLIF/default?DL_Star_Predicate?Patient e http://mathhub.info/tmpGLIF/default?ddt?spielzeugpistole)) (http://cds.omdoc.org/urtheories?LambdaPi?apply http://mathhub.info/tmpGLIF/default?DL_Star_Predicate?von e http://mathhub.info/tmpGLIF/default?ddt?pers_m)) (http://cds.omdoc.org/urtheories?LambdaPi?apply http://mathhub.info/tmpGLIF/default?DL_Star_Predicate?mit e http://mathhub.info/tmpGLIF/default?ddt?taschengeld)) (http://cds.omdoc.org/urtheories?LambdaPi?apply http://mathhub.info/tmpGLIF/default?DL_Star_Predicate?Agent e http://mathhub.info/tmpGLIF/default?ddt?fabian))))']}\n"
     ]
    }
   ],
   "source": [
    "parse \"Fabian kauft die Spielzeugpistole von M. mit dem Taschengeld\" | construct"
   ]
  },
  {
   "cell_type": "code",
   "execution_count": 19,
   "id": "8d65ce20",
   "metadata": {},
   "outputs": [
    {
     "data": {
      "text/html": [
       "<span class=\"glif-stdout\"><br/>theory generated : http://mathhub.info/tmpGLIF/default?ddt&nbsp;&nbsp;= <br/>\te0\t<br/>\t\t: event<br/>\t❙<br/>\ts27\t<br/>\t\t: ⊦(([e:event]((((kaufevent e)∧(Patient e spielzeugpistole))∧(von e pers_m))∧(mit e taschengeld))∧(Agent e fabian)) e0)<br/>\t❙<br/><br/>❚<br/></span>"
      ]
     },
     "metadata": {},
     "output_type": "display_data"
    },
    {
     "name": "stdout",
     "output_type": "stream",
     "text": [
      "{'elpi': ['(event_exists (E/e \\\\ and (and (and (and (kaufevent E/e) (Patient E/e spielzeugpistole)) (von E/e pers_m)) (mit E/e taschengeld)) (Agent E/e fabian)))'], 'mmt': ['evE [e:event]((((kaufevent e)∧(Patient e spielzeugpistole))∧(von e pers_m))∧(mit e taschengeld))∧(Agent e fabian)'], 'mmtplain': ['(http://cds.omdoc.org/urtheories?LambdaPi?apply http://mathhub.info/tmpGLIF/default?DL_Star_Predicate?event_exists (http://cds.omdoc.org/urtheories?LambdaPi?lambda [e : http://mathhub.info/tmpGLIF/default?DL_Star_Predicate?event] (http://cds.omdoc.org/urtheories?LambdaPi?apply latin:/?Conjunction?and (http://cds.omdoc.org/urtheories?LambdaPi?apply latin:/?Conjunction?and (http://cds.omdoc.org/urtheories?LambdaPi?apply latin:/?Conjunction?and (http://cds.omdoc.org/urtheories?LambdaPi?apply latin:/?Conjunction?and (http://cds.omdoc.org/urtheories?LambdaPi?apply http://mathhub.info/tmpGLIF/default?ddt?kaufevent e) (http://cds.omdoc.org/urtheories?LambdaPi?apply http://mathhub.info/tmpGLIF/default?DL_Star_Predicate?Patient e http://mathhub.info/tmpGLIF/default?ddt?spielzeugpistole)) (http://cds.omdoc.org/urtheories?LambdaPi?apply http://mathhub.info/tmpGLIF/default?DL_Star_Predicate?von e http://mathhub.info/tmpGLIF/default?ddt?pers_m)) (http://cds.omdoc.org/urtheories?LambdaPi?apply http://mathhub.info/tmpGLIF/default?DL_Star_Predicate?mit e http://mathhub.info/tmpGLIF/default?ddt?taschengeld)) (http://cds.omdoc.org/urtheories?LambdaPi?apply http://mathhub.info/tmpGLIF/default?DL_Star_Predicate?Agent e http://mathhub.info/tmpGLIF/default?ddt?fabian))))']}\n",
      "TERMS: ['evE [e:event]((((kaufevent e)∧(Patient e spielzeugpistole))∧(von e pers_m))∧(mit e taschengeld))∧(Agent e fabian)']\n"
     ]
    }
   ],
   "source": [
    "parse \"Fabian kauft die Spielzeugpistole von M. mit dem Taschengeld\" | construct | populate -meta=ddt -mode=events"
   ]
  },
  {
   "cell_type": "code",
   "execution_count": 20,
   "id": "f2365a83",
   "metadata": {},
   "outputs": [
    {
     "data": {
      "text/html": [
       "<span class=\"glif-stdout\"><br/>theory generated : http://mathhub.info/tmpGLIF/default?ddt&nbsp;&nbsp;= <br/>\tx0\t<br/>\t\t: evE [e:event]((((kaufevent e)∧(Patient e spielzeugpistole))∧(von e pers_m))∧(mit e taschengeld))∧(Agent e fabian)<br/>\t❙<br/><br/>❚<br/></span>"
      ]
     },
     "metadata": {},
     "output_type": "display_data"
    },
    {
     "name": "stdout",
     "output_type": "stream",
     "text": [
      "TERMS: ['evE [e:event]((((kaufevent e)∧(Patient e spielzeugpistole))∧(von e pers_m))∧(mit e taschengeld))∧(Agent e fabian)']\n"
     ]
    }
   ],
   "source": [
    "populate -meta=ddt \"evE [e:event]((((kaufevent e)∧(Patient e spielzeugpistole))∧(von e pers_m))∧(mit e taschengeld))∧(Agent e fabian)\""
   ]
  },
  {
   "cell_type": "code",
   "execution_count": 21,
   "id": "a75ed61a",
   "metadata": {},
   "outputs": [
    {
     "data": {
      "text/html": [
       "\n",
       "<br/><span class=\"glif-stderr\"><b>Errors</b><br/>\"populate\" failed.<br/>info.kwarc.mmt.api.SourceError<br/> of level <br/>2<br/>unbound token: http<br/>source error (object-parser) at #1.0.1:4.0.4<br/><br/><br/>info.kwarc.mmt.api.parser.NotationBasedParser.makeError(NotationBasedParser.scala:81)<br/>info.kwarc.mmt.api.parser.NotationBasedParser.makeTerm(NotationBasedParser.scala:354)<br/>info.kwarc.mmt.api.parser.NotationBasedParser.makeTerm(NotationBasedParser.scala:386)<br/>info.kwarc.mmt.api.parser.NotationBasedParser.doFoundContent\\$1(NotationBasedParser.scala:534)<br/>info.kwarc.mmt.api.parser.NotationBasedParser.\\$anonfun\\$makeTermFromMatchedList\\$6(NotationBasedParser.scala:627)<br/>info.kwarc.mmt.api.parser.NotationBasedParser.\\$anonfun\\$makeTermFromMatchedList\\$6\\$adapted(NotationBasedParser.scala:593)<br/>scala.collection.immutable.List.foreach(List.scala:333)<br/>info.kwarc.mmt.api.parser.NotationBasedParser.\\$anonfun\\$makeTermFromMatchedList\\$4(NotationBasedParser.scala:593)<br/>info.kwarc.mmt.api.parser.NotationBasedParser.\\$anonfun\\$makeTermFromMatchedList\\$4\\$adapted(NotationBasedParser.scala:586)<br/>scala.collection.immutable.List.foreach(List.scala:333)<br/>info.kwarc.mmt.api.parser.NotationBasedParser.makeTermFromMatchedList(NotationBasedParser.scala:586)<br/>info.kwarc.mmt.api.parser.NotationBasedParser.makeTerm(NotationBasedParser.scala:370)<br/>info.kwarc.mmt.api.parser.NotationBasedParser.makeTerm(NotationBasedParser.scala:386)<br/>info.kwarc.mmt.api.parser.NotationBasedParser.doFoundContent\\$1(NotationBasedParser.scala:534)<br/>info.kwarc.mmt.api.parser.NotationBasedParser.\\$anonfun\\$makeTermFromMatchedList\\$6(NotationBasedParser.scala:627)<br/>info.kwarc.mmt.api.parser.NotationBasedParser.\\$anonfun\\$makeTermFromMatchedList\\$6\\$adapted(NotationBasedParser.scala:593)<br/>scala.collection.immutable.List.foreach(List.scala:333)<br/>info.kwarc.mmt.api.parser.NotationBasedParser.\\$anonfun\\$makeTermFromMatchedList\\$4(NotationBasedParser.scala:593)<br/>info.kwarc.mmt.api.parser.NotationBasedParser.\\$anonfun\\$makeTermFromMatchedList\\$4\\$adapted(NotationBasedParser.scala:586)<br/>scala.collection.immutable.List.foreach(List.scala:333)<br/>info.kwarc.mmt.api.parser.NotationBasedParser.makeTermFromMatchedList(NotationBasedParser.scala:586)<br/>info.kwarc.mmt.api.parser.NotationBasedParser.makeTerm(NotationBasedParser.scala:370)<br/>info.kwarc.mmt.api.parser.NotationBasedParser.makeTerm(NotationBasedParser.scala:386)<br/>info.kwarc.mmt.api.parser.NotationBasedParser.doFoundContent\\$1(NotationBasedParser.scala:534)<br/>info.kwarc.mmt.api.parser.NotationBasedParser.\\$anonfun\\$makeTermFromMatchedList\\$6(NotationBasedParser.scala:627)<br/>info.kwarc.mmt.api.parser.NotationBasedParser.\\$anonfun\\$makeTermFromMatchedList\\$6\\$adapted(NotationBasedParser.scala:593)<br/>scala.collection.immutable.List.foreach(List.scala:333)<br/>info.kwarc.mmt.api.parser.NotationBasedParser.\\$anonfun\\$makeTermFromMatchedList\\$4(NotationBasedParser.scala:593)<br/>info.kwarc.mmt.api.parser.NotationBasedParser.\\$anonfun\\$makeTermFromMatchedList\\$4\\$adapted(NotationBasedParser.scala:586)<br/>scala.collection.immutable.List.foreach(List.scala:333)<br/>info.kwarc.mmt.api.parser.NotationBasedParser.makeTermFromMatchedList(NotationBasedParser.scala:586)<br/>info.kwarc.mmt.api.parser.NotationBasedParser.makeTerm(NotationBasedParser.scala:370)<br/>info.kwarc.mmt.api.parser.NotationBasedParser.makeTerm(NotationBasedParser.scala:386)<br/>info.kwarc.mmt.api.parser.NotationBasedParser.\\$anonfun\\$parse\\$10(NotationBasedParser.scala:130)<br/>info.kwarc.mmt.api.frontend.Logger.logGroup(Log.scala:34)<br/>info.kwarc.mmt.api.frontend.Logger.logGroup\\$(Log.scala:31)<br/>info.kwarc.mmt.api.parser.NotationBasedParser.logGroup(NotationBasedParser.scala:70)<br/>info.kwarc.mmt.api.parser.NotationBasedParser.info\\$kwarc\\$mmt\\$api\\$parser\\$NotationBasedParser\\$\\$parse(NotationBasedParser.scala:130)<br/>info.kwarc.mmt.api.parser.NotationBasedParser.apply(NotationBasedParser.scala:96)<br/>info.kwarc.mmt.api.parser.Parser.apply(Parser.scala:243)<br/>info.kwarc.mmt.glf.GlfAccumulateServer.parse\\$1(GlfAccumulateServer.scala:35)<br/>info.kwarc.mmt.glf.GlfAccumulateServer.\\$anonfun\\$apply\\$1(GlfAccumulateServer.scala:47)<br/>info.kwarc.mmt.glf.GlfAccumulateServer.\\$anonfun\\$apply\\$1\\$adapted(GlfAccumulateServer.scala:46)<br/>scala.collection.immutable.List.foreach(List.scala:333)<br/>info.kwarc.mmt.glf.GlfAccumulateServer.apply(GlfAccumulateServer.scala:46)<br/>info.kwarc.mmt.api.web.Server.resolveExtension(Server.scala:103)<br/>info.kwarc.mmt.api.web.Server.resolve(Server.scala:84)<br/>info.kwarc.mmt.api.web.Server.handleRequest(Server.scala:60)<br/>info.kwarc.mmt.api.web.TiscafServerImplementation\\$RequestHandler\\$\\$anon\\$1.act(TiscafServerImplementation.scala:49)<br/>tiscaf.HSimpleLet.aact(HLet.scala:168)<br/>tiscaf.HSimpleLet.aact\\$(HLet.scala:167)<br/>info.kwarc.mmt.api.web.TiscafServerImplementation\\$RequestHandler\\$\\$anon\\$1.aact(TiscafServerImplementation.scala:47)<br/>tiscaf.HAcceptor.talk(HAcceptor.scala:246)<br/>tiscaf.HSimplePeer.doTalkItself\\$1(HPeer.scala:134)<br/>tiscaf.HSimplePeer.\\$anonfun\\$readChannel\\$2(HPeer.scala:148)<br/>scala.runtime.java8.JFunction0\\$mcV\\$sp.apply(JFunction0\\$mcV\\$sp.scala:18)<br/>scala.concurrent.Future\\$.\\$anonfun\\$apply\\$1(Future.scala:672)<br/>scala.concurrent.impl.Promise\\$Transformation.run(Promise.scala:431)<br/>tiscaf.sync.SyncQuExecutionContext\\$\\$anon\\$1.run(SyncQuExecutionContext.scala:69)</span>"
      ]
     },
     "metadata": {},
     "output_type": "display_data"
    },
    {
     "name": "stdout",
     "output_type": "stream",
     "text": [
      "TERMS: ['(http://cds.omdoc.org/urtheories?LambdaPi?apply http://mathhub.info/tmpGLIF/default?DL_Star_Predicate?event_exists (http://cds.omdoc.org/urtheories?LambdaPi?lambda [e : http://mathhub.info/tmpGLIF/default?DL_Star_Predicate?event] (http://cds.omdoc.org/urtheories?LambdaPi?apply latin:/?Conjunction?and (http://cds.omdoc.org/urtheories?LambdaPi?apply latin:/?Conjunction?and (http://cds.omdoc.org/urtheories?LambdaPi?apply http://mathhub.info/tmpGLIF/default?ddt?sparevent e) (http://cds.omdoc.org/urtheories?LambdaPi?apply http://mathhub.info/tmpGLIF/default?DL_Star_Predicate?Patient e http://mathhub.info/tmpGLIF/default?ddt?taschengeld)) (http://cds.omdoc.org/urtheories?LambdaPi?apply http://mathhub.info/tmpGLIF/default?DL_Star_Predicate?Agent e http://mathhub.info/tmpGLIF/default?ddt?fabian))))']\n"
     ]
    }
   ],
   "source": [
    "populate -meta=ddt \"(http://cds.omdoc.org/urtheories?LambdaPi?apply http://mathhub.info/tmpGLIF/default?DL_Star_Predicate?event_exists (http://cds.omdoc.org/urtheories?LambdaPi?lambda [e : http://mathhub.info/tmpGLIF/default?DL_Star_Predicate?event] (http://cds.omdoc.org/urtheories?LambdaPi?apply latin:/?Conjunction?and (http://cds.omdoc.org/urtheories?LambdaPi?apply latin:/?Conjunction?and (http://cds.omdoc.org/urtheories?LambdaPi?apply http://mathhub.info/tmpGLIF/default?ddt?sparevent e) (http://cds.omdoc.org/urtheories?LambdaPi?apply http://mathhub.info/tmpGLIF/default?DL_Star_Predicate?Patient e http://mathhub.info/tmpGLIF/default?ddt?taschengeld)) (http://cds.omdoc.org/urtheories?LambdaPi?apply http://mathhub.info/tmpGLIF/default?DL_Star_Predicate?Agent e http://mathhub.info/tmpGLIF/default?ddt?fabian))))\""
   ]
  },
  {
   "cell_type": "code",
   "execution_count": null,
   "id": "456aa18c",
   "metadata": {},
   "outputs": [],
   "source": []
  }
 ],
 "metadata": {
  "kernelspec": {
   "display_name": "GLIF",
   "language": "glif",
   "name": "glif"
  },
  "language_info": {
   "file_extension": ".glif",
   "mimetype": "text/glif",
   "name": "GLIF"
  }
 },
 "nbformat": 4,
 "nbformat_minor": 5
}
