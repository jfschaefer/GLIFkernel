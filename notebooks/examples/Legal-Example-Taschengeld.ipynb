{
 "cells": [
  {
   "cell_type": "code",
   "execution_count": 29,
   "id": "1127033f",
   "metadata": {},
   "outputs": [
    {
     "data": {
      "text/html": [
       "<span class=\"glif-stdout\">Successfully imported Grammar.gf</span>"
      ]
     },
     "metadata": {},
     "output_type": "display_data"
    }
   ],
   "source": [
    "abstract Grammar = {\n",
    "    cat\n",
    "        S;\n",
    "        VP;\n",
    "        NP;\n",
    "        Adj;\n",
    "        Object;\n",
    "        Person;\n",
    "    fun\n",
    "        pers2np: Person -> NP;\n",
    "        obj2np: Object -> NP;\n",
    "        \n",
    "        sentence1: NP -> Adj -> S;\n",
    "        sentence2: NP -> VP -> S;\n",
    "        \n",
    "        fabian: Person;\n",
    "        minor: Adj;\n",
    "        person_m: Person;\n",
    "        pocketmoney: Object;\n",
    "        gun: Object;\n",
    "        mit: VP -> NP -> VP;\n",
    "        von: VP -> NP -> VP;\n",
    "        kaufen: NP -> VP;\n",
    "}"
   ]
  },
  {
   "cell_type": "code",
   "execution_count": 30,
   "id": "143026bd",
   "metadata": {},
   "outputs": [
    {
     "data": {
      "text/html": [
       "<span class=\"glif-stdout\">Successfully imported GrammarGer.gf</span>"
      ]
     },
     "metadata": {},
     "output_type": "display_data"
    }
   ],
   "source": [
    "concrete GrammarGer of Grammar = {\n",
    "  lincat\n",
    "    S = Str;\n",
    "    VP = Str;\n",
    "    NP = Str;\n",
    "    Adj = Str;\n",
    "    Object = Str;\n",
    "    Person = Str;\n",
    "\n",
    "  lin\n",
    "    pers2np p = p;\n",
    "    obj2np o = o;\n",
    "\n",
    "    sentence1 np adj = np ++ \"ist\" ++ adj;\n",
    "    sentence2 np vp = np ++ vp;\n",
    "\n",
    "    fabian = \"Fabian\";\n",
    "    minor = \"minderjährig\";\n",
    "    person_m = \"M.\";\n",
    "    pocketmoney = \"dem Taschengeld\";\n",
    "    gun = \"die Spielzeugpistole\";\n",
    "    mit vp np = vp ++ \"mit\" ++ np;\n",
    "    von vp np = vp ++ \"von\" ++ np;\n",
    "    kaufen np = \"kauft\" ++ np;\n",
    "    \n",
    "}\n"
   ]
  },
  {
   "cell_type": "code",
   "execution_count": 31,
   "id": "c8f189ef",
   "metadata": {},
   "outputs": [
    {
     "data": {
      "text/html": [
       "<span class=\"glif-stdout\">sentence1 (pers2np fabian) minor</span>"
      ]
     },
     "metadata": {},
     "output_type": "display_data"
    }
   ],
   "source": [
    "parse \"Fabian ist minderjährig\""
   ]
  },
  {
   "cell_type": "code",
   "execution_count": 32,
   "id": "4a75c917",
   "metadata": {},
   "outputs": [
    {
     "data": {
      "text/html": [
       "<span class=\"glif-stdout\">sentence2 (pers2np fabian) (mit (von (kaufen (obj2np gun)) (pers2np person_m)) (obj2np pocketmoney))</span>"
      ]
     },
     "metadata": {},
     "output_type": "display_data"
    }
   ],
   "source": [
    "parse \"Fabian kauft die Spielzeugpistole von M. mit dem Taschengeld\""
   ]
  },
  {
   "cell_type": "code",
   "execution_count": 51,
   "id": "9ba967c3",
   "metadata": {},
   "outputs": [
    {
     "data": {
      "text/html": [
       "<span class=\"glif-stdout\">Successfully imported ddt.mmt</span>"
      ]
     },
     "metadata": {},
     "output_type": "display_data"
    }
   ],
   "source": [
    "theory ddt : ur:?LF =\n",
    "    prop: type ❘ # o ❙\n",
    "    individual: type ❘ # ι ❙\n",
    "    and: o ⟶ o ⟶ o ❘ # 1 ∧ 2 ❙\n",
    "    not : o ⟶ o ❘ # ¬ 1 ❙\n",
    "    exists: (ι ⟶ o) ⟶ o ❘ # ∃ 1 ❙\n",
    "\n",
    "    ag: ι ⟶ ι ⟶ o ❙\n",
    "    pat: ι ⟶ ι ⟶ o ❙\n",
    "    von: ι ⟶ ι ⟶ o ❙\n",
    "    mit: ι ⟶ ι ⟶ o ❙\n",
    "    \n",
    "    fabian: ι ❙\n",
    "    pers_m: ι ❙\n",
    "    taschengeld: ι ❙\n",
    "    spielzeugpistole: ι ❙\n",
    "    minor: ι ⟶ o ❙\n",
    "    kaufevent: ι ⟶ o ❙\n",
    "❚"
   ]
  },
  {
   "cell_type": "code",
   "execution_count": 54,
   "id": "dd8ea5b3",
   "metadata": {},
   "outputs": [
    {
     "data": {
      "text/html": [
       "<span class=\"glif-stdout\">Successfully imported GrammarSemantics.mmt</span>"
      ]
     },
     "metadata": {},
     "output_type": "display_data"
    }
   ],
   "source": [
    "view GrammarSemantics : http://mathhub.info/tmpGLIF/default/Grammar.gf?Grammar -> ?ddt =\n",
    "    S = o ❙\n",
    "    VP = ι ⟶ o ❙   // event ⟶ o ❙\n",
    "    NP = ι ❙\n",
    "    Adj = ι ⟶ o ❙\n",
    "    Object = ι ❙\n",
    "    Person = ι ❙\n",
    "\n",
    "    pers2np = [x] x ❙\n",
    "    obj2np = [x] x ❙\n",
    "    sentence1 = [np, adj] adj np ❙\n",
    "    sentence2 = [np:ι, vp:ι⟶o] exists [e:ι] vp e ∧ ag e np ❙\n",
    "    fabian = fabian ❙\n",
    "    minor = minor ❙\n",
    "    person_m = pers_m ❙\n",
    "    pocketmoney = taschengeld ❙\n",
    "    gun = spielzeugpistole ❙\n",
    "    mit = [vp] [np] [e] (vp e) ∧ (mit e np) ❙\n",
    "    von = [vp] [np] [e] (vp e) ∧ (von e np) ❙\n",
    "    kaufen = [s] [e] kaufevent e ∧ pat e s ❙\n",
    "❚\n"
   ]
  },
  {
   "cell_type": "code",
   "execution_count": 55,
   "id": "38818f11",
   "metadata": {},
   "outputs": [
    {
     "data": {
      "text/html": [
       "<span class=\"glif-stdout\">minor fabian</span>"
      ]
     },
     "metadata": {},
     "output_type": "display_data"
    }
   ],
   "source": [
    "parse \"Fabian ist minderjährig\" | construct"
   ]
  },
  {
   "cell_type": "code",
   "execution_count": 56,
   "id": "1fd35380",
   "metadata": {},
   "outputs": [
    {
     "data": {
      "text/html": [
       "<span class=\"glif-stdout\">∃[e:ι]((((kaufevent e)∧(pat e spielzeugpistole))∧(von e pers_m))∧(mit e taschengeld))∧(ag e fabian)</span>"
      ]
     },
     "metadata": {},
     "output_type": "display_data"
    }
   ],
   "source": [
    "parse \"Fabian kauft die Spielzeugpistole von M. mit dem Taschengeld\" | construct"
   ]
  },
  {
   "cell_type": "code",
   "execution_count": null,
   "id": "e91049f8",
   "metadata": {},
   "outputs": [],
   "source": []
  }
 ],
 "metadata": {
  "kernelspec": {
   "display_name": "GLIF",
   "language": "glif",
   "name": "glif"
  },
  "language_info": {
   "file_extension": ".glif",
   "mimetype": "text/glif",
   "name": "GLIF"
  }
 },
 "nbformat": 4,
 "nbformat_minor": 5
}
