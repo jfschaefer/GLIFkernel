{
 "cells": [
  {
   "cell_type": "code",
   "execution_count": 24,
   "id": "1127033f",
   "metadata": {},
   "outputs": [
    {
     "data": {
      "text/html": [
       "<span class=\"glif-stdout\">Successfully imported Grammar.gf</span>"
      ]
     },
     "metadata": {},
     "output_type": "display_data"
    }
   ],
   "source": [
    "abstract Grammar = {\n",
    "    cat\n",
    "        S;\n",
    "        VP;\n",
    "        NP;\n",
    "        Adj;\n",
    "        Object;\n",
    "        Person;\n",
    "    fun\n",
    "        pers2np: Person -> NP;\n",
    "        obj2np: Object -> NP;\n",
    "        \n",
    "        sentence1: NP -> Adj -> S;\n",
    "        sentence2: NP -> VP -> S;\n",
    "        \n",
    "        fabian: Person;\n",
    "        minor: Adj;\n",
    "        person_m: Person;\n",
    "        pocketmoney: Object;\n",
    "        gun: Object;\n",
    "        mit: VP -> NP -> VP;\n",
    "        von: VP -> NP -> VP;\n",
    "        kaufen: NP -> VP;\n",
    "        sparen: NP -> VP;\n",
    "}"
   ]
  },
  {
   "cell_type": "code",
   "execution_count": 25,
   "id": "143026bd",
   "metadata": {},
   "outputs": [
    {
     "data": {
      "text/html": [
       "<span class=\"glif-stdout\">Successfully imported GrammarGer.gf</span>"
      ]
     },
     "metadata": {},
     "output_type": "display_data"
    }
   ],
   "source": [
    "concrete GrammarGer of Grammar = {\n",
    "  lincat\n",
    "    S = Str;\n",
    "    VP = Str;\n",
    "    NP = Str;\n",
    "    Adj = Str;\n",
    "    Object = Str;\n",
    "    Person = Str;\n",
    "\n",
    "  lin\n",
    "    pers2np p = p;\n",
    "    obj2np o = o;\n",
    "\n",
    "    sentence1 np adj = np ++ \"ist\" ++ adj;\n",
    "    sentence2 np vp = np ++ vp;\n",
    "\n",
    "    fabian = \"Fabian\";\n",
    "    minor = \"minderjährig\";\n",
    "    person_m = \"M.\";\n",
    "    pocketmoney = (\"dem\"|\"das\") ++ \"Taschengeld\";\n",
    "    gun = \"die Spielzeugpistole\";\n",
    "    mit vp np = vp ++ \"mit\" ++ np;\n",
    "    von vp np = vp ++ \"von\" ++ np;\n",
    "    kaufen np = \"kauft\" ++ np;\n",
    "    sparen np = \"spart\" ++ np;\n",
    "}\n"
   ]
  },
  {
   "cell_type": "code",
   "execution_count": 16,
   "id": "c8f189ef",
   "metadata": {},
   "outputs": [
    {
     "data": {
      "text/html": [
       "<span class=\"glif-stdout\">sentence1 (pers2np fabian) minor</span>"
      ]
     },
     "metadata": {},
     "output_type": "display_data"
    }
   ],
   "source": [
    "parse \"Fabian ist minderjährig\""
   ]
  },
  {
   "cell_type": "code",
   "execution_count": 17,
   "id": "4a75c917",
   "metadata": {},
   "outputs": [
    {
     "data": {
      "text/html": [
       "<span class=\"glif-stdout\">sentence2 (pers2np fabian) (mit (von (kaufen (obj2np gun)) (pers2np person_m)) (obj2np pocketmoney))</span>"
      ]
     },
     "metadata": {},
     "output_type": "display_data"
    }
   ],
   "source": [
    "parse \"Fabian kauft die Spielzeugpistole von M. mit dem Taschengeld\""
   ]
  },
  {
   "cell_type": "code",
   "execution_count": 18,
   "id": "3aa746aa",
   "metadata": {},
   "outputs": [
    {
     "data": {
      "text/html": [
       "<span class=\"glif-stdout\">Successfully imported DL_Star_Predicate.mmt</span>"
      ]
     },
     "metadata": {},
     "output_type": "display_data"
    }
   ],
   "source": [
    "theory DL_Star_Predicate : latin:/?DL_Star =\n",
    "/T A predicate-logic-no-quantifiers version of the deontic logic DL_Star ❙\n",
    "//include ☞ur:?DiagramOperators ❙\n",
    "tm : type ❙\n",
    "event : type ❙\n",
    "nach : event ⟶ event ⟶ prop ❙\n",
    "verlauf_axiom : {X,Y,Z} ⊦ (nach X Y) ⟶ ⊦ (nach Y Z) ⟶ ⊦ (nach X Z)❙\n",
    "Agent : event ⟶ tm ⟶ prop❙\n",
    "Patient :  event ⟶ tm ⟶ prop ❙\n",
    "\n",
    "event_exists: (event ⟶ prop) ⟶ prop ❘ # e∃ 1 ❙\n",
    "von: event ⟶ tm ⟶ prop ❙\n",
    "mit: event ⟶ tm ⟶ prop ❙\n",
    "❚"
   ]
  },
  {
   "cell_type": "code",
   "execution_count": 26,
   "id": "42ee15af",
   "metadata": {},
   "outputs": [
    {
     "data": {
      "text/html": [
       "<span class=\"glif-stdout\">Successfully imported ddt.mmt</span>"
      ]
     },
     "metadata": {},
     "output_type": "display_data"
    }
   ],
   "source": [
    "theory ddt : ?DL_Star_Predicate =    \n",
    "    fabian: tm ❙\n",
    "    pers_m: tm ❙\n",
    "    taschengeld: tm ❙\n",
    "    spielzeugpistole: tm ❙\n",
    "    minor: tm ⟶ prop ❙\n",
    "    kaufevent: event ⟶ prop ❙\n",
    "    sparevent: event ⟶ prop ❙\n",
    "❚"
   ]
  },
  {
   "cell_type": "code",
   "execution_count": 27,
   "id": "dd8ea5b3",
   "metadata": {},
   "outputs": [
    {
     "data": {
      "text/html": [
       "<span class=\"glif-stdout\">Successfully imported GrammarSemantics.mmt</span>"
      ]
     },
     "metadata": {},
     "output_type": "display_data"
    }
   ],
   "source": [
    "view GrammarSemantics : http://mathhub.info/tmpGLIF/default/Grammar.gf?Grammar -> ?ddt =\n",
    "    S = prop ❙\n",
    "    VP = event ⟶ prop ❙\n",
    "    NP = tm ❙\n",
    "    Adj = tm ⟶ prop ❙\n",
    "    Object = tm ❙\n",
    "    Person = tm ❙\n",
    "\n",
    "    pers2np = [x] x ❙\n",
    "    obj2np = [x] x ❙\n",
    "    sentence1 = [np, adj] adj np ❙\n",
    "    sentence2 = [np, vp] e∃ [e] vp e ∧ Agent e np ❙\n",
    "    fabian = fabian ❙\n",
    "    minor = minor ❙\n",
    "    person_m = pers_m ❙\n",
    "    pocketmoney = taschengeld ❙\n",
    "    gun = spielzeugpistole ❙\n",
    "    mit = [vp] [np] [e] (vp e) ∧ (mit e np) ❙\n",
    "    von = [vp] [np] [e] (vp e) ∧ (von e np) ❙\n",
    "    kaufen = [s] [e] kaufevent e ∧ Patient e s ❙\n",
    "    sparen = [s] [e] sparevent e ∧ Patient e s ❙\n",
    "❚\n"
   ]
  },
  {
   "cell_type": "code",
   "execution_count": 28,
   "id": "38818f11",
   "metadata": {},
   "outputs": [
    {
     "data": {
      "text/html": [
       "<span class=\"glif-stdout\">minor fabian</span>"
      ]
     },
     "metadata": {},
     "output_type": "display_data"
    }
   ],
   "source": [
    "parse \"Fabian ist minderjährig\" | construct"
   ]
  },
  {
   "cell_type": "code",
   "execution_count": 30,
   "id": "95bdb55a",
   "metadata": {},
   "outputs": [
    {
     "data": {
      "text/html": [
       "<span class=\"glif-stdout\">e∃ [e]((sparevent e)∧(Patient e taschengeld))∧(Agent e fabian)</span>"
      ]
     },
     "metadata": {},
     "output_type": "display_data"
    }
   ],
   "source": [
    "parse \"Fabian spart das Taschengeld\" | construct"
   ]
  },
  {
   "cell_type": "code",
   "execution_count": 29,
   "id": "1fd35380",
   "metadata": {},
   "outputs": [
    {
     "data": {
      "text/html": [
       "<span class=\"glif-stdout\">e∃ [e]((((kaufevent e)∧(Patient e spielzeugpistole))∧(von e pers_m))∧(mit e taschengeld))∧(Agent e fabian)</span>"
      ]
     },
     "metadata": {},
     "output_type": "display_data"
    }
   ],
   "source": [
    "parse \"Fabian kauft die Spielzeugpistole von M. mit dem Taschengeld\" | construct"
   ]
  },
  {
   "cell_type": "code",
   "execution_count": 23,
   "id": "e91049f8",
   "metadata": {},
   "outputs": [
    {
     "data": {
      "text/html": [
       "<span class=\"glif-stderr\">No command given</span>"
      ]
     },
     "metadata": {},
     "output_type": "display_data"
    }
   ],
   "source": [
    "-- wenn es einen eigentümer und einen besitzer gibt, dann darf der eigentümer die Herausgabe verlangen"
   ]
  },
  {
   "cell_type": "code",
   "execution_count": null,
   "id": "a2395386",
   "metadata": {},
   "outputs": [],
   "source": [
    "-- Fabian verlangt"
   ]
  }
 ],
 "metadata": {
  "kernelspec": {
   "display_name": "GLIF",
   "language": "glif",
   "name": "glif"
  },
  "language_info": {
   "file_extension": ".glif",
   "mimetype": "text/glif",
   "name": "GLIF"
  }
 },
 "nbformat": 4,
 "nbformat_minor": 5
}
