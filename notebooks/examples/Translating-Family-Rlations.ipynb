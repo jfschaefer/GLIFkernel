{
 "cells": [
  {
   "cell_type": "markdown",
   "metadata": {},
   "source": [
    "# Translating Family Relations\n",
    "\n",
    "This notebook explores how GLIF can support GF-based translation by discarding contradictory readings.\n",
    "Concretely, we will look at the example sentence\n",
    "\n",
    "***Kim is Ahmed's cousin and the father of Grace.***\n",
    "\n",
    "The source of ambiguity is that *cousin* could refer to either a male or a female cousin.\n",
    "In German, there are different words for a male cousin (*Cousin*) and a female cousin (*Cousine*).\n",
    "(Technically, you could argue that *Cousin* and *Cousine* are the masculine and feminine form of the same\n",
    "word but then this example wouldn't work. Instead, we will treat *Cousin* and *Cousine* as different words,\n",
    "like e.g. *brother* and *sister* would be treated as different words.)\n",
    "\n",
    "Parsing the English sentence with GF, we would get two ASTs and thus two translations (one with *Cousin* and one with *Cousine*).\n",
    "However, we know that Kim is also the father of Grace and therefore Kim has to be male.\n",
    "Using GLIF, we can filter out readings with inconcistent gender assignments."
   ]
  },
  {
   "cell_type": "code",
   "execution_count": 1,
   "metadata": {},
   "outputs": [
    {
     "data": {
      "text/html": [
       "<span class=\"glif-stdout\">Successfully changed archive</span>"
      ]
     },
     "metadata": {},
     "output_type": "display_data"
    }
   ],
   "source": [
    "archive tmpGLIF/examples relatives"
   ]
  },
  {
   "cell_type": "markdown",
   "metadata": {},
   "source": [
    "## Grammar\n",
    "\n",
    "We'll create a small example grammar with concrete syntaxes for German and English.\n",
    "There is nothing really interesting happening here."
   ]
  },
  {
   "cell_type": "code",
   "execution_count": 2,
   "metadata": {},
   "outputs": [
    {
     "data": {
      "text/html": [
       "<span class=\"glif-stdout\">Successfully imported Grammar.gf</span>"
      ]
     },
     "metadata": {},
     "output_type": "display_data"
    }
   ],
   "source": [
    "abstract Grammar = {\n",
    "    cat\n",
    "        Person;\n",
    "        Persons;            -- can be object but not subject\n",
    "        Relation;           -- sibling\n",
    "        FilledRelation;     -- Jane's cousin,  the father of Ahmed\n",
    "        S;                  -- Sentence\n",
    "    fun\n",
    "        persons : Person -> Persons;\n",
    "        andPers : Person -> Persons -> Persons;\n",
    "        andFRel : FilledRelation -> FilledRelation -> FilledRelation;\n",
    "        fill : Relation -> Persons -> FilledRelation;\n",
    "        mkS : Person -> FilledRelation -> S;\n",
    "        \n",
    "        kim, ahmed, grace : Person;\n",
    "        father, mother, cousin_male, cousin_female, sister, brother : Relation;\n",
    "}"
   ]
  },
  {
   "cell_type": "code",
   "execution_count": 3,
   "metadata": {},
   "outputs": [
    {
     "data": {
      "text/html": [
       "<span class=\"glif-stdout\">Successfully imported GrammarEng.gf</span>"
      ]
     },
     "metadata": {},
     "output_type": "display_data"
    }
   ],
   "source": [
    "concrete GrammarEng of Grammar = {\n",
    "    oper\n",
    "        mkPers : Str -> Person = \\s -> lin Person {nom = s; gen = s + \"'s\"};\n",
    "    lincat\n",
    "        Person = {nom : Str ; gen : Str};\n",
    "        Persons = {nom : Str ; gen : Str};\n",
    "        Relation = {of_ : Str ; gen : Str};\n",
    "        FilledRelation = Str;\n",
    "        S = Str;\n",
    "    lin\n",
    "        persons a = a;\n",
    "        andPers a b = {nom = a.nom ++ \"and\" ++ b.nom; gen = a.gen ++ \"and\" ++ b.gen};\n",
    "        andFRel a b = a ++ \"and\" ++ b;\n",
    "        fill r p = (p.gen ++ r.gen) | (r.of_ ++ \"of\" ++ p.nom);\n",
    "        mkS p r = p.nom ++ \"is\" ++ r;\n",
    "        \n",
    "        kim = mkPers \"Kim\";\n",
    "        ahmed = mkPers \"Ahmed\";\n",
    "        grace = mkPers \"Grace\";\n",
    "        father = {of_ = \"the father\"; gen = \"father\"};\n",
    "        mother = {of_ = \"the mother\"; gen = \"mother\"};\n",
    "        cousin_male = {of_ = \"a cousin\"; gen = \"cousin\"};\n",
    "        cousin_female = {of_ = \"a cousin\"; gen = \"cousin\"};\n",
    "        sister = {of_ = \"a sister\"; gen = \"sister\"};\n",
    "        brother = {of_ = \"a brother\"; gen = \"brother\"};\n",
    "}"
   ]
  },
  {
   "cell_type": "code",
   "execution_count": 4,
   "metadata": {},
   "outputs": [
    {
     "data": {
      "text/html": [
       "<span class=\"glif-stdout\">Successfully imported GrammarGer.gf</span>"
      ]
     },
     "metadata": {},
     "output_type": "display_data"
    }
   ],
   "source": [
    "concrete GrammarGer of Grammar = {\n",
    "    oper\n",
    "        mkPers : Str -> Person = \\s -> lin Person {nom = s; gen = s + \"s\"};\n",
    "    lincat\n",
    "        Person = {nom : Str ; gen : Str};\n",
    "        Persons = {nom : Str ; gen : Str};\n",
    "        Relation = {of_ : Str ; gen : Str};\n",
    "        FilledRelation = Str;\n",
    "        S = Str;\n",
    "    lin\n",
    "        persons a = a;\n",
    "        andPers a b = {nom = a.nom ++ \"und\" ++ b.nom; gen = a.gen ++ \"und\" ++ b.gen};\n",
    "        andFRel a b = a ++ \"und\" ++ b;\n",
    "        fill r p = (p.gen ++ r.gen) | (r.of_ ++ \"von\" ++ p.nom);\n",
    "        mkS p r = p.nom ++ \"ist\" ++ r;\n",
    "        \n",
    "        kim = mkPers \"Kim\";\n",
    "        ahmed = mkPers \"Ahmed\";\n",
    "        grace = mkPers \"Grace\";\n",
    "        father = {of_ = \"der Vater\"; gen = \"Vater\"};\n",
    "        mother = {of_ = \"die Mutter\"; gen = \"Mutter\"};\n",
    "        cousin_male = {of_ = \"ein Cousin\"; gen = \"Cousin\"};\n",
    "        cousin_female = {of_ = \"eine Cousine\"; gen = \"Cousine\"};\n",
    "        sister = {of_ = \"eine Schwester\"; gen = \"Schwester\"};\n",
    "        brother = {of_ = \"ein Bruder\"; gen = \"Bruder\"};\n",
    "}"
   ]
  },
  {
   "cell_type": "code",
   "execution_count": 5,
   "metadata": {},
   "outputs": [
    {
     "data": {
      "text/html": [
       "<span class=\"glif-stdout\">mkS kim (andFRel (fill cousin_female (persons ahmed)) (fill father (persons grace)))<br/>mkS kim (andFRel (fill cousin_male (persons ahmed)) (fill father (persons grace)))</span>"
      ]
     },
     "metadata": {},
     "output_type": "display_data"
    },
    {
     "data": {
      "text/html": [
       "<hr class=\"glif-sep\"/>"
      ]
     },
     "metadata": {},
     "output_type": "display_data"
    },
    {
     "data": {
      "text/html": [
       "<span class=\"glif-stdout\">Kim ist Ahmeds Cousine und Graces Vater<br/>Kim ist Ahmeds Cousin und Graces Vater</span>"
      ]
     },
     "metadata": {},
     "output_type": "display_data"
    }
   ],
   "source": [
    "-- Parsing gives us two ASTs\n",
    "p -lang=Eng \"Kim is Ahmed's cousin and the father of Grace\"\n",
    "-- And subsequent linearization gives us two translations\n",
    "p -lang=Eng \"Kim is Ahmed's cousin and the father of Grace\" | l -lang=Ger"
   ]
  },
  {
   "cell_type": "markdown",
   "metadata": {},
   "source": [
    "## Semantics Construction\n",
    "\n",
    "We create a very simply logic and calculus for finding contradictions.\n",
    "The semantics extraction only extracts gender information and discards everything else."
   ]
  },
  {
   "cell_type": "code",
   "execution_count": 6,
   "metadata": {},
   "outputs": [
    {
     "data": {
      "text/html": [
       "<span class=\"glif-stdout\">Successfully imported logic.mmt</span>"
      ]
     },
     "metadata": {},
     "output_type": "display_data"
    }
   ],
   "source": [
    "// The syntax of our logic is very simple ❚\n",
    "theory logic : ur:?LF =\n",
    "    proposition : type ❘ # o ❙\n",
    "    pers : type ❙\n",
    "    and : o ⟶ o ⟶ o ❘ # 1 ∧ 2 prec 20 ❙\n",
    "    not : o ⟶ o ❘ # ¬ 1 prec 30 ❙\n",
    "❚"
   ]
  },
  {
   "cell_type": "code",
   "execution_count": 7,
   "metadata": {},
   "outputs": [
    {
     "data": {
      "text/html": [
       "<span class=\"glif-stdout\">Successfully imported DDT.mmt</span>"
      ]
     },
     "metadata": {},
     "output_type": "display_data"
    }
   ],
   "source": [
    "// The discourse domain theory (DDT) introduces e.g. the predicates and constants we will need. ❚\n",
    "theory DDT : ?logic =\n",
    "    fem : pers ⟶ o ❙\n",
    "    male : pers ⟶ o ❙\n",
    "    kim : pers ❙\n",
    "    ahmed : pers ❙\n",
    "    grace : pers ❙\n",
    "    true : o ❙\n",
    "    \n",
    "    // Create dummy type for things that will be discarded during β-reduction ❙\n",
    "    dummytype : type ❙\n",
    "    dummy : dummytype ❙\n",
    "❚"
   ]
  },
  {
   "cell_type": "code",
   "execution_count": 8,
   "metadata": {},
   "outputs": [
    {
     "data": {
      "text/html": [
       "<span class=\"glif-stdout\">Successfully imported calculus.mmt</span>"
      ]
     },
     "metadata": {},
     "output_type": "display_data"
    }
   ],
   "source": [
    "theory calculus : ur:?LF =\n",
    "    include ?logic ❙\n",
    "    ded : o ⟶ type ❘ # ⊢ 1 prec 5 ❘ role Judgment ❙  // You can read \"⊢A\" as \"A is true\" ❙\n",
    "    contradiction : type ❘ # ↯ ❘ role Judgment ❙\n",
    "    findContra : {A : o} ⊢ A ⟶ ⊢ ¬A ⟶ ↯ ❙            // if both A and ¬A are true, we have a contradiction ❙\n",
    "    // for our example, we only need rules for conjunction elimination ❙\n",
    "    andEl : {A} {B} ⊢ A ∧ B ⟶ ⊢ A ❙\n",
    "    andEr : {A} {B} ⊢ A ∧ B ⟶ ⊢ B ❙\n",
    "    \n",
    "    // domain specific rules ❙\n",
    "    include ?DDT ❙\n",
    "    genderContra : {p : pers} ⊢(male p) ⟶ ⊢(fem p) ⟶ ↯ ❙\n",
    "❚"
   ]
  },
  {
   "cell_type": "code",
   "execution_count": 9,
   "metadata": {},
   "outputs": [
    {
     "data": {
      "text/html": [
       "<span class=\"glif-stdout\">Successfully imported GrammarSemantics.mmt</span>"
      ]
     },
     "metadata": {},
     "output_type": "display_data"
    }
   ],
   "source": [
    "view GrammarSemantics : http://mathhub.info/tmpGLIF/examples/relatives/Grammar.gf?Grammar -> ?DDT =\n",
    "    Person = pers ❙\n",
    "    Persons = dummytype ❙\n",
    "    Relation = pers ⟶ o ❙\n",
    "    FilledRelation = pers ⟶ o ❙\n",
    "    S = o ❙\n",
    "\n",
    "    persons = [x] dummy ❙\n",
    "    andPers = [x,y] dummy ❙\n",
    "    andFRel = [p,q] [x] (and (p x) (q x)) ❙\n",
    "    fill = [p,x] p ❙\n",
    "    mkS = [x,p] (p x) ❙\n",
    "    kim = kim ❙\n",
    "    ahmed = ahmed ❙\n",
    "    grace = grace ❙\n",
    "    father = [x : pers] (male x) ❙\n",
    "    mother = [x] (fem x) ❙\n",
    "    cousin_male = [x] (male x) ❙\n",
    "    cousin_female = [x] (fem x) ❙\n",
    "    sister = [x] (fem x) ❙\n",
    "    brother = [x] (male x) ❙\n",
    "❚"
   ]
  },
  {
   "cell_type": "markdown",
   "metadata": {},
   "source": [
    "### Testing the Semantics Construction"
   ]
  },
  {
   "cell_type": "code",
   "execution_count": 10,
   "metadata": {},
   "outputs": [
    {
     "data": {
      "text/html": [
       "<span class=\"glif-stdout\">mkS kim (fill father (persons grace))</span>"
      ]
     },
     "metadata": {},
     "output_type": "display_data"
    }
   ],
   "source": [
    "parse -lang=Eng \"Kim is the father of Grace\""
   ]
  },
  {
   "cell_type": "code",
   "execution_count": 11,
   "metadata": {},
   "outputs": [
    {
     "data": {
      "text/html": [
       "<span class=\"glif-stdout\">([x,p]p x) kim (([p,x]p) ([x:pers]male x) (([x]dummy) grace))</span>"
      ]
     },
     "metadata": {},
     "output_type": "display_data"
    },
    {
     "data": {
      "text/html": [
       "<hr class=\"glif-sep\"/>"
      ]
     },
     "metadata": {},
     "output_type": "display_data"
    },
    {
     "data": {
      "text/html": [
       "<span class=\"glif-stdout\">male kim</span>"
      ]
     },
     "metadata": {},
     "output_type": "display_data"
    }
   ],
   "source": [
    "-- semantics construction results in a lot of dummy constants\n",
    "-- but they get removed by β-reduction (if we don't suppress the simplification)\n",
    "parse -lang=Eng \"Kim is the father of Grace\" | construct -no-simplify\n",
    "parse -lang=Eng \"Kim is the father of Grace\" | construct"
   ]
  },
  {
   "cell_type": "code",
   "execution_count": 12,
   "metadata": {},
   "outputs": [
    {
     "data": {
      "text/html": [
       "<span class=\"glif-stdout\">(fem kim)∧(male kim)<br/>(male kim)∧(male kim)</span>"
      ]
     },
     "metadata": {},
     "output_type": "display_data"
    }
   ],
   "source": [
    "-- the example sentence results in two semantic expressions\n",
    "parse -lang=Eng \"Kim is Ahmed's cousin and the father of Grace\" | construct"
   ]
  },
  {
   "cell_type": "markdown",
   "metadata": {},
   "source": [
    "## Semantic/Pragmatic Analysis\n",
    "\n",
    "Using a prover generated from the `calculus` theory, we can discard contradictory readings."
   ]
  },
  {
   "cell_type": "code",
   "execution_count": 13,
   "metadata": {},
   "outputs": [
    {
     "data": {
      "text/html": [
       "<span class=\"glif-stdout\">Successfully created calculus.elpi</span>"
      ]
     },
     "metadata": {},
     "output_type": "display_data"
    },
    {
     "data": {
      "text/html": [
       "<hr class=\"glif-sep\"/>"
      ]
     },
     "metadata": {},
     "output_type": "display_data"
    },
    {
     "data": {
      "text/html": [
       "<span class=\"glif-stdout\">Successfully created DDT.elpi</span>"
      ]
     },
     "metadata": {},
     "output_type": "display_data"
    }
   ],
   "source": [
    "-- generate a prover from the `calculus` theory\n",
    "elpigen -mode=simpleprover calculus\n",
    "-- generate signature of DDT\n",
    "elpigen DDT"
   ]
  },
  {
   "cell_type": "code",
   "execution_count": 14,
   "metadata": {},
   "outputs": [
    {
     "data": {
      "text/html": [
       "<span class=\"glif-stdout\">Successfully imported checker.elpi<br/>checker.elpi is the new default file for ELPI commands</span>"
      ]
     },
     "metadata": {},
     "output_type": "display_data"
    }
   ],
   "source": [
    "elpi-notc: checker\n",
    "accumulate calculus.  % generated prover\n",
    "accumulate Grammar.   % signature of ASTs (we don't use them here)\n",
    "accumulate DDT.       % signature of discourse domain theory\n",
    "\n",
    "% The `check` predicate fails if the prover found a contradiction (using iterative deepening up to depth 7)\n",
    "check Item :- glif.getLog Item P, ded/hyp _ P => contradiction (idcert 7), !, fail.\n",
    "check _."
   ]
  },
  {
   "cell_type": "markdown",
   "metadata": {},
   "source": [
    "## Final Demo"
   ]
  },
  {
   "cell_type": "code",
   "execution_count": 15,
   "metadata": {},
   "outputs": [
    {
     "data": {
      "text/html": [
       "<span class=\"glif-stdout\">mkS kim (andFRel (fill cousin_female (persons ahmed)) (fill father (persons grace)))<br/>mkS kim (andFRel (fill cousin_male (persons ahmed)) (fill father (persons grace)))</span>"
      ]
     },
     "metadata": {},
     "output_type": "display_data"
    }
   ],
   "source": [
    "-- we get 2 ASTs\n",
    "parse -lang=Eng \"Kim is Ahmed's cousin and the father of Grace\""
   ]
  },
  {
   "cell_type": "code",
   "execution_count": 16,
   "metadata": {},
   "outputs": [
    {
     "data": {
      "text/html": [
       "<span class=\"glif-stdout\">(fem kim)∧(male kim)<br/>(male kim)∧(male kim)</span>"
      ]
     },
     "metadata": {},
     "output_type": "display_data"
    }
   ],
   "source": [
    "-- Semantics construction gives us two logical expressions\n",
    "parse -lang=Eng \"Kim is Ahmed's cousin and the father of Grace\" | construct"
   ]
  },
  {
   "cell_type": "code",
   "execution_count": 17,
   "metadata": {},
   "outputs": [
    {
     "data": {
      "text/html": [
       "<span class=\"glif-stdout\">(male kim)∧(male kim)</span>"
      ]
     },
     "metadata": {},
     "output_type": "display_data"
    }
   ],
   "source": [
    "-- Let's filter out all contradictory expressions\n",
    "parse -lang=Eng \"Kim is Ahmed's cousin and the father of Grace\" | construct |\n",
    "    filter -notc -predicate=check"
   ]
  },
  {
   "cell_type": "code",
   "execution_count": 18,
   "metadata": {},
   "outputs": [
    {
     "data": {
      "text/html": [
       "<span class=\"glif-stdout\">Kim ist Ahmeds Cousin und Graces Vater</span>"
      ]
     },
     "metadata": {},
     "output_type": "display_data"
    }
   ],
   "source": [
    "-- GLIF keeps track of the ASTs, so we can linearize the remaining readings into German:\n",
    "parse -lang=Eng \"Kim is Ahmed's cousin and the father of Grace\" | construct |\n",
    "    filter -notc -predicate=check | linearize -lang=Ger"
   ]
  },
  {
   "cell_type": "code",
   "execution_count": 19,
   "metadata": {},
   "outputs": [
    {
     "data": {
      "text/html": [
       "<span class=\"glif-stdout\">Kim ist Ahmeds Cousine und Graces Vater<br/>Kim ist Ahmeds Cousin und Graces Vater</span>"
      ]
     },
     "metadata": {},
     "output_type": "display_data"
    }
   ],
   "source": [
    "-- With all this effort we removed one of the translations we would have gotten without filtering:\n",
    "parse -lang=Eng \"Kim is Ahmed's cousin and the father of Grace\" | linearize -lang=Ger"
   ]
  }
 ],
 "metadata": {
  "kernelspec": {
   "display_name": "GLIF",
   "language": "glif",
   "name": "glif"
  },
  "language_info": {
   "file_extension": ".glif",
   "mimetype": "text/glif",
   "name": "GLIF"
  }
 },
 "nbformat": 4,
 "nbformat_minor": 4
}
