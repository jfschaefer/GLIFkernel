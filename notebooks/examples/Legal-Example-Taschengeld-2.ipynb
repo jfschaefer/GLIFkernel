{
 "cells": [
  {
   "cell_type": "markdown",
   "id": "ac9824e5",
   "metadata": {},
   "source": [
    "# Part 1: Grammar"
   ]
  },
  {
   "cell_type": "code",
   "execution_count": 1,
   "id": "1127033f",
   "metadata": {},
   "outputs": [
    {
     "data": {
      "text/html": [
       "<span class=\"glif-stdout\">Successfully imported Grammar.gf</span>"
      ]
     },
     "metadata": {},
     "output_type": "display_data"
    }
   ],
   "source": [
    "abstract Grammar = {\n",
    "    cat\n",
    "        S;\n",
    "        VP;\n",
    "        NP;\n",
    "        Adj;\n",
    "        Object;\n",
    "        Person;\n",
    "        TimeRel;\n",
    "    fun\n",
    "        pers2np: Person -> NP;\n",
    "        obj2np: Object -> NP;\n",
    "        \n",
    "        sentence1: NP -> Adj -> S;\n",
    "        sentence2: NP -> VP -> S;\n",
    "        sentence3: TimeRel -> NP -> VP -> S;\n",
    "        \n",
    "        \n",
    "        later: TimeRel;\n",
    "        fabian: Person;\n",
    "        minor: Adj;\n",
    "        person_m: Person;\n",
    "        pocketmoney: Object;\n",
    "        gun: Object;\n",
    "        mit: VP -> NP -> VP;\n",
    "        von: VP -> NP -> VP;\n",
    "        kaufen: NP -> VP;\n",
    "        sparen: NP -> VP;\n",
    "        in_laden_haben: NP -> VP;\n",
    "}"
   ]
  },
  {
   "cell_type": "code",
   "execution_count": 2,
   "id": "143026bd",
   "metadata": {},
   "outputs": [
    {
     "data": {
      "text/html": [
       "<span class=\"glif-stdout\">Successfully imported GrammarGer.gf</span>"
      ]
     },
     "metadata": {},
     "output_type": "display_data"
    }
   ],
   "source": [
    "concrete GrammarGer of Grammar = {\n",
    "  lincat\n",
    "    S = Str;\n",
    "    VP = {left: Str; right: Str};\n",
    "    NP = Str;\n",
    "    Adj = Str;\n",
    "    Object = Str;\n",
    "    Person = Str;\n",
    "    TimeRel = Str;\n",
    "  lin\n",
    "    pers2np p = p;\n",
    "    obj2np o = o;\n",
    "\n",
    "    sentence1 np adj = np ++ \"ist\" ++ adj;\n",
    "    sentence2 np vp = np ++ vp.left ++ vp.right;\n",
    "    sentence3 tr np vp = tr ++ vp.left ++ np ++ vp.right;\n",
    "\n",
    "    later = \"später\";\n",
    "    fabian = \"Fabian\";\n",
    "    minor = \"minderjährig\";\n",
    "    person_m = \"M.\";\n",
    "    pocketmoney = (\"dem\"|\"das\") ++ \"Taschengeld\";\n",
    "    gun = \"die Spielzeugpistole\";\n",
    "    mit vp np = {left=vp.left; right=vp.right ++ \"mit\" ++ np};\n",
    "    von vp np = {left=vp.left; right=vp.right ++ \"von\" ++ np};\n",
    "    kaufen np = {left=\"kauft\"; right=np};\n",
    "    sparen np = {left=\"hat\"; right=np ++ \"gespart\"};\n",
    "    in_laden_haben np = {left=\"hat\"; right=np ++ \"in seinem Laden\"};\n",
    "}\n"
   ]
  },
  {
   "cell_type": "markdown",
   "id": "5c3ec1dc",
   "metadata": {},
   "source": [
    "# Part 2: Logic"
   ]
  },
  {
   "cell_type": "code",
   "execution_count": 3,
   "id": "3aa746aa",
   "metadata": {},
   "outputs": [
    {
     "data": {
      "text/html": [
       "<span class=\"glif-stdout\">Successfully imported DL_Star_Predicate.mmt</span>"
      ]
     },
     "metadata": {},
     "output_type": "display_data"
    }
   ],
   "source": [
    "theory DL_Star_Predicate : latin:/?DL_Star =\n",
    "    /T A predicate-logic-no-quantifiers version of the deontic logic DL_Star ❙\n",
    "    //include ☞ur:?DiagramOperators ❙\n",
    "    tm : type ❙\n",
    "    event : type ❙\n",
    "    after : event ⟶ event ⟶ prop ❘ # 1 nach 2 prec 150 ❙\n",
    "    simultaneous : event ⟶ event ⟶ prop ❘ # 1 zeitgleich 2 prec 150 ❙\n",
    "    verlauf_axiom : {X,Y,Z} ⊦ (after X Y) ⟶ ⊦ (after Y Z) ⟶ ⊦ (after X Z)❙\n",
    "    Agent : event ⟶ tm ⟶ prop❙\n",
    "    Patient :  event ⟶ tm ⟶ prop ❙\n",
    "\n",
    "    event_exists: (event ⟶ prop) ⟶ prop ❘ # evE 1 ❘ role EventIntroduction ❙\n",
    "    event_exists_rel: (event ⟶ event ⟶ prop) ⟶ prop ❘ # evEr 1 ❘ role EventRelIntroduction ❙\n",
    "    von: event ⟶ tm ⟶ prop ❙\n",
    "    mit: event ⟶ tm ⟶ prop ❙\n",
    "\n",
    "    proof_sketch : {A: prop} ⊦ A ❙\n",
    "❚"
   ]
  },
  {
   "cell_type": "code",
   "execution_count": 4,
   "id": "42ee15af",
   "metadata": {},
   "outputs": [
    {
     "data": {
      "text/html": [
       "<span class=\"glif-stdout\">Successfully imported ddt.mmt</span>"
      ]
     },
     "metadata": {},
     "output_type": "display_data"
    }
   ],
   "source": [
    "// the discourse domain theory (ddt) introduces terms, symbols and functions we might need ❚\n",
    "theory ddt : ?DL_Star_Predicate =    \n",
    "    fabian: tm ❙\n",
    "    pers_m: tm ❙\n",
    "    taschengeld: tm ❙\n",
    "    spielzeugpistole: tm ❙\n",
    "    minor: tm ⟶ prop ❙\n",
    "    kaufevent: event ⟶ prop ❙\n",
    "    sparevent: event ⟶ prop ❙\n",
    "    ladenevent : event ⟶ prop ❙\n",
    "    rückforderungsevent : event ⟶ prop ❙\n",
    "    disapprove : event ⟶ tm ⟶ prop ❙\n",
    "    eltern : tm ⟶ tm ❙\n",
    "❚"
   ]
  },
  {
   "cell_type": "markdown",
   "id": "50213b61",
   "metadata": {},
   "source": [
    "# Part 3: The semantics construction specifies how to map abstract syntax trees to logical expressions"
   ]
  },
  {
   "cell_type": "code",
   "execution_count": 5,
   "id": "f6492754",
   "metadata": {},
   "outputs": [
    {
     "data": {
      "text/html": [
       "<span class=\"glif-stdout\">Successfully imported GrammarSemantics.mmt</span>"
      ]
     },
     "metadata": {},
     "output_type": "display_data"
    }
   ],
   "source": [
    "view GrammarSemantics : http://mathhub.info/tmpGLIF/default/Grammar.gf?Grammar -> ?ddt =\n",
    "    S = prop ❙\n",
    "    VP = event ⟶ prop ❙\n",
    "    NP = tm ❙\n",
    "    Adj = tm ⟶ prop ❙\n",
    "    Object = tm ❙\n",
    "    Person = tm ❙\n",
    "    TimeRel = event ⟶ event ⟶ prop ❙\n",
    "\n",
    "    pers2np = [x] x ❙\n",
    "    obj2np = [x] x ❙\n",
    "    sentence1 = [np, adj] adj np ❙\n",
    "    sentence2 = [np, vp] evE [e:event] vp e ∧ Agent e np ❙\n",
    "    sentence3 = [tr,np,vp] evEr [prev:event, e:event] vp e ∧ Agent e np ∧ tr prev e ❙\n",
    "    later = after ❙\n",
    "    fabian = fabian ❙\n",
    "    minor = minor ❙\n",
    "    person_m = pers_m ❙\n",
    "    pocketmoney = taschengeld ❙\n",
    "    gun = spielzeugpistole ❙\n",
    "    mit = [vp] [np] [e] (vp e) ∧ (mit e np) ❙\n",
    "    von = [vp] [np] [e] (vp e) ∧ (von e np) ❙\n",
    "    kaufen = [s] [e] kaufevent e ∧ Patient e s ❙\n",
    "    sparen = [s] [e] sparevent e ∧ Patient e s ❙\n",
    "    in_laden_haben = [s] [e] ladenevent e ∧ Patient e s ❙\n",
    "❚"
   ]
  },
  {
   "cell_type": "code",
   "execution_count": 6,
   "id": "72219f71",
   "metadata": {},
   "outputs": [
    {
     "data": {
      "text/html": [
       "<span class=\"glif-stdout\">minor fabian</span>"
      ]
     },
     "metadata": {},
     "output_type": "display_data"
    },
    {
     "data": {
      "text/html": [
       "<hr class=\"glif-sep\"/>"
      ]
     },
     "metadata": {},
     "output_type": "display_data"
    },
    {
     "data": {
      "text/html": [
       "<span class=\"glif-stdout\">evE [e:event]((sparevent e)∧(Patient e taschengeld))∧(Agent e fabian)</span>"
      ]
     },
     "metadata": {},
     "output_type": "display_data"
    }
   ],
   "source": [
    "-- examples:\n",
    "parse \"Fabian ist minderjährig\" | construct\n",
    "parse \"Fabian hat das Taschengeld gespart\" | construct"
   ]
  },
  {
   "cell_type": "code",
   "execution_count": 7,
   "id": "d39081f7",
   "metadata": {},
   "outputs": [
    {
     "data": {
      "text/html": [
       "<span class=\"glif-stdout\"><br/>theory generated : http://mathhub.info/tmpGLIF/default?ddt&nbsp;&nbsp;= <br/>\ts0\t : ⊦(minor fabian) ❙<br/>\te0\t : event ❙<br/>\ts1\t : ⊦(([e:event]((ladenevent e)∧(Patient e spielzeugpistole))∧(Agent e pers_m)) e0) ❙<br/>\te1\t : event ❙<br/>\ts2\t : ⊦(([e:event]((sparevent e)∧(Patient e taschengeld))∧(Agent e fabian)) e1) ❙<br/>\te2\t : event ❙<br/>\ts3\t : ⊦(([prev:event][e:event](((((kaufevent e)∧(Patient e spielzeugpistole))∧(von e pers_m))∧(mit e taschengeld))∧(Agent e fabian))∧prev nach e) e2 e1) ❙<br/><br/>❚<br/></span>"
      ]
     },
     "metadata": {},
     "output_type": "display_data"
    }
   ],
   "source": [
    "-- we can use it to populate an MMT theory\n",
    "parse \"Fabian ist minderjährig\"\n",
    "    \"M. hat die Spielzeugpistole in seinem Laden\"\n",
    "    \"Fabian hat das Taschengeld gespart\"\n",
    "    \"später kauft Fabian die Spielzeugpistole von M. mit dem Taschengeld\" |\n",
    "    construct |\n",
    "    populate -meta=ddt -mode=events"
   ]
  },
  {
   "cell_type": "markdown",
   "id": "3a5b1aa8",
   "metadata": {},
   "source": [
    "# Manual Formalization"
   ]
  },
  {
   "cell_type": "code",
   "execution_count": 30,
   "id": "b6514c6a",
   "metadata": {},
   "outputs": [
    {
     "data": {
      "text/html": [
       "<span class=\"glif-stdout\">Successfully imported fall.mmt</span>"
      ]
     },
     "metadata": {},
     "output_type": "display_data"
    }
   ],
   "source": [
    "theory fall : ?ddt =\n",
    "    e0 : event ❙\n",
    "    e1 : event ❙\n",
    "    e2 : event ❙\n",
    "    e3 : event ❙\n",
    "    \n",
    "    // M. hat eine Spielzeugpistole in seinem Laden ❙\n",
    "    c0 : ⊦ ladenevent e0 ∧ Agent e0 pers_m ∧ Patient e0 spielzeugpistole ❙\n",
    "    \n",
    "    // Fabian hat das Taschengeld gespart ❙\n",
    "    c1 : ⊦ sparevent e1 ∧ Agent e1 fabian ∧ Patient e1 taschengeld ❙\n",
    "    time_sequence1 : ⊦ e1 zeitgleich e0 ❙\n",
    "\n",
    "    // Später kauft Fabian die Spielzeugpistole von M. mit dem Taschengeld gegen den Willen von Fabians Eltern ❙\n",
    "    c2 : ⊦ kaufevent e2 ∧ Agent e2 fabian ∧ Patient e2 spielzeugpistole ∧ von e2 pers_m ∧ mit e2 taschengeld ∧\n",
    "            disapprove e2 (eltern fabian) ❙\n",
    "    time_sequence2 : ⊦ e2 nach e1 ❙\n",
    "\n",
    "    // Danach fordert Fabian das Taschengeld von M. zurück ❙\n",
    "    c3 : ⊦ rückforderungsevent e3 ∧ Agent e3 fabian ∧ Patient e3 taschengeld ∧ von e3 pers_m ❙\n",
    "    time_sequence3 : ⊦ e3 nach e2 ❙\n",
    "    \n",
    "❚"
   ]
  },
  {
   "cell_type": "code",
   "execution_count": 31,
   "id": "048fed37",
   "metadata": {},
   "outputs": [
    {
     "data": {
      "text/html": [
       "<span class=\"glif-stdout\">Successfully imported paragraph985_lexicon.mmt</span>"
      ]
     },
     "metadata": {},
     "output_type": "display_data"
    }
   ],
   "source": [
    "theory paragraph985_lexicon : ?DL_Star_Predicate =\n",
    "    eigentuemer : event ⟶ tm ⟶ prop ❙\n",
    "    besitzer : event ⟶ tm ⟶ prop ❙\n",
    "    sache : event ⟶ tm ⟶ prop ❙\n",
    "    herausgabeevent : event ⟶ prop ❙\n",
    "❚"
   ]
  },
  {
   "cell_type": "code",
   "execution_count": 32,
   "id": "60374921",
   "metadata": {},
   "outputs": [
    {
     "data": {
      "text/html": [
       "<span class=\"glif-stdout\">Successfully imported paragraph985_bedingung.mmt</span>"
      ]
     },
     "metadata": {},
     "output_type": "display_data"
    }
   ],
   "source": [
    "theory paragraph985_bedingung : ?DL_Star_Predicate =\n",
    "    include ?paragraph985_lexicon ❙\n",
    "    bedingungsevent : event ❙\n",
    "    x : tm ❙\n",
    "    y : tm ❙\n",
    "    z : tm ❙\n",
    "    bedingung : ⊦ herausgabeevent bedingungsevent ∧ eigentuemer bedingungsevent x ∧\n",
    "            besitzer bedingungsevent y ∧ sache bedingungsevent z ❙\n",
    "❚"
   ]
  },
  {
   "cell_type": "code",
   "execution_count": 33,
   "id": "d902c48d",
   "metadata": {},
   "outputs": [
    {
     "data": {
      "text/html": [
       "<span class=\"glif-stdout\">Successfully imported paragraph985_folgen.mmt</span>"
      ]
     },
     "metadata": {},
     "output_type": "display_data"
    }
   ],
   "source": [
    "theory paragraph985_folgen : ?DL_Star_Predicate =\n",
    "    include ?paragraph985_bedingung ❙\n",
    "    e1 : event ❙\n",
    "    time : ⊦ e1 nach bedingungsevent ❙\n",
    "    folge : ⊦ herausgabeevent bedingungsevent ∧ eigentuemer bedingungsevent x ∧ besitzer bedingungsevent y ∧ sache bedingungsevent z ⇒\n",
    "        strongly_permitted (eigentuemer e1 y ∧ besitzer e1 x ∧ sache e1 z)\n",
    "❚"
   ]
  },
  {
   "cell_type": "code",
   "execution_count": 34,
   "id": "03d1b8dc",
   "metadata": {},
   "outputs": [
    {
     "data": {
      "text/html": [
       "<span class=\"glif-stdout\">Successfully imported subsumption.mmt</span>"
      ]
     },
     "metadata": {},
     "output_type": "display_data"
    }
   ],
   "source": [
    "view subsumption : ?paragraph985_bedingung -> ?fall = \n",
    "    eigentuemer = Agent ❙\n",
    "    besitzer = von ❙\n",
    "    sache = Patient ❙\n",
    "    herausgabeevent = rückforderungsevent ❙\n",
    "    bedingungsevent = e3 ❙\n",
    "    x = fabian ❙\n",
    "    y = pers_m ❙\n",
    "    z = taschengeld ❙\n",
    "    bedingung = proof_sketch ❙\n",
    "❚"
   ]
  }
 ],
 "metadata": {
  "kernelspec": {
   "display_name": "GLIF",
   "language": "glif",
   "name": "glif"
  },
  "language_info": {
   "file_extension": ".glif",
   "mimetype": "text/glif",
   "name": "GLIF"
  }
 },
 "nbformat": 4,
 "nbformat_minor": 5
}
