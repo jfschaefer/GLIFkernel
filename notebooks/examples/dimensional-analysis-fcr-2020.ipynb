{
 "cells": [
  {
   "cell_type": "markdown",
   "metadata": {},
   "source": [
    "# Dimensional Analysis\n",
    "\n",
    "This notebook prototypes a small controlled natural language for specifying physical properties.\n",
    "Our example sentence is\n",
    "\n",
    "    the ball has a mass of 5 kg and a kinetic energy of 12 mN\n",
    "\n",
    "and we want to obtain the logical expression\n",
    "\n",
    "    (mass theball (quant 5 kilo gram))∧(ekin theball (quant 12 meter Newton)).\n",
    "\n",
    "However, we have to use [dimensional analysis](https://en.wikipedia.org/wiki/Dimensional_analysis)\n",
    "to disambiguate whether *12 mN* stands for *12 milli Newton* or for *12 meter Newton*.\n",
    "Since *milli Newton* is not an energy, we can discard it.\n",
    "\n",
    "This example was created for a paper submitted to FCR 2020."
   ]
  },
  {
   "cell_type": "code",
   "execution_count": 1,
   "metadata": {},
   "outputs": [
    {
     "data": {
      "text/html": [
       "<span class=\"glif-stdout\">Successfully changed archive</span>"
      ]
     },
     "metadata": {},
     "output_type": "display_data"
    }
   ],
   "source": [
    "archive tmpGLIF/examples dim_analysis"
   ]
  },
  {
   "cell_type": "markdown",
   "metadata": {},
   "source": [
    "### Grammar"
   ]
  },
  {
   "cell_type": "code",
   "execution_count": 2,
   "metadata": {},
   "outputs": [
    {
     "data": {
      "text/html": [
       "<span class=\"glif-stdout\">Successfully imported Grammar.gf</span>"
      ]
     },
     "metadata": {},
     "output_type": "display_data"
    }
   ],
   "source": [
    "abstract Grammar = {\n",
    "    cat\n",
    "        Object;\n",
    "        Measurable;   -- kinetic energy\n",
    "        Measurement;  -- a kinetic energy of 3 m N\n",
    "        Unit;         -- m N\n",
    "        S;            -- sentence\n",
    "        \n",
    "    fun\n",
    "        hasProp : Object -> Measurement -> S;\n",
    "        unitCombine : Unit -> Unit -> Unit;\n",
    "        objectCombine : Object -> Object -> Object;\n",
    "        \n",
    "        measure : Measurable -> Int -> Unit -> Measurement;\n",
    "        combine : Measurement -> Measurement -> Measurement;\n",
    "        \n",
    "        theball : Object;\n",
    "        thetrain : Object;\n",
    "        \n",
    "        eKin : Measurable;\n",
    "        mass : Measurable;\n",
    "        \n",
    "        meter : Unit;\n",
    "        newton : Unit;\n",
    "        gram : Unit;\n",
    "        \n",
    "        milli : Unit -> Unit;\n",
    "        kilo : Unit -> Unit;\n",
    "}"
   ]
  },
  {
   "cell_type": "code",
   "execution_count": 3,
   "metadata": {},
   "outputs": [
    {
     "data": {
      "text/html": [
       "<span class=\"glif-stdout\">Successfully imported GrammarEng.gf</span>"
      ]
     },
     "metadata": {},
     "output_type": "display_data"
    }
   ],
   "source": [
    "concrete GrammarEng of Grammar = {\n",
    "  param\n",
    "    Number = Sg | Pl;\n",
    "  oper\n",
    "    have : Number => Str = table {Sg => \"has\"; Pl => \"have\"};\n",
    "  lincat\n",
    "    Object = {s : Str; n : Number};\n",
    "    Measurable = Str;\n",
    "    Measurement = Str;\n",
    "    Unit = Str;\n",
    "    S = Str;\n",
    "    \n",
    "  lin\n",
    "    hasProp obj m = obj.s ++ have ! obj.n ++ m;\n",
    "    unitCombine a b = a ++ b;\n",
    "    objectCombine a b = {s = a.s ++ \"and\" ++ b.s; n = Pl};\n",
    "    measure m int unit = \"a\" ++ m ++ \"of\" ++ int.s ++ unit;\n",
    "    combine a b = a ++ \"and\" ++ b;\n",
    "    theball = {s = \"the ball\"; n = Sg};\n",
    "    thetrain = {s = \"the train\"; n = Sg};\n",
    "    eKin = \"kinetic energy\";\n",
    "    mass = \"mass\";\n",
    "    meter = \"m\";\n",
    "    newton = \"N\";\n",
    "    gram = \"g\";\n",
    "    milli u = \"m\" ++ u;\n",
    "    kilo u = \"k\" ++ u;\n",
    "}"
   ]
  },
  {
   "cell_type": "code",
   "execution_count": 4,
   "metadata": {},
   "outputs": [
    {
     "data": {
      "text/html": [
       "<span class=\"glif-stdout\">the ball has a kinetic energy of 999 g<br/>the ball and the ball and the ball and the ball have a mass of 999 N and a kinetic energy of 999 g and a kinetic energy of 999 m m<br/>the train and the train have a mass of 999 g and a kinetic energy of 999 g and a kinetic energy of 999 m and a mass of 999 m<br/>the train has a mass of 999 g and a mass of 999 m and a mass of 999 m g<br/>the ball has a mass of 999 m and a kinetic energy of 999 g and a kinetic energy of 999 g</span>"
      ]
     },
     "metadata": {},
     "output_type": "display_data"
    }
   ],
   "source": [
    "generate_random -number=5 | linearize"
   ]
  },
  {
   "cell_type": "code",
   "execution_count": 5,
   "metadata": {},
   "outputs": [
    {
     "data": {
      "text/html": [
       "<span class=\"glif-stdout\">hasProp theball (measure mass 5 (kilo gram))</span>"
      ]
     },
     "metadata": {},
     "output_type": "display_data"
    }
   ],
   "source": [
    "parse \"the ball has a mass of 5 k g\""
   ]
  },
  {
   "cell_type": "markdown",
   "metadata": {},
   "source": [
    "**The example sentence generates two parse trees**"
   ]
  },
  {
   "cell_type": "code",
   "execution_count": 6,
   "metadata": {},
   "outputs": [
    {
     "data": {
      "text/html": [
       "<span class=\"glif-stdout\">hasProp theball (combine (measure mass 5 (kilo gram)) (measure eKin 12 (milli newton)))<br/>hasProp theball (combine (measure mass 5 (kilo gram)) (measure eKin 12 (unitCombine meter newton)))</span>"
      ]
     },
     "metadata": {},
     "output_type": "display_data"
    }
   ],
   "source": [
    "parse \"the ball has a mass of 5 k g and a kinetic energy of 12 m N\""
   ]
  },
  {
   "cell_type": "code",
   "execution_count": 7,
   "metadata": {},
   "outputs": [
    {
     "data": {
      "application/vnd.jupyter.widget-view+json": {
       "model_id": "5902516dc826419899766c300288575e",
       "version_major": 2,
       "version_minor": 0
      },
      "text/plain": [
       "Dropdown(layout=Layout(width='max-content'), options=('0.0. hasProp theball (combine (measure mass 5 (kilo gra…"
      ]
     },
     "metadata": {},
     "output_type": "display_data"
    },
    {
     "data": {
      "application/vnd.jupyter.widget-view+json": {
       "model_id": "624759c4a507404baf994f196fb6a542",
       "version_major": 2,
       "version_minor": 0
      },
      "text/plain": [
       "Image(value=b'<?xml version=\"1.0\" encoding=\"UTF-8\" standalone=\"no\"?>\\n<!DOCTYPE svg PUBLIC \"-//W3C//DTD SVG 1.…"
      ]
     },
     "metadata": {},
     "output_type": "display_data"
    }
   ],
   "source": [
    "parse \"the ball has a mass of 5 k g and a kinetic energy of 12 m N\" | vt -nocat"
   ]
  },
  {
   "cell_type": "markdown",
   "metadata": {},
   "source": [
    "### Target Logic and Semantics Construction"
   ]
  },
  {
   "cell_type": "code",
   "execution_count": 8,
   "metadata": {},
   "outputs": [
    {
     "data": {
      "text/html": [
       "<span class=\"glif-stdout\">Successfully imported proplog.mmt</span>"
      ]
     },
     "metadata": {},
     "output_type": "display_data"
    }
   ],
   "source": [
    "theory proplog : ur:?LF =\n",
    "    proposition : type ❘ # o ❙\n",
    "    and : o ⟶ o ⟶ o ❘ # 1 ∧ 2 ❙\n",
    "    // etc. ❙\n",
    "❚"
   ]
  },
  {
   "cell_type": "code",
   "execution_count": 9,
   "metadata": {},
   "outputs": [
    {
     "data": {
      "text/html": [
       "<span class=\"glif-stdout\">Successfully imported plnq.mmt</span>"
      ]
     },
     "metadata": {},
     "output_type": "display_data"
    }
   ],
   "source": [
    "theory plnq : ur:?LF =\n",
    "    include ?proplog ❙\n",
    "    object : type ❘ # ι ❙    // more technical term: individual ❙\n",
    "❚"
   ]
  },
  {
   "cell_type": "code",
   "execution_count": 10,
   "metadata": {},
   "outputs": [
    {
     "data": {
      "text/html": [
       "<span class=\"glif-stdout\">Successfully imported units.mmt</span>"
      ]
     },
     "metadata": {},
     "output_type": "display_data"
    }
   ],
   "source": [
    "theory units : ?plnq =\n",
    "    include ☞http://cds.omdoc.org/urtheories?NatSymbols ❙\n",
    "    unit  : type      ❘ # u ❙\n",
    "    mult  : u ⟶ u ⟶ u ❘ # 1 ⋅ 2 ❙   // e.g. meter ⋅ Newton ❙\n",
    "    udiv  : u ⟶ u ⟶ u ❘ # 1 / 2 ❙\n",
    "    milli : u ⟶ u     ❘ # milli 1 ❙\n",
    "    kilo  : u ⟶ u     ❘ # kilo 1 ❙\n",
    "    \n",
    "    newton : u ❘ # Newton ❙\n",
    "    gram   : u ❘ # gram   ❙\n",
    "    meter  : u ❘ # meter  ❙\n",
    "    \n",
    "    quantity : type ❘ # q ❙\n",
    "    quant : NAT ⟶ u ⟶ q ❙\n",
    "    ekin : ι ⟶ q ⟶ o ❙\n",
    "    mass : ι ⟶ q ⟶ o ❙\n",
    "❚"
   ]
  },
  {
   "cell_type": "code",
   "execution_count": 11,
   "metadata": {},
   "outputs": [
    {
     "data": {
      "text/html": [
       "<span class=\"glif-stdout\">Successfully imported domainTheory.mmt</span>"
      ]
     },
     "metadata": {},
     "output_type": "display_data"
    }
   ],
   "source": [
    "theory domainTheory : ?plnq =\n",
    "    include ?units ❙\n",
    "    ball : ι ❘ # theball ❙\n",
    "    train : ι ❘ # thetrain ❙\n",
    "❚"
   ]
  },
  {
   "cell_type": "code",
   "execution_count": 12,
   "metadata": {},
   "outputs": [
    {
     "data": {
      "text/html": [
       "<span class=\"glif-stdout\">Successfully imported SemConstr.mmt</span>"
      ]
     },
     "metadata": {},
     "output_type": "display_data"
    }
   ],
   "source": [
    "view SemConstr : http://mathhub.info/tmpGLIF/examples/dim_analysis/Grammar.gf?Grammar -> ?domainTheory =\n",
    "    NAT = NAT ❙\n",
    "    zero = zero ❙\n",
    "\n",
    "    Object = (ι ⟶ o) ⟶ o ❙      // type raised from ι ❙\n",
    "    Measurable = ι ⟶ q ⟶ o ❙\n",
    "    Measurement = ι ⟶ o ❙    // unary predicates ❙\n",
    "    Unit = u ❙\n",
    "    S = o ❙\n",
    "\n",
    "    // hasProp : Object ⟶ Measurement ⟶ Sentence ❙\n",
    "    hasProp = [x, m] (x m) ❙\n",
    "    // unitCombine : Unit ⟶ Unit ⟶ Unit ❙\n",
    "    unitCombine = [a,b] a ⋅ b ❙\n",
    "    //objectCombine : Object ⟶ Object ⟶ Object ❙\n",
    "    objectCombine = [a, b] [p] (a p) ∧ (b p) ❙\n",
    "    // measure : Measurable ⟶ Int ⟶ Unit ⟶ Measurement ❙\n",
    "    measure = [m,n,un] [x] m x (quant n un) ❙\n",
    "    // combine : Measurement ⟶ Measurement ⟶ Measurement ❙\n",
    "    combine = [M,N] [x] (M x) ∧ (N x) ❙\n",
    "    \n",
    "    theball = [p] p ball ❙\n",
    "    thetrain = [p] p train ❙\n",
    "    eKin = ekin ❙\n",
    "    mass = mass ❙\n",
    "    meter = meter ❙\n",
    "    newton = Newton ❙\n",
    "    gram = gram ❙\n",
    "    milli = milli ❙\n",
    "    kilo = kilo ❙\n",
    "❚"
   ]
  },
  {
   "cell_type": "markdown",
   "metadata": {},
   "source": [
    "**We get two different logical expressions**"
   ]
  },
  {
   "cell_type": "code",
   "execution_count": 13,
   "metadata": {},
   "outputs": [
    {
     "data": {
      "text/html": [
       "<span class=\"glif-stdout\">(mass theball (quant 5 kilo gram))∧(ekin theball (quant 12 milli Newton))<br/>(mass theball (quant 5 kilo gram))∧(ekin theball (quant 12 meter⋅Newton))</span>"
      ]
     },
     "metadata": {},
     "output_type": "display_data"
    }
   ],
   "source": [
    "parse \"the ball has a mass of 5 k g and a kinetic energy of 12 m N\" | construct -v=SemConstr"
   ]
  },
  {
   "cell_type": "code",
   "execution_count": 14,
   "metadata": {},
   "outputs": [
    {
     "data": {
      "text/html": [
       "<span class=\"glif-stdout\">(ekin theball (quant 12 milli Newton))∧(ekin thetrain (quant 12 milli Newton))<br/>(ekin theball (quant 12 meter⋅Newton))∧(ekin thetrain (quant 12 meter⋅Newton))</span>"
      ]
     },
     "metadata": {},
     "output_type": "display_data"
    }
   ],
   "source": [
    "parse \"the ball and the train have a kinetic energy of 12 m N\" | construct -v=SemConstr"
   ]
  },
  {
   "cell_type": "markdown",
   "metadata": {},
   "source": [
    "### Dimensional Analysis with ELPI"
   ]
  },
  {
   "cell_type": "markdown",
   "metadata": {},
   "source": [
    "Generate the ELPI signature from the MMT theory `domainTheory`."
   ]
  },
  {
   "cell_type": "code",
   "execution_count": 15,
   "metadata": {},
   "outputs": [
    {
     "data": {
      "text/html": [
       "<span class=\"glif-stdout\">Successfully created domainTheory.elpi</span>"
      ]
     },
     "metadata": {},
     "output_type": "display_data"
    }
   ],
   "source": [
    "elpigen -with-meta -mode=types domainTheory"
   ]
  },
  {
   "cell_type": "code",
   "execution_count": 16,
   "metadata": {},
   "outputs": [
    {
     "data": {
      "text/html": [
       "<span class=\"glif-stdout\">Successfully imported dimCheck.elpi<br/>dimCheck.elpi is the new default file for ELPI commands</span>"
      ]
     },
     "metadata": {},
     "output_type": "display_data"
    }
   ],
   "source": [
    "elpi: dimCheck\n",
    "accumulate Grammar.         % import automatically generated signature\n",
    "accumulate domainTheory.    % import signature generated with elpigen\n",
    "\n",
    "% BASE DIMENSIONS\n",
    "kind base_dimension type.\n",
    "type length_dim base_dimension.\n",
    "type mass_dim base_dimension.\n",
    "type time_dim base_dimension.\n",
    "\n",
    "kind dimension type.\n",
    "% complex dimension, e.g. (cdim [length_dim] [time_dim, time_dim]) for speed\n",
    "type cdim list base_dimension -> list base_dimension -> dimension.\n",
    "\n",
    "\n",
    "% removes first occurence\n",
    "type remove A -> list A -> list A -> prop.\n",
    "remove X [X|L] L :- !.\n",
    "remove X [H|L] [H|M] :- remove X L M.\n",
    "\n",
    "% cancel out equal dimensions\n",
    "type reduce dimension -> dimension -> prop.\n",
    "reduce (cdim A B) R :- remove X A A2, remove X B B2, !, reduce (cdim A2 B2) R.\n",
    "reduce (cdim A B) (cdim A B).\n",
    "\n",
    "% convert unit to dimension\n",
    "type utodim unit -> dimension -> prop.\n",
    "utodim newton (cdim [mass_dim, length_dim] [time_dim, time_dim]).\n",
    "% utodim joule (cdim [length_dim, mass_dim, length_dim] [time_dim, time_dim]).\n",
    "utodim gram (cdim [mass_dim] []).\n",
    "utodim meter (cdim [length_dim] []).\n",
    "utodim (milli X) Y :- utodim X Y.\n",
    "utodim (kilo X) Y :- utodim X Y.\n",
    "utodim (mult A B) (cdim N1 N2) :- utodim A (cdim L1 L2), utodim B (cdim M1 M2), std.append L1 M1 N1, std.append L2 M2 N2.\n",
    "utodim (udiv A B) (cdim N1 N2) :- utodim A (cdim L1 L2), utodim B (cdim M1 M2), std.append L1 M2 N1, std.append L2 M1 N2.\n",
    "\n",
    "type dim_eq dimension -> dimension -> prop.\n",
    "dim_eq (cdim [] []) (cdim [] []).\n",
    "dim_eq (cdim L LL) (cdim M MM) :- remove X L L2, remove X M M2, dim_eq (cdim L2 LL) (cdim M2 MM).\n",
    "dim_eq (cdim [] L) (cdim [] M) :- remove X L L2, remove X M M2, dim_eq (cdim [] L2) (cdim [] M2).\n",
    "\n",
    "\n",
    "% check that quantity has specific dimension.\n",
    "type dimcheck quantity -> dimension -> prop.\n",
    "dimcheck (quant _ X) D :-\n",
    "    utodim X E, \n",
    "    reduce D D2,\n",
    "    reduce E E2,\n",
    "    dim_eq D2 E2, !.\n",
    "\n",
    "type check proposition -> prop.\n",
    "check (and A B)  :- check A, check B.\n",
    "check (ekin _ Q) :- dimcheck Q (cdim [length_dim, length_dim, mass_dim] [time_dim, time_dim]).\n",
    "check (mass _ Q) :- dimcheck Q (cdim [mass_dim] []).\n",
    "\n",
    "type filter_pred (glif.item A proposition) -> prop.\n",
    "filter_pred Item :- glif.getLog Item Expr, check Expr."
   ]
  },
  {
   "cell_type": "markdown",
   "metadata": {},
   "source": [
    "**The wrong reading is rejected**"
   ]
  },
  {
   "cell_type": "code",
   "execution_count": 17,
   "metadata": {},
   "outputs": [
    {
     "data": {
      "text/html": [
       "<span class=\"glif-stdout\">hasProp theball (measure eKin 12 (milli newton))<br/>hasProp theball (measure eKin 12 (unitCombine meter newton))</span>"
      ]
     },
     "metadata": {},
     "output_type": "display_data"
    }
   ],
   "source": [
    "parse \"the ball has a kinetic energy of 12 m N\""
   ]
  },
  {
   "cell_type": "code",
   "execution_count": 18,
   "metadata": {},
   "outputs": [
    {
     "data": {
      "text/html": [
       "<span class=\"glif-stdout\">(mass theball (quant 5 kilo gram))∧(ekin theball (quant 12 milli Newton))<br/>(mass theball (quant 5 kilo gram))∧(ekin theball (quant 12 meter⋅Newton))</span>"
      ]
     },
     "metadata": {},
     "output_type": "display_data"
    }
   ],
   "source": [
    "parse \"the ball has a mass of 5 k g and a kinetic energy of 12 m N\" | construct"
   ]
  },
  {
   "cell_type": "code",
   "execution_count": 19,
   "metadata": {},
   "outputs": [
    {
     "data": {
      "text/html": [
       "<span class=\"glif-stdout\">ekin theball (quant 12 meter⋅Newton)</span>"
      ]
     },
     "metadata": {},
     "output_type": "display_data"
    }
   ],
   "source": [
    "parse \"the ball has a kinetic energy of 12 m N\" | construct | filter -predicate=filter_pred"
   ]
  }
 ],
 "metadata": {
  "kernelspec": {
   "display_name": "GLIF",
   "language": "glif",
   "name": "glif"
  },
  "language_info": {
   "file_extension": ".glif",
   "mimetype": "text/glif",
   "name": "GLIF"
  }
 },
 "nbformat": 4,
 "nbformat_minor": 4
}
