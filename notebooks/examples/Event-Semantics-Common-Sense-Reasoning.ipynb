{
 "cells": [
  {
   "cell_type": "code",
   "execution_count": 65,
   "id": "0e4157b0",
   "metadata": {},
   "outputs": [
    {
     "data": {
      "text/html": [
       "<span class=\"glif-stdout\">Successfully imported Grammar.gf</span>"
      ]
     },
     "metadata": {},
     "output_type": "display_data"
    }
   ],
   "source": [
    "abstract Grammar = {\n",
    "    cat\n",
    "        S; VP; NP;\n",
    "    fun\n",
    "        sentence: NP -> VP -> S;\n",
    "        afterwards : NP -> VP -> S;\n",
    "        \n",
    "        -- lexicon\n",
    "        john: NP;\n",
    "        fall_asleep: VP;\n",
    "        wake_up: VP;\n",
    "        sleep: VP;\n",
    "}"
   ]
  },
  {
   "cell_type": "code",
   "execution_count": 66,
   "id": "4920a921",
   "metadata": {},
   "outputs": [
    {
     "data": {
      "text/html": [
       "<span class=\"glif-stdout\">Successfully imported GrammarEng.gf</span>"
      ]
     },
     "metadata": {},
     "output_type": "display_data"
    }
   ],
   "source": [
    "concrete GrammarEng of Grammar = {\n",
    "  lincat\n",
    "    S = Str;\n",
    "    VP = Str;\n",
    "    NP = Str;\n",
    "\n",
    "  lin\n",
    "    sentence np vp = np ++ vp;\n",
    "    afterwards np vp = \"afterwards,\" ++ np ++ vp;\n",
    "    \n",
    "    -- lexicon\n",
    "    john = \"John\";\n",
    "    fall_asleep = \"falls asleep\";\n",
    "    wake_up = \"wakes up\";\n",
    "    sleep = \"sleeps\";\n",
    "}\n"
   ]
  },
  {
   "cell_type": "code",
   "execution_count": 67,
   "id": "93af5c3a",
   "metadata": {},
   "outputs": [
    {
     "data": {
      "text/html": [
       "<span class=\"glif-stdout\">John falls asleep</span>"
      ]
     },
     "metadata": {},
     "output_type": "display_data"
    }
   ],
   "source": [
    "gr | l"
   ]
  },
  {
   "cell_type": "code",
   "execution_count": 72,
   "id": "77c56f7b",
   "metadata": {},
   "outputs": [
    {
     "data": {
      "text/html": [
       "<span class=\"glif-stdout\">Successfully imported csr_syntax.mmt</span>"
      ]
     },
     "metadata": {},
     "output_type": "display_data"
    }
   ],
   "source": [
    "theory csr_syntax : ur:?LF =\n",
    "    prop : type ❘ # o ❙\n",
    "    ded : o ⟶ type ❘ # ⊢ 1 ❙\n",
    "    \n",
    "    and : o ⟶ o ⟶ o ❘ # 1 ∧ 2 prec 50 ❙\n",
    "    or : o ⟶ o ⟶ o ❘ # 1 ∨ 2 prec 30 ❙\n",
    "    not : o ⟶ o ❘ # ¬ 1 prec 60 ❙\n",
    "    \n",
    "    individual : type ❘ # ι ❙\n",
    "    forall : (ι ⟶ o) ⟶ o ❘ # ∀ 1 ❙\n",
    "    exists : (ι ⟶ o) ⟶ o ❘ # ∃ 1 ❙\n",
    "    \n",
    "    event : type ❘ # ε ❙\n",
    "    event_forall : (ε ⟶ o) ⟶ o ❘ # ∀ε 1 ❙\n",
    "    event_exists : (ε ⟶ o) ⟶ o ❘ # ∃ε 1 ❙\n",
    "    \n",
    "    fluent : type ❘ # φ ❙\n",
    "    fluent_forall : (φ ⟶ o) ⟶ o ❘ # ∀φ 1 ❙\n",
    "    fluent_exists : (φ ⟶ o) ⟶ o ❘ # ∃φ 1 ❙\n",
    "    \n",
    "    time : type ❘ # τ ❙\n",
    "    time_forall : (τ ⟶ o) ⟶ o ❘ # ∀τ 1 ❙\n",
    "    time_exists : (τ ⟶ o) ⟶ o ❘ # ∃τ 1 ❘ role TimeIntroduction ❙\n",
    "    time_exists_rel : (τ ⟶ τ ⟶ o) ⟶ o ❘ # τ∃τ 1 ❘ role TimeRelIntroduction ❙\n",
    "    \n",
    "    before : τ ⟶ τ ⟶ o ❘ # 1 < 2 prec 100 ❙\n",
    "    happens : ε ⟶ τ ⟶ o ❙\n",
    "    holds_at : φ ⟶ τ ⟶ o ❙\n",
    "❚"
   ]
  },
  {
   "cell_type": "code",
   "execution_count": 73,
   "id": "b58bb75f",
   "metadata": {},
   "outputs": [
    {
     "data": {
      "text/html": [
       "<span class=\"glif-stdout\">Successfully imported ddt.mmt</span>"
      ]
     },
     "metadata": {},
     "output_type": "display_data"
    }
   ],
   "source": [
    "theory ddt : ?csr_syntax =\n",
    "    john : ι ❙\n",
    "    fall_asleep : ι ⟶ ε ❙\n",
    "    wake_up : ι ⟶ ε ❙\n",
    "    sleep : ι ⟶ φ ❙\n",
    "❚"
   ]
  },
  {
   "cell_type": "code",
   "execution_count": 79,
   "id": "6f394c79",
   "metadata": {},
   "outputs": [
    {
     "data": {
      "text/html": [
       "<span class=\"glif-stdout\">Successfully imported GrammarSemantics.mmt</span>"
      ]
     },
     "metadata": {},
     "output_type": "display_data"
    }
   ],
   "source": [
    "view GrammarSemantics : http://mathhub.info/tmpGLIF/default/Grammar.gf?Grammar -> ?ddt =\n",
    "    S = o ❙\n",
    "    VP = ι ⟶ τ ⟶ o ❙\n",
    "    NP = ι ❙\n",
    "\n",
    "    sentence = [np:ι] [vp:ι⟶τ⟶o] ∃τ [t:τ] vp np t ❙\n",
    "    afterwards = [np:ι] [vp:ι⟶τ⟶o] τ∃τ [t1:τ, t2:τ] t1 < t2 ∧ vp np t2 ❙\n",
    "    \n",
    "    john = john ❙\n",
    "    fall_asleep = [np:ι, t:τ] happens (fall_asleep np) t ❙\n",
    "    wake_up = [np:ι, t:τ] happens (wake_up np) t ❙\n",
    "    sleep = [np:ι, t:τ] holds_at (sleep np) t ❙\n",
    "❚\n"
   ]
  },
  {
   "cell_type": "code",
   "execution_count": 80,
   "id": "06c4fb2a",
   "metadata": {},
   "outputs": [
    {
     "data": {
      "text/html": [
       "<span class=\"glif-stdout\">∃τ [t:τ]happens (fall_asleep john) t</span>"
      ]
     },
     "metadata": {},
     "output_type": "display_data"
    }
   ],
   "source": [
    "parse \"John falls asleep\" | construct"
   ]
  },
  {
   "cell_type": "code",
   "execution_count": 84,
   "id": "fd624937",
   "metadata": {},
   "outputs": [
    {
     "data": {
      "text/html": [
       "<span class=\"glif-stdout\"><br/>theory generated : http://mathhub.info/tmpGLIF/default?ddt&nbsp;&nbsp;= <br/>\tt0\t : τ ❙<br/>\ts0\t : ⊢(happens (fall_asleep john) t0) ❙<br/>\tt1\t : τ ❙<br/>\ts1\t : ⊢t1&lt;t0∧(happens (wake_up john) t0) ❙<br/>\tt2\t : τ ❙<br/>\ts2\t : ⊢(holds_at (sleep john) t2) ❙<br/><br/>❚<br/></span>"
      ]
     },
     "metadata": {},
     "output_type": "display_data"
    }
   ],
   "source": [
    "ps  \"John falls asleep\"\n",
    "    \"afterwards, John wakes up\"\n",
    "    \"John sleeps\" |\n",
    "    parse | construct | populate -meta=ddt -mode=events"
   ]
  },
  {
   "cell_type": "code",
   "execution_count": null,
   "id": "489935e5",
   "metadata": {},
   "outputs": [],
   "source": []
  }
 ],
 "metadata": {
  "kernelspec": {
   "display_name": "GLIF",
   "language": "glif",
   "name": "glif"
  },
  "language_info": {
   "file_extension": ".glif",
   "mimetype": "text/glif",
   "name": "GLIF"
  }
 },
 "nbformat": 4,
 "nbformat_minor": 5
}
