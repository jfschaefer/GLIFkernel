{
 "cells": [
  {
   "cell_type": "markdown",
   "id": "9c00cc39-68c0-48dd-a0ab-ad2cc834579b",
   "metadata": {},
   "source": [
    "# Intro: ELPI for logic in GLIF\n",
    "\n",
    "This notebook briefly introduces ELPI and shows how to use it in GLIF/Jupyter.\n",
    "As an example, we will develop some ELPI code for propositional logic."
   ]
  },
  {
   "cell_type": "markdown",
   "id": "f36fabea-2629-4b3c-b307-638f55670c40",
   "metadata": {},
   "source": [
    "## Jupyter/GLIF Intro\n",
    "\n",
    "Jupyter is a platform for developing notebooks like this one.\n",
    "Jupyter is most often used for Python, but this notebook uses the [GLIF kernel](https://github.com/jfschaefer/glifkernel), which combines the systems GF, MMT and ELPI into a framework for experimenting with natural language semantics.\n",
    "\n",
    "A notebook is a sequence of **cells**.\n",
    "**Markdown cells** can be used for documentation. This text, for example, is written in a markdown cell.\n",
    "**Code cells** are used for code.\n",
    "You can run cells by clicking on them and then pressing `Shift + Return`.\n",
    "\n",
    "Here is an example code cell that uses GLIF's `put_string` command:"
   ]
  },
  {
   "cell_type": "code",
   "execution_count": 1,
   "id": "0c8bd6be-4d03-4c72-8445-2e8a6d2b3b5e",
   "metadata": {},
   "outputs": [
    {
     "data": {
      "text/html": [
       "<span class=\"glif-stdout\">Hello world</span>"
      ]
     },
     "metadata": {},
     "output_type": "display_data"
    }
   ],
   "source": [
    "put_string \"Hello world\""
   ]
  },
  {
   "cell_type": "markdown",
   "id": "356684e1-fc23-4674-911d-6712300a82e8",
   "metadata": {},
   "source": [
    "## Syntax of propositional logic in ELPI\n",
    "\n",
    "Let us specify the syntax of propositional logic in ELPI.\n",
    "We start by introducing a type for propositions. `o` and `prop` are common names for the type of propositions, but they are already used by ELPI, so we will use `oo` instead.\n",
    "\n",
    "Then we can define logical connectives as functions. For example, `and` will take two propositions as arguments and give us a new proposition.\n",
    "For propositional variables, we make a function `pvar` with type `int -> oo`, which gives us infinitely many variables (e.g. `pvar 13`). Note that these are variables in the logic we are defining, *not* ELPI/Prolog variables."
   ]
  },
  {
   "cell_type": "code",
   "execution_count": 2,
   "id": "c76ee555",
   "metadata": {},
   "outputs": [
    {
     "data": {
      "text/html": [
       "<span class=\"glif-stdout\">Successfully imported proplogsyntax.elpi</span><br/><span class=\"glif-stdout\">proplogsyntax.elpi is the new default file for ELPI commands</span>"
      ]
     },
     "metadata": {},
     "output_type": "display_data"
    }
   ],
   "source": [
    "elpi: proplogsyntax\n",
    "% The line above is needed for the Jupyter kernel to know that ELPI code follows.\n",
    "% `proplogsyntax` will be the file name.\n",
    "\n",
    "kind oo type.\n",
    "type neg oo -> oo.\n",
    "type and oo -> oo -> oo.\n",
    "type or oo -> oo -> oo.\n",
    "type impl oo -> oo -> oo.\n",
    "type true oo.\n",
    "type false oo.\n",
    "type pvar int -> oo."
   ]
  },
  {
   "cell_type": "markdown",
   "id": "8505281c-c1fe-47fd-9d31-672c3df30545",
   "metadata": {},
   "source": [
    "## A first predicate: `is_atomic`\n",
    "\n",
    "Computation in Prolog/ELPI is based on predicates.\n",
    "As a very simple example, we will make a predicate `is_atomic`.\n",
    "Atomic propositions are propositions without connectives.\n",
    "In our example, that would be the variables and `true` and `false`.\n",
    "\n",
    "A predicate is a function that returns a truth value. In this case, the predicate requires one argument of type `oo`. Here is the corresponding ELPI code:"
   ]
  },
  {
   "cell_type": "code",
   "execution_count": 3,
   "id": "48e2a5de-5a93-4f99-b7bc-0fdd4a56d1e1",
   "metadata": {},
   "outputs": [
    {
     "data": {
      "text/html": [
       "<span class=\"glif-stdout\">Successfully imported atomic_first_attempt.elpi</span><br/><span class=\"glif-stdout\">atomic_first_attempt.elpi is the new default file for ELPI commands</span>"
      ]
     },
     "metadata": {},
     "output_type": "display_data"
    }
   ],
   "source": [
    "elpi: atomic_first_attempt\n",
    "accumulate proplogsyntax.   % import everything from our definition of the syntax\n",
    "\n",
    "type is_atomic oo -> prop."
   ]
  },
  {
   "cell_type": "markdown",
   "id": "511226b9-7f20-45b9-8630-51cbc9c39b6d",
   "metadata": {},
   "source": [
    "Now we can test the predicate in a query using GLIF's `query` command:"
   ]
  },
  {
   "cell_type": "code",
   "execution_count": 4,
   "id": "bb5f3a31-a6ee-4ade-b2e8-1c6e71269491",
   "metadata": {},
   "outputs": [
    {
     "data": {
      "text/html": [
       "<span class=\"glif-stdout\">Query failed<br/></span>"
      ]
     },
     "metadata": {},
     "output_type": "display_data"
    }
   ],
   "source": [
    "query \"is_atomic (pvar 5)\""
   ]
  },
  {
   "cell_type": "markdown",
   "id": "5144ef24-22d1-4bfe-85ef-f552d110af52",
   "metadata": {},
   "source": [
    "The query has failed, which essentially means that according to our specification, `pvar 5` is not atomic.\n",
    "Of course, we haven't really told ELPI what \"atomic\" means.\n",
    "As ELPI has the **closed-world assumption**, it assumes that anything that it cannot prove to be true (like `is_atomic (pvar 5)` in this case) is assumed to be false.\n",
    "\n",
    "Let's fix that:"
   ]
  },
  {
   "cell_type": "code",
   "execution_count": 5,
   "id": "bb400c84-0ff2-4e29-be88-244e17eb6450",
   "metadata": {},
   "outputs": [
    {
     "data": {
      "text/html": [
       "<span class=\"glif-stdout\">Successfully imported atomic_second_attempt.elpi</span><br/><span class=\"glif-stdout\">atomic_second_attempt.elpi is the new default file for ELPI commands</span>"
      ]
     },
     "metadata": {},
     "output_type": "display_data"
    }
   ],
   "source": [
    "elpi: atomic_second_attempt\n",
    "accumulate proplogsyntax.   % import everything from our definition of the syntax\n",
    "\n",
    "type is_atomic oo -> prop.\n",
    "is_atomic false.\n",
    "is_atomic true.\n",
    "is_atomic (pvar _X)."
   ]
  },
  {
   "cell_type": "markdown",
   "id": "b971e244-95a0-45f7-83b9-1d2f978fd696",
   "metadata": {},
   "source": [
    "We tell ELPI that `is_atomic` should succeed for `false` and `true`, and for any propositional variables.\n",
    "ELPI considers identifiers that start with an uppercase letter as variables that can be unified.\n",
    "So `pvar X` can be unified with `pvar 5` by setting `X = 5`.\n",
    "\n",
    "In this case, we used `_X` instead of `X` to indicate that this is a throw-away variable (otherwise, ELPI complains).\n",
    "\n",
    "Let's try it:"
   ]
  },
  {
   "cell_type": "code",
   "execution_count": 6,
   "id": "1d800a3c-a669-4dba-a4cb-ccbbd8a7902c",
   "metadata": {},
   "outputs": [
    {
     "data": {
      "text/html": [
       "<span class=\"glif-stdout\">Query succeeded<br/></span>"
      ]
     },
     "metadata": {},
     "output_type": "display_data"
    }
   ],
   "source": [
    "query \"is_atomic true\""
   ]
  },
  {
   "cell_type": "code",
   "execution_count": 7,
   "id": "e0573278-c171-44df-82c4-85a9e5f7d47a",
   "metadata": {},
   "outputs": [
    {
     "data": {
      "text/html": [
       "<span class=\"glif-stdout\">Query succeeded<br/></span>"
      ]
     },
     "metadata": {},
     "output_type": "display_data"
    }
   ],
   "source": [
    "query \"is_atomic (pvar 32)\""
   ]
  },
  {
   "cell_type": "code",
   "execution_count": 8,
   "id": "b0075e73-30a7-4009-879f-0aefc7a5107f",
   "metadata": {},
   "outputs": [
    {
     "data": {
      "text/html": [
       "<span class=\"glif-stdout\">Query failed<br/></span>"
      ]
     },
     "metadata": {},
     "output_type": "display_data"
    }
   ],
   "source": [
    "# this will fail because of the closed-world assumption\n",
    "query \"is_atomic (and true true)\""
   ]
  },
  {
   "cell_type": "markdown",
   "id": "7c780fbc-79ea-4aaa-8491-d9004fe1b46b",
   "metadata": {},
   "source": [
    "## Task: `is_complex`\n",
    "\n",
    "Implement a predicate `is_complex`.\n",
    "A proposition is complex iff it contains connectives (i.e. the oppositive of atomic)."
   ]
  },
  {
   "cell_type": "markdown",
   "id": "8658a7fa-6b6e-4630-b172-dc48240839a1",
   "metadata": {},
   "source": [
    "## A more useful predicate: `geval`\n",
    "\n",
    "Let us now develop a more interesting predicate: `geval`.\n",
    "`geval` is supposed to evaluate propositional formulae.\n",
    "For example, `(and true false)` should evaluate to `false` and `(or (neg false) false)` should evaluate to `true`.\n",
    "For now, we will only consider **ground formulae**, i.e. formulae without any variables.\n",
    "\n",
    "We could implement `geval` as a unary predicate, i.e. `geval (and true false)` should fail, for example.\n",
    "However, we will instead implement it as a binary predicate:\n",
    "The first argument is the formula to be evaluated and the second argument is the result of the evaluation.\n",
    "So `geval (and true false) false` should succeed and `geval (and true true) false` should fail.\n",
    "In other words, `geval A B` succeeds iff `B` is the correct evaluation of `A`.\n",
    "The advantage of this approach is that it easily generalizes e.g. to three-valued logic (where we might have `true`, `false` and `unknown`).\n",
    "We will see that we can exploit the ELPI's unification to compute get something like the \"input\"/\"output\" behaviour we know from functions in functional programming."
   ]
  },
  {
   "cell_type": "code",
   "execution_count": 9,
   "id": "6c149c18",
   "metadata": {},
   "outputs": [
    {
     "data": {
      "text/html": [
       "<span class=\"glif-stdout\">Successfully imported geval.elpi</span><br/><span class=\"glif-stdout\">geval.elpi is the new default file for ELPI commands</span>"
      ]
     },
     "metadata": {},
     "output_type": "display_data"
    }
   ],
   "source": [
    "elpi: geval\n",
    "accumulate proplogsyntax.\n",
    "\n",
    "type geval oo -> oo -> prop.\n",
    "\n",
    "% `true` evaluates to `true`\n",
    "geval true true.\n",
    "% `false` evaluates to `false`\n",
    "geval false false.\n",
    "\n",
    "% X∧Y evaluates to true if:\n",
    "%  * X evaluates to true, and\n",
    "%  * Y evaluates to true.\n",
    "geval (and X Y) true :- geval X true, geval Y true.\n",
    "% We can think of `:-` as \"if\" and of `,` as \"and\".\n",
    "\n",
    "% X∧Y evaluates to false if X evaluates to false\n",
    "geval (and X _Y) false :- geval X false.\n",
    "% X∧Y evaluates to false if Y evaluates to false\n",
    "geval (and _X Y) false :- geval Y false.\n",
    "\n",
    "% negation\n",
    "geval (neg X) true :- geval X false.\n",
    "geval (neg X) false :- geval X true.\n",
    "\n",
    "% TASK: add support for `or` and `impl`"
   ]
  },
  {
   "cell_type": "markdown",
   "id": "b3634676-290f-44fd-9499-2d8d3710bdaa",
   "metadata": {},
   "source": [
    "Let's try it out:"
   ]
  },
  {
   "cell_type": "code",
   "execution_count": 10,
   "id": "617782d4-533c-494e-8795-fd557cbe9081",
   "metadata": {},
   "outputs": [
    {
     "data": {
      "text/html": [
       "<span class=\"glif-stdout\">Query failed<br/></span>"
      ]
     },
     "metadata": {},
     "output_type": "display_data"
    },
    {
     "data": {
      "text/html": [
       "<hr class=\"glif-sep\"/>"
      ]
     },
     "metadata": {},
     "output_type": "display_data"
    },
    {
     "data": {
      "text/html": [
       "<span class=\"glif-stdout\">Query succeeded<br/></span>"
      ]
     },
     "metadata": {},
     "output_type": "display_data"
    }
   ],
   "source": [
    "query \"geval (and true false) true\"\n",
    "query \"geval (and true false) false\""
   ]
  },
  {
   "cell_type": "markdown",
   "id": "8927bf6e-76d2-42b5-8e58-c56cdfc1d53a",
   "metadata": {},
   "source": [
    "A much more elegant way to use `geval` is to use an ELPI variable for the second argument.\n",
    "ELPI then tries to find values for it that make the query successful:"
   ]
  },
  {
   "cell_type": "code",
   "execution_count": 11,
   "id": "7f898fb4-dd78-48e5-a6f9-4ea27bff8af5",
   "metadata": {},
   "outputs": [
    {
     "data": {
      "text/html": [
       "<span class=\"glif-stdout\">Query failed<br/></span>"
      ]
     },
     "metadata": {},
     "output_type": "display_data"
    }
   ],
   "source": [
    "query \"geval (and true false) true\""
   ]
  },
  {
   "cell_type": "markdown",
   "id": "19490a86-c8fc-47f2-b1fa-8f42331d2c6c",
   "metadata": {},
   "source": [
    "Of course, nothing prevents us from using a ELPI variables in other places.\n",
    "For example:"
   ]
  },
  {
   "cell_type": "code",
   "execution_count": 12,
   "id": "13a33b1d",
   "metadata": {},
   "outputs": [
    {
     "data": {
      "text/html": [
       "<span class=\"glif-stdout\">Query succeeded<br/>R = true</span>"
      ]
     },
     "metadata": {},
     "output_type": "display_data"
    }
   ],
   "source": [
    "query \"geval (and (neg false) true) R\""
   ]
  },
  {
   "cell_type": "markdown",
   "id": "1ae574b4-9fc0-4749-b209-a96fc6760af4",
   "metadata": {},
   "source": [
    "## Task: `is_ground`\n",
    "\n",
    "As mentioned above, `geval` only works for ground formulae, i.e. formulae without propositional variables.\n",
    "\n",
    "1. What happens if you call it on a formulae with a propositional variable?\n",
    "2. Implement a predicate `is_ground` that succeeds iff its argument is a ground propositional formula."
   ]
  },
  {
   "cell_type": "markdown",
   "id": "60d76ccc-af22-4f09-8493-f2cc7dc4e93f",
   "metadata": {},
   "source": [
    "## Simplifier\n",
    "\n",
    "As you may have noticed (if you did the tasks): It can get annoying to deal with a large number of connectives. We only have `and`, `neg`, `or` and `impl`, but it would be easy to extend it to even more connectives (`xor`, `nand`, `equiv`, ...).\n",
    "\n",
    "Logicians typically deal with this by restricting themselves to a minimal set of connectives and thinking of the others as syntactic sugar.\n",
    "For example, we can restrict ourselves to `and` and `neg`.\n",
    "Then `and X Y` would be syntactic sugar for `neg (or (neg X) (neg Y))`.\n",
    "\n",
    "In this section, we implement a simplifier that replaces `or` and `impl` in a propositional formula so that we are only left with `neg` and `and`.\n",
    "Like with `geval`, we will implement this as a binary predicate and will use the second argument as an \"output\" by querying it with a variable for the second argument."
   ]
  },
  {
   "cell_type": "code",
   "execution_count": 13,
   "id": "a2eb779a",
   "metadata": {},
   "outputs": [
    {
     "data": {
      "text/html": [
       "<span class=\"glif-stdout\">Successfully imported simplifier.elpi</span><br/><span class=\"glif-stdout\">simplifier.elpi is the new default file for ELPI commands</span>"
      ]
     },
     "metadata": {},
     "output_type": "display_data"
    }
   ],
   "source": [
    "elpi: simplifier\n",
    "accumulate proplogsyntax.\n",
    "accumulate atomic_second_attempt.\n",
    "\n",
    "type simplify oo -> oo -> prop.\n",
    "% if `X` is atomic, then `X` simplifies to `X`.\n",
    "simplify X X :- is_atomic X.\n",
    "% if `X` simplifies to `X2`, then `neg X` simplfies to `neg X2`\n",
    "simplify (neg X) (neg X2) :- simplify X X2.\n",
    "% if `X` simplifies to `X2` and `Y` simplifies to `Y2`, then `and X Y` simplifies to `and X2 Y2`\n",
    "simplify (and X Y) (and X2 Y2) :-\n",
    "    simplify X X2, simplify Y Y2.\n",
    "simplify (or X Y) (neg (and (neg X2) (neg Y2))) :-\n",
    "    simplify X X2, simplify Y Y2.\n",
    "simplify (impl X Y) (neg (and X2 (neg Y2))) :-\n",
    "    simplify X X2, simplify Y Y2.\n",
    "% we also could have done:\n",
    "% simplify (impl X Y) Z :- simplify (or (neg X) Y) Z."
   ]
  },
  {
   "cell_type": "code",
   "execution_count": 14,
   "id": "d83dca5f",
   "metadata": {},
   "outputs": [
    {
     "data": {
      "text/html": [
       "<span class=\"glif-stdout\">Query succeeded<br/>R = neg and (neg pvar 1) (neg true)</span>"
      ]
     },
     "metadata": {},
     "output_type": "display_data"
    }
   ],
   "source": [
    "query \"simplify (impl (neg (pvar 1)) true) R\""
   ]
  },
  {
   "cell_type": "markdown",
   "id": "5df5942d-6916-40e6-b9ea-4647d527c8e1",
   "metadata": {},
   "source": [
    "## Side note: Lists in ELPI\n",
    "\n",
    "We could make our own data type for lists (like we did for propositional formulae),\n",
    "but ELPI already has built-in support for lists.\n",
    "\n",
    "We can write an ELPI list like this: `[1, 2, 3]`\n",
    "\n",
    "For matching, we can de-compose a list into its head (the first element) and its tail (the rest). For example, `[H|T]` matches `[1, 2, 3]` with `H=2` and `T=[2, 2]`.\n",
    "\n",
    "As an example, we will implement an `ismember` where `ismember X L` succeeds iff `X` is an element of the list `L`."
   ]
  },
  {
   "cell_type": "code",
   "execution_count": 15,
   "id": "7d94387b",
   "metadata": {},
   "outputs": [
    {
     "data": {
      "text/html": [
       "<span class=\"glif-stdout\">Successfully imported listutils.elpi</span><br/><span class=\"glif-stdout\">listutils.elpi is the new default file for ELPI commands</span>"
      ]
     },
     "metadata": {},
     "output_type": "display_data"
    }
   ],
   "source": [
    "elpi: listutils\n",
    "\n",
    "type ismember T -> list T -> prop.\n",
    "% If the list starts with X (i.e. X is the head), then X is a member of the list\n",
    "ismember X [X|_T].\n",
    "% If X is a member of T, then X is also a member of the list [_H|T], i.e. a list with one more element in front.\n",
    "ismember X [_H|T] :- ismember X T.\n",
    "\n",
    "% If you have a functional programming background, you might have expected something like\n",
    "%    ismember X [] = false\n",
    "%    ismember X [X|_T] = true\n",
    "%    ismember X [_Y|T] = ismember X T\n",
    "% ELPI/Prolog works differently because of the closed-world assumption.\n",
    "% For example, in our case \"ismember 1 []\" fails because there is no rule that makes it work."
   ]
  },
  {
   "cell_type": "code",
   "execution_count": 16,
   "id": "becec26e",
   "metadata": {},
   "outputs": [
    {
     "data": {
      "text/html": [
       "<span class=\"glif-stdout\">Query succeeded<br/></span>"
      ]
     },
     "metadata": {},
     "output_type": "display_data"
    }
   ],
   "source": [
    "query \"ismember 2 [1,2,3]\""
   ]
  },
  {
   "cell_type": "code",
   "execution_count": 17,
   "id": "a5d5343a-2f9e-4db9-8235-d507cac4bf34",
   "metadata": {},
   "outputs": [
    {
     "data": {
      "text/html": [
       "<span class=\"glif-stdout\">Query failed<br/></span>"
      ]
     },
     "metadata": {},
     "output_type": "display_data"
    }
   ],
   "source": [
    "query \"ismember 5 [1,2,3]\""
   ]
  },
  {
   "cell_type": "markdown",
   "id": "ec8220c1-be7e-40b2-b6ab-20af4a058583",
   "metadata": {},
   "source": [
    "## Finale: `beval`, a better evaluator\n",
    "\n",
    "Our previous evaluator, `geval`, did not support propositional variables.\n",
    "We will finish this notebook by implementing a better evaluator (`beval`) that also supports propositional variables.\n",
    "\n",
    "For this, we will need to think about variable assignments.\n",
    "For example, to evaluate `and (pvar 3) true`, we need to now if variable 3 is `true` or `false`.\n",
    "In the following code, we will create a type `assignment` for such assignments.\n",
    "We will use `asgn 3 true` to indicate that variable 3 is true.\n",
    "\n",
    "`beval` is now a ternary predicate. The arguments are:\n",
    "1. A list of variable assignments\n",
    "2. A propositional formula\n",
    "3. The result of the evaluation"
   ]
  },
  {
   "cell_type": "code",
   "execution_count": 18,
   "id": "5102530e",
   "metadata": {},
   "outputs": [
    {
     "data": {
      "text/html": [
       "<span class=\"glif-stdout\">Successfully imported beval.elpi</span><br/><span class=\"glif-stdout\">beval.elpi is the new default file for ELPI commands</span>"
      ]
     },
     "metadata": {},
     "output_type": "display_data"
    }
   ],
   "source": [
    "elpi: beval\n",
    "% a better evaluator (supports variables via assignments)\n",
    "accumulate proplogsyntax.\n",
    "accumulate listutils.\n",
    "accumulate simplifier.\n",
    "\n",
    "kind assignment type.\n",
    "type asgn int -> oo -> assignment.\n",
    "\n",
    "type beval (list assignment) -> oo -> oo -> prop.\n",
    "% true evaluates to true\n",
    "beval _Phi true true.\n",
    "% false evaluates to false\n",
    "beval _Phi false false.\n",
    "% if variable `X` is assigned the value `Y`, then `pvar X` evaluates to `Y`.\n",
    "beval Phi (pvar X) Y :- ismember (asgn X Y) Phi.\n",
    "\n",
    "% the rest is basically copied from geval, but we pass the variable assignment around\n",
    "beval Phi (and X Y) true :- beval Phi X true, beval Phi Y true.\n",
    "beval Phi (and X _Y) false :- beval Phi X false.\n",
    "beval Phi (and _X Y) false :- beval Phi Y false.\n",
    "beval Phi (neg X) true :- beval Phi X false.\n",
    "beval Phi (neg X) false :- beval Phi X true.\n",
    "\n",
    "\n",
    "% Let's make a predicate that first calls the simplifier and then `beval`:\n",
    "type myeval (list assignment) -> oo -> oo -> prop.\n",
    "myeval Phi X Y :- simplify X X2, beval Phi X2 Y."
   ]
  },
  {
   "cell_type": "code",
   "execution_count": 19,
   "id": "36e929ce",
   "metadata": {},
   "outputs": [
    {
     "data": {
      "text/html": [
       "<span class=\"glif-stdout\">Query succeeded<br/>R = true</span>"
      ]
     },
     "metadata": {},
     "output_type": "display_data"
    }
   ],
   "source": [
    "query \"myeval [asgn 3 true, asgn 5 false] (impl (pvar 3) (neg (pvar 5))) R\""
   ]
  },
  {
   "cell_type": "code",
   "execution_count": 20,
   "id": "692e66ea-5dab-45d6-8576-11b0f1698362",
   "metadata": {},
   "outputs": [
    {
     "data": {
      "text/html": [
       "<span class=\"glif-stdout\">Query succeeded<br/>R = false</span>"
      ]
     },
     "metadata": {},
     "output_type": "display_data"
    }
   ],
   "source": [
    "query \"myeval [asgn 3 true, asgn 5 true] (impl (pvar 3) (neg (pvar 5))) R\""
   ]
  }
 ],
 "metadata": {
  "kernelspec": {
   "display_name": "GLIF",
   "language": "glif",
   "name": "glif"
  },
  "language_info": {
   "codemirror_mode": {
    "name": "glif"
   },
   "file_extension": ".glif",
   "mimetype": "text/glif",
   "name": "GLIF"
  }
 },
 "nbformat": 4,
 "nbformat_minor": 5
}
