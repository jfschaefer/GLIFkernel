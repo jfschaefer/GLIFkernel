{
 "cells": [
  {
   "cell_type": "markdown",
   "id": "e78c322f",
   "metadata": {},
   "source": [
    "# Implementing ND Provers with ELPI\n",
    "\n",
    "In this notebook we will explore how to implement natural deduction provers using ELPI.\n",
    "For conciseness, we will only cover conjunction and implication.\n",
    "\n",
    "**TODO: References and prerequisites**"
   ]
  },
  {
   "cell_type": "code",
   "execution_count": 1,
   "id": "dae49402",
   "metadata": {},
   "outputs": [
    {
     "data": {
      "text/html": [
       "<span class=\"glif-stdout\">Successfully imported logicsyntax.elpi</span><br/><span class=\"glif-stdout\">logicsyntax.elpi is the new default file for ELPI commands</span>"
      ]
     },
     "metadata": {},
     "output_type": "display_data"
    }
   ],
   "source": [
    "elpi: logicsyntax\n",
    "\n",
    "kind proposition type.\n",
    "type and proposition -> proposition -> proposition.\n",
    "type impl proposition -> proposition -> proposition.\n",
    "\n",
    "% Some example propositions\n",
    "type a proposition.\n",
    "type b proposition.\n",
    "type c proposition."
   ]
  },
  {
   "cell_type": "markdown",
   "id": "2dbfb996",
   "metadata": {},
   "source": [
    "## Naive attempt"
   ]
  },
  {
   "cell_type": "code",
   "execution_count": 2,
   "id": "1fac84a9",
   "metadata": {},
   "outputs": [
    {
     "data": {
      "text/html": [
       "<span class=\"glif-stdout\">Successfully imported naive.elpi</span><br/><span class=\"glif-stdout\">naive.elpi is the new default file for ELPI commands</span>"
      ]
     },
     "metadata": {},
     "output_type": "display_data"
    }
   ],
   "source": [
    "elpi: naive\n",
    "\n",
    "accumulate logicsyntax.\n",
    "\n",
    "% we'll simply introduce a predicate indicating if a proposition is provable\n",
    "type provable proposition -> prop.\n",
    "\n",
    "% A∧B is provable if A is provable and B is provable (∧I)\n",
    "provable (and A B) :- provable A, provable B.\n",
    "% provable A :- provable (and A _B).   % ∧El\n",
    "% provable B :- provable (and _A B).   % ∧Er\n",
    "\n",
    "% A⇒B is provable if adding `provable A` to the context makes B provable (⇒I) \n",
    "provable (impl A B) :- provable A => provable B.\n",
    "% provable B :- provable (impl A B), provable A.  % ⇒E"
   ]
  },
  {
   "cell_type": "markdown",
   "id": "2dc98c3c",
   "metadata": {},
   "source": [
    "In the naive implementation, the proof search diverges for the elimination rules (which is why they are commented out).\n",
    "However, the prover can already find proofs that only require `∧I` and `⇒I`:"
   ]
  },
  {
   "cell_type": "code",
   "execution_count": 3,
   "id": "33b6d17a",
   "metadata": {},
   "outputs": [
    {
     "data": {
      "text/html": [
       "<span class=\"glif-stdout\">Query succeeded<br/></span>"
      ]
     },
     "metadata": {},
     "output_type": "display_data"
    }
   ],
   "source": [
    "-- a ⇒ b ⇒ a∧b\n",
    "query \"provable (impl a (impl b (and a b)))\""
   ]
  },
  {
   "cell_type": "code",
   "execution_count": 4,
   "id": "4b5cf245",
   "metadata": {},
   "outputs": [
    {
     "data": {
      "text/html": [
       "<span class=\"glif-stdout\">Query failed<br/></span>"
      ]
     },
     "metadata": {},
     "output_type": "display_data"
    }
   ],
   "source": [
    "-- a ⇒ b ⇒ c\n",
    "query \"provable (impl a (impl b c))\""
   ]
  },
  {
   "cell_type": "code",
   "execution_count": 5,
   "id": "5db6a015",
   "metadata": {},
   "outputs": [
    {
     "data": {
      "text/html": [
       "<span class=\"glif-stdout\">Query failed<br/></span>"
      ]
     },
     "metadata": {},
     "output_type": "display_data"
    }
   ],
   "source": [
    "-- a∧b⇒b∧a also fails because proving it requires the elimination rules that were commented out\n",
    "query \"provable (impl (and a b) (and b a))\""
   ]
  },
  {
   "cell_type": "markdown",
   "id": "54441063",
   "metadata": {},
   "source": [
    "## Limiting the Search Depth\n",
    "\n",
    "To prevent the proof search from diverging, we can introduce another argument that limits the search depth."
   ]
  },
  {
   "cell_type": "code",
   "execution_count": 6,
   "id": "f6919605",
   "metadata": {},
   "outputs": [
    {
     "data": {
      "text/html": [
       "<span class=\"glif-stdout\">Successfully imported depthlimited.elpi</span><br/><span class=\"glif-stdout\">depthlimited.elpi is the new default file for ELPI commands</span>"
      ]
     },
     "metadata": {},
     "output_type": "display_data"
    }
   ],
   "source": [
    "elpi: depthlimited\n",
    "\n",
    "accumulate logicsyntax.\n",
    "\n",
    "type provable proposition -> int -> prop.\n",
    "\n",
    "% ∧I\n",
    "provable (and A B) Depth :- Depth > 0, RestDepth is Depth - 1,\n",
    "    provable A RestDepth, provable B RestDepth.\n",
    "% ∧El\n",
    "provable A Depth :- Depth > 0, RestDepth is Depth - 1, provable (and A _B) RestDepth.\n",
    "% ∧Er\n",
    "provable B Depth :- Depth > 0, RestDepth is Depth - 1, provable (and _A B) RestDepth.\n",
    "\n",
    "% ⇒I\n",
    "provable (impl A B) Depth :- Depth > 0, RestDepth is Depth - 1,\n",
    "    provable A _AnyDepth => provable B RestDepth.\n",
    "% ⇒E\n",
    "provable B Depth :- Depth > 0, RestDepth is Depth - 1,\n",
    "    provable (impl A B) RestDepth, provable A RestDepth."
   ]
  },
  {
   "cell_type": "code",
   "execution_count": 7,
   "id": "e93e48cc",
   "metadata": {},
   "outputs": [
    {
     "data": {
      "text/html": [
       "<span class=\"glif-stdout\">Query failed<br/></span>"
      ]
     },
     "metadata": {},
     "output_type": "display_data"
    },
    {
     "data": {
      "text/html": [
       "<hr class=\"glif-sep\"/>"
      ]
     },
     "metadata": {},
     "output_type": "display_data"
    },
    {
     "data": {
      "text/html": [
       "<span class=\"glif-stdout\">Query failed<br/></span>"
      ]
     },
     "metadata": {},
     "output_type": "display_data"
    },
    {
     "data": {
      "text/html": [
       "<hr class=\"glif-sep\"/>"
      ]
     },
     "metadata": {},
     "output_type": "display_data"
    },
    {
     "data": {
      "text/html": [
       "<span class=\"glif-stdout\">Query succeeded<br/></span>"
      ]
     },
     "metadata": {},
     "output_type": "display_data"
    },
    {
     "data": {
      "text/html": [
       "<hr class=\"glif-sep\"/>"
      ]
     },
     "metadata": {},
     "output_type": "display_data"
    },
    {
     "data": {
      "text/html": [
       "<span class=\"glif-stdout\">Query succeeded<br/></span>"
      ]
     },
     "metadata": {},
     "output_type": "display_data"
    }
   ],
   "source": [
    "-- a∧b⇒b∧a requires a depth of at least 3:\n",
    "query \"provable (impl (and a b) (and b a)) 1\"\n",
    "query \"provable (impl (and a b) (and b a)) 2\"\n",
    "query \"provable (impl (and a b) (and b a)) 3\"\n",
    "query \"provable (impl (and a b) (and b a)) 4\""
   ]
  },
  {
   "cell_type": "markdown",
   "id": "926cd16b",
   "metadata": {},
   "source": [
    "## Recording Proof Terms\n",
    "\n",
    "So far, our `provable` predicate tells us if a proposition is a theorem or not, but it doesn't provide a proof.\n",
    "To produce a natural deduction proof, we simply have to record the rule applications that led to a success.\n",
    "The resulting proof terms are exactly the same (modulo syntax) as we used in MMT."
   ]
  },
  {
   "cell_type": "code",
   "execution_count": 8,
   "id": "41e7a937",
   "metadata": {},
   "outputs": [
    {
     "data": {
      "text/html": [
       "<span class=\"glif-stdout\">Successfully imported proofterms.elpi</span><br/><span class=\"glif-stdout\">proofterms.elpi is the new default file for ELPI commands</span>"
      ]
     },
     "metadata": {},
     "output_type": "display_data"
    }
   ],
   "source": [
    "elpi: proofterms\n",
    "\n",
    "% we have to introduce a type for proof terms\n",
    "kind proofterm type.\n",
    "\n",
    "% A proof of A and a proof of B give us a proof of A∧B (i.e. ⊢A ⟶ ⊢B ⟶ ⊢A∧B)\n",
    "type andI proofterm -> proofterm -> proofterm.\n",
    "type andEl proofterm -> proofterm.\n",
    "type andEr proofterm -> proofterm.\n",
    "\n",
    "type implI (proofterm -> proofterm) -> proofterm.    % (⊢A ⟶ ⊢B) ⟶ ⊢A⇒B\n",
    "type implE proofterm -> proofterm -> proofterm."
   ]
  },
  {
   "cell_type": "code",
   "execution_count": 9,
   "id": "e4236780",
   "metadata": {},
   "outputs": [
    {
     "data": {
      "text/html": [
       "<span class=\"glif-stdout\">Successfully imported withproofterms.elpi</span><br/><span class=\"glif-stdout\">withproofterms.elpi is the new default file for ELPI commands</span>"
      ]
     },
     "metadata": {},
     "output_type": "display_data"
    }
   ],
   "source": [
    "elpi: withproofterms\n",
    "\n",
    "accumulate logicsyntax.\n",
    "accumulate proofterms.\n",
    "\n",
    "% We simply add one more argument to `provable` for recording the proof terms\n",
    "type provable proposition -> int -> proofterm -> prop.\n",
    "\n",
    "% ∧I\n",
    "provable (and A B) Depth (andI ProofA ProofB):- Depth > 0, RestDepth is Depth - 1,\n",
    "    provable A RestDepth ProofA, provable B RestDepth ProofB.\n",
    "% ∧El\n",
    "provable A Depth (andEl Proof) :- Depth > 0, RestDepth is Depth - 1, provable (and A _B) RestDepth Proof.\n",
    "% ∧Er\n",
    "provable B Depth (andEr Proof) :- Depth > 0, RestDepth is Depth - 1, provable (and _A B) RestDepth Proof.\n",
    "\n",
    "% ⇒I\n",
    "provable (impl A B) Depth (implI ProofFn):- Depth > 0, RestDepth is Depth - 1,\n",
    "    pi proofA \\ provable A _AnyDepth proofA => provable B RestDepth (ProofFn proofA).\n",
    "% ⇒E\n",
    "provable B Depth (implE ProofImpl ProofA) :- Depth > 0, RestDepth is Depth - 1,\n",
    "    provable (impl A B) RestDepth ProofImpl, provable A RestDepth ProofA."
   ]
  },
  {
   "cell_type": "markdown",
   "id": "a280c613",
   "metadata": {},
   "source": [
    "###### Examples\n",
    "Let's try to proof `a⇒a`. Recall that in MMT we would do this with `p : ⊢a⇒a ❘ = implI [proofOfA] proofOfA`.\n",
    "In ELPI, the syntax for lambda functions is `x \\ M` for `λx.M` (or `[x] M` in MMT)."
   ]
  },
  {
   "cell_type": "code",
   "execution_count": 10,
   "id": "998f38df",
   "metadata": {},
   "outputs": [
    {
     "data": {
      "text/html": [
       "<span class=\"glif-stdout\">Query succeeded<br/>ProofTerm = implI c0 \\ c0</span>"
      ]
     },
     "metadata": {},
     "output_type": "display_data"
    }
   ],
   "source": [
    "query \"provable (impl a a) 2 ProofTerm\""
   ]
  },
  {
   "cell_type": "code",
   "execution_count": 11,
   "id": "d186e302",
   "metadata": {},
   "outputs": [
    {
     "data": {
      "text/html": [
       "<span class=\"glif-stdout\">Query succeeded<br/>ProofTerm = implI c0 \\ andI (andEr c0) (andEl c0)</span>"
      ]
     },
     "metadata": {},
     "output_type": "display_data"
    }
   ],
   "source": [
    "-- a∧b⇒b∧a\n",
    "query \"provable (impl (and a b) (and b a)) 3 ProofTerm\""
   ]
  },
  {
   "cell_type": "code",
   "execution_count": 12,
   "id": "0323e1c0",
   "metadata": {},
   "outputs": [
    {
     "data": {
      "text/html": [
       "<span class=\"glif-stdout\">Query succeeded<br/>ProofTerm = andEl<br/>&nbsp;&nbsp;&nbsp;&nbsp;&nbsp;&nbsp;&nbsp;&nbsp;&nbsp;&nbsp;&nbsp;&nbsp;&nbsp;&nbsp; (andI (implI c0 \\ andI (andEr c0) (andEl c0)) <br/>&nbsp;&nbsp;&nbsp;&nbsp;&nbsp;&nbsp;&nbsp;&nbsp;&nbsp;&nbsp;&nbsp;&nbsp;&nbsp;&nbsp;&nbsp;&nbsp; (andI (andI (implI c0 \\ c0) (implI c0 \\ c0)) <br/>&nbsp;&nbsp;&nbsp;&nbsp;&nbsp;&nbsp;&nbsp;&nbsp;&nbsp;&nbsp;&nbsp;&nbsp;&nbsp;&nbsp;&nbsp;&nbsp;&nbsp;&nbsp; (andI (implI c0 \\ c0) (implI c0 \\ c0))))</span>"
      ]
     },
     "metadata": {},
     "output_type": "display_data"
    }
   ],
   "source": [
    "-- setting a higher search depth, we usually get a longer proof term\n",
    "query \"provable (impl (and a b) (and b a)) 5 ProofTerm\""
   ]
  },
  {
   "cell_type": "markdown",
   "id": "af4ef26d",
   "metadata": {},
   "source": [
    "## Adding Controller Code\n",
    "\n",
    "Currently, using the prover is a bit unwieldy. It's particularly annoying that we have to manually pick the right search depth – if it is too small, no proof is found, and if it is too large, the search takes too long and the proof term will be unnecessarily complicated.\n",
    "To remedy this, we can introduce some controller code that iteratively increments the search depth until a proof is found (iterative deepening)."
   ]
  },
  {
   "cell_type": "code",
   "execution_count": 13,
   "id": "bb3777cd",
   "metadata": {},
   "outputs": [
    {
     "data": {
      "text/html": [
       "<span class=\"glif-stdout\">Successfully imported controlledsearch.elpi</span><br/><span class=\"glif-stdout\">controlledsearch.elpi is the new default file for ELPI commands</span>"
      ]
     },
     "metadata": {},
     "output_type": "display_data"
    }
   ],
   "source": [
    "elpi: controlledsearch\n",
    "\n",
    "accumulate withproofterms.\n",
    "\n",
    "type prove_helper proposition -> int -> int -> prop.\n",
    "prove_helper Prop Depth MaxDepth :-\n",
    "    Depth =< MaxDepth,\n",
    "    print \"Trying depth\" Depth,\n",
    "    provable Prop Depth ProofTerm,\n",
    "    print \"Found a proof:\" ProofTerm.\n",
    "prove_helper Prop Depth MaxDepth :-\n",
    "    Depth < MaxDepth,\n",
    "    NewDepth is Depth + 1,\n",
    "    prove_helper Prop NewDepth MaxDepth.\n",
    "\n",
    "type prove proposition -> prop.\n",
    "prove Prop :- prove_helper Prop 0 5."
   ]
  },
  {
   "cell_type": "code",
   "execution_count": 14,
   "id": "ee2d8958",
   "metadata": {
    "scrolled": true
   },
   "outputs": [
    {
     "data": {
      "text/html": [
       "<span class=\"glif-stdout\">Trying depth 0<br/>Trying depth 1<br/>Trying depth 2<br/>Trying depth 3<br/>Found a proof: implI c0 \\ andI (andEr c0) (andEl c0)<br/>Query succeeded<br/></span>"
      ]
     },
     "metadata": {},
     "output_type": "display_data"
    }
   ],
   "source": [
    "query \"prove (impl (and a b) (and b a))\""
   ]
  }
 ],
 "metadata": {
  "kernelspec": {
   "display_name": "GLIF",
   "language": "glif",
   "name": "glif"
  },
  "language_info": {
   "file_extension": ".glif",
   "mimetype": "text/glif",
   "name": "GLIF"
  }
 },
 "nbformat": 4,
 "nbformat_minor": 5
}
