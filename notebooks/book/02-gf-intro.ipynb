{
 "cells": [
  {
   "cell_type": "markdown",
   "id": "9a58b9a6",
   "metadata": {},
   "source": [
    "# Introduction to GF\n",
    "\n",
    "This notebook introduces GF, the Grammatical Framework ([https://www.grammaticalframework.org/](https://www.grammaticalframework.org/)), which is responsible for parsing in GLIF.\n",
    "We will only work through a \"hello world\" level example - to learn the true power of GF we recommend taking a look at the [GF tutorial](https://www.grammaticalframework.org/doc/tutorial/gf-tutorial.html).\n",
    "\n",
    "If you are already familiar with GF, you should still skim through this notebook to see how GF can be used in a GLIF notebook."
   ]
  },
  {
   "cell_type": "markdown",
   "id": "9da1cafb",
   "metadata": {},
   "source": [
    "In this notebook we will develop a very small grammar that supports sentences like:\n",
    "* *John loves Mary*\n",
    "* *Mary runs and jumps*\n",
    "* *John loves Mary and runs*"
   ]
  },
  {
   "cell_type": "markdown",
   "id": "d2878cdb",
   "metadata": {},
   "source": [
    "## Abstract syntax\n",
    "\n",
    "A GF grammar consists of an **abstract syntax**, which describes what abstract syntax trees are supported by the grammar, and (potentially multiple) **concrete syntaxes** that describe how the abstract syntax trees correspond to strings in a particular language.\n",
    "\n",
    "Normally, a GF abstract syntax is described in a `.gf` file, but in a GLIF notebook, we can simply enter it into a code cell:"
   ]
  },
  {
   "cell_type": "code",
   "execution_count": 1,
   "id": "36592334",
   "metadata": {},
   "outputs": [
    {
     "data": {
      "text/html": [
       "<span class=\"glif-stdout\">Successfully imported Gossip.gf</span>"
      ]
     },
     "metadata": {},
     "output_type": "display_data"
    }
   ],
   "source": [
    "-- Comments start with --\n",
    "\n",
    "-- Let us call the abstract syntax `Gossip`:\n",
    "abstract Gossip = {\n",
    "    cat           -- the `cat` keyword is used to introduce the syntactic categories\n",
    "        S;        -- for complete sentences\n",
    "        Person;   -- \"John\", \"Mary\", ...\n",
    "        Verb;     -- \"runs\", \"loves Mary\", ...\n",
    "    \n",
    "    fun           -- the `fun` keyword is used to introduce rules\n",
    "        -- the `sentence` rule combines a `Person` and a `Verb` to get a complete sentence (`S`)\n",
    "        sentence : Person -> Verb -> S;    -- \"John\" -> \"runs\" -> \"John runs\"\n",
    "        and: Verb -> Verb -> Verb;         -- \"runs\" -> \"loves Mary\" -> \"runs and loves Mary\"\n",
    "        \n",
    "        -- \"terminals\"\n",
    "        john: Person;\n",
    "        mary: Person;\n",
    "        run: Verb;\n",
    "        jump: Verb;\n",
    "        \n",
    "        -- transitive verbs like \"love\" require an object\n",
    "        love : Person -> Verb;    -- \"John\" -> \"loves John\"\n",
    "        hate : Person -> Verb;\n",
    "}"
   ]
  },
  {
   "cell_type": "markdown",
   "id": "2829e14e",
   "metadata": {},
   "source": [
    "With the abstract syntax in place, we can now express the abstract syntax trees for our example sentences.\n",
    "GF usually uses a string representation.\n",
    "For example, the sentence *John loves Mary and runs* would have the abstract syntax tree `sentence john (and (love mary) run)`.\n",
    "Abstract syntax trees can be visualized with the `visualize_tree` command:"
   ]
  },
  {
   "cell_type": "code",
   "execution_count": 2,
   "id": "aa081526",
   "metadata": {},
   "outputs": [
    {
     "data": {
      "application/vnd.jupyter.widget-view+json": {
       "model_id": "d249482c46af4e7eaf911f7522c3f0ec",
       "version_major": 2,
       "version_minor": 0
      },
      "text/plain": [
       "Dropdown(layout=Layout(width='max-content'), options=('0.0. sentence john (and (love mary) run)',), value='0.0…"
      ]
     },
     "metadata": {},
     "output_type": "display_data"
    },
    {
     "data": {
      "application/vnd.jupyter.widget-view+json": {
       "model_id": "ca0ae8f6fb874b448391c888af09fac6",
       "version_major": 2,
       "version_minor": 0
      },
      "text/plain": [
       "Image(value=b'<?xml version=\"1.0\" encoding=\"UTF-8\" standalone=\"no\"?>\\n<!DOCTYPE svg PUBLIC \"-//W3C//DTD SVG 1.…"
      ]
     },
     "metadata": {},
     "output_type": "display_data"
    }
   ],
   "source": [
    "visualize_tree sentence john (and (love mary) run)"
   ]
  },
  {
   "cell_type": "markdown",
   "id": "024ae3f6",
   "metadata": {},
   "source": [
    "# Concrete syntax\n",
    "\n",
    "In the concrete syntax we describe how abstract syntax trees can be linearized into strings.\n",
    "GF is designed such that it can also generate a parse from that description.\n",
    "Let us start by making a concrete syntax for English, again as a code cell:"
   ]
  },
  {
   "cell_type": "code",
   "execution_count": 3,
   "id": "f4008210",
   "metadata": {},
   "outputs": [
    {
     "data": {
      "text/html": [
       "<span class=\"glif-stdout\">Successfully imported GossipEng.gf</span>"
      ]
     },
     "metadata": {},
     "output_type": "display_data"
    }
   ],
   "source": [
    "concrete GossipEng of Gossip = {\n",
    "    lincat    -- after the `lincat` keyword, we describe what concrete types the syntactic categories have\n",
    "              -- in this very simple example, everything should be a string\n",
    "        S = Str; Person = Str; Verb = Str;\n",
    "\n",
    "    lin       -- after the `lin` keyword, we describe the linearization of rules\n",
    "        \n",
    "        -- the `sentence` rule gets a `Person` (`pers`) and a `Verb` (`vrb`) and concatenates them (`++`).\n",
    "        sentence pers vrb = pers ++ vrb;\n",
    "        -- the `and` rule takes two `Verb`s and concatenates them with and \"and\" in between:\n",
    "        and v1 v2 = v1 ++ \"and\" ++ v2;\n",
    "        \n",
    "        john = \"John\";\n",
    "        mary = \"Mary\";\n",
    "        run = \"runs\";\n",
    "        jump = \"jumps\";\n",
    "        love pers = \"loves\" ++ pers;\n",
    "        hate pers = \"hates\" ++ pers;\n",
    "}"
   ]
  },
  {
   "cell_type": "markdown",
   "id": "3b931a1f",
   "metadata": {},
   "source": [
    "With the concrete syntax in place, we can now linearize and parse sentences:"
   ]
  },
  {
   "cell_type": "code",
   "execution_count": 4,
   "id": "b41cff4e",
   "metadata": {},
   "outputs": [
    {
     "data": {
      "text/html": [
       "<span class=\"glif-stdout\">John loves Mary and runs</span>"
      ]
     },
     "metadata": {},
     "output_type": "display_data"
    }
   ],
   "source": [
    "linearize sentence john (and (love mary) run)"
   ]
  },
  {
   "cell_type": "code",
   "execution_count": 5,
   "id": "6f0ecade",
   "metadata": {},
   "outputs": [
    {
     "data": {
      "text/html": [
       "<span class=\"glif-stdout\">sentence john (and (love mary) run)</span>"
      ]
     },
     "metadata": {},
     "output_type": "display_data"
    }
   ],
   "source": [
    "parse \"John loves Mary and runs\""
   ]
  },
  {
   "cell_type": "markdown",
   "id": "a23dda71",
   "metadata": {},
   "source": [
    "By default, GF tries to parse something of the category `S`, if we want to parse anything else, we have to specify the category, otherwise we get a parser error:"
   ]
  },
  {
   "cell_type": "code",
   "execution_count": 6,
   "id": "5fe4d8eb",
   "metadata": {},
   "outputs": [
    {
     "data": {
      "text/html": [
       "\n",
       "<br/><span class=\"glif-stderr\"><b>Errors</b><br/>The parser failed at token 1: \"loves\"</span>"
      ]
     },
     "metadata": {},
     "output_type": "display_data"
    }
   ],
   "source": [
    "parse \"loves Mary\""
   ]
  },
  {
   "cell_type": "code",
   "execution_count": 7,
   "id": "1eec0351",
   "metadata": {},
   "outputs": [
    {
     "data": {
      "text/html": [
       "<span class=\"glif-stdout\">love mary</span>"
      ]
     },
     "metadata": {},
     "output_type": "display_data"
    }
   ],
   "source": [
    "parse -cat=Verb \"loves Mary\""
   ]
  },
  {
   "cell_type": "markdown",
   "id": "b132c9ac",
   "metadata": {},
   "source": [
    "Commands can be concatenated with the `|` operator.\n",
    "For example, we can first parse a sentence and then visualize the resulting abstract syntax tree:"
   ]
  },
  {
   "cell_type": "code",
   "execution_count": 8,
   "id": "07ef3c4e",
   "metadata": {},
   "outputs": [
    {
     "data": {
      "application/vnd.jupyter.widget-view+json": {
       "model_id": "7a79c88a89174abe8e5ffdd947b2d14e",
       "version_major": 2,
       "version_minor": 0
      },
      "text/plain": [
       "Dropdown(layout=Layout(width='max-content'), options=('0.0. sentence john (and (love mary) run)',), value='0.0…"
      ]
     },
     "metadata": {},
     "output_type": "display_data"
    },
    {
     "data": {
      "application/vnd.jupyter.widget-view+json": {
       "model_id": "e88d307892e2443283f4535a2a5214de",
       "version_major": 2,
       "version_minor": 0
      },
      "text/plain": [
       "Image(value=b'<?xml version=\"1.0\" encoding=\"UTF-8\" standalone=\"no\"?>\\n<!DOCTYPE svg PUBLIC \"-//W3C//DTD SVG 1.…"
      ]
     },
     "metadata": {},
     "output_type": "display_data"
    }
   ],
   "source": [
    "parse \"John loves Mary and runs\" | visualize_tree"
   ]
  },
  {
   "cell_type": "markdown",
   "id": "e2d1588c",
   "metadata": {},
   "source": [
    "Similarly, we can use the `generate_random` command to generate random abstract syntax trees and directly linearize them:"
   ]
  },
  {
   "cell_type": "code",
   "execution_count": 9,
   "id": "af3da782",
   "metadata": {},
   "outputs": [
    {
     "data": {
      "text/html": [
       "<span class=\"glif-stdout\">Mary loves John</span><br/><span class=\"glif-stdout\">Mary hates Mary</span><br/><span class=\"glif-stdout\">Mary loves Mary and hates Mary</span><br/><span class=\"glif-stdout\">Mary hates Mary</span><br/><span class=\"glif-stdout\">John loves John</span><br/><span class=\"glif-stdout\">Mary loves Mary</span><br/><span class=\"glif-stdout\">John runs</span><br/><span class=\"glif-stdout\">Mary hates John and loves John and runs and jumps</span>"
      ]
     },
     "metadata": {},
     "output_type": "display_data"
    }
   ],
   "source": [
    "generate_random -number=8 | linearize"
   ]
  },
  {
   "cell_type": "markdown",
   "id": "dffecfbd",
   "metadata": {},
   "source": [
    "A common application of GF is translation.\n",
    "The idea is to have two concrete syntaxes that share the same abstract syntax.\n",
    "In our example, we have an English concrete syntax and we will additionally create a German concrete syntax.\n",
    "Then we can parse a sentence using e.g. the English concrete syntax and linearize it using the German concrete syntax, which effectively translates a sentence from English to German."
   ]
  },
  {
   "cell_type": "code",
   "execution_count": 10,
   "id": "a4a429c8",
   "metadata": {},
   "outputs": [
    {
     "data": {
      "text/html": [
       "<span class=\"glif-stdout\">Successfully imported GossipGer.gf</span>"
      ]
     },
     "metadata": {},
     "output_type": "display_data"
    }
   ],
   "source": [
    "concrete GossipGer of Gossip = {\n",
    "    lincat\n",
    "        S = Str; Person = Str; Verb = Str;\n",
    "    \n",
    "    lin\n",
    "        sentence pers vrb = pers ++ vrb;\n",
    "        and v1 v2 = v1 ++ \"und\" ++ v2;\n",
    "        \n",
    "        john = \"Johann\";    -- let us translate names as well\n",
    "        mary = \"Maria\";\n",
    "        run = \"rennt\";\n",
    "        jump = \"springt\";\n",
    "        love pers = \"liebt\" ++ pers;\n",
    "        hate pers = \"hasst\" ++ pers;\n",
    "}"
   ]
  },
  {
   "cell_type": "markdown",
   "id": "f06f0267",
   "metadata": {},
   "source": [
    "Now that we have two different concrete syntaxes loaded, we always have to specify what language we want - otherwise GF will use all languages:"
   ]
  },
  {
   "cell_type": "code",
   "execution_count": 11,
   "id": "f81ed59c",
   "metadata": {},
   "outputs": [
    {
     "data": {
      "text/html": [
       "<span class=\"glif-stdout\">John loves Mary and runs</span><br/><span class=\"glif-stdout\">Johann liebt Maria und rennt</span>"
      ]
     },
     "metadata": {},
     "output_type": "display_data"
    }
   ],
   "source": [
    "-- all languages\n",
    "linearize sentence john (and (love mary) run)"
   ]
  },
  {
   "cell_type": "code",
   "execution_count": 12,
   "id": "edab2972",
   "metadata": {},
   "outputs": [
    {
     "data": {
      "text/html": [
       "<span class=\"glif-stdout\">John loves Mary and runs</span>"
      ]
     },
     "metadata": {},
     "output_type": "display_data"
    }
   ],
   "source": [
    "-- only German\n",
    "linearize -lang=Eng sentence john (and (love mary) run)"
   ]
  },
  {
   "cell_type": "code",
   "execution_count": 13,
   "id": "4ce1d220",
   "metadata": {},
   "outputs": [
    {
     "data": {
      "text/html": [
       "<span class=\"glif-stdout\">Johann liebt Maria und rennt</span>"
      ]
     },
     "metadata": {},
     "output_type": "display_data"
    }
   ],
   "source": [
    "-- and finally translation\n",
    "parse -lang=Eng \"John loves Mary and runs\" | linearize -lang=Ger"
   ]
  }
 ],
 "metadata": {
  "kernelspec": {
   "display_name": "GLIF",
   "language": "glif",
   "name": "glif"
  },
  "language_info": {
   "file_extension": ".glif",
   "mimetype": "text/glif",
   "name": "GLIF"
  }
 },
 "nbformat": 4,
 "nbformat_minor": 5
}
