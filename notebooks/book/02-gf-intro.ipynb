{
 "cells": [
  {
   "cell_type": "markdown",
   "id": "9a58b9a6",
   "metadata": {},
   "source": [
    "# Introduction to GF\n",
    "\n",
    "This notebook introduces GF, the Grammatical Framework ([https://www.grammaticalframework.org/](https://www.grammaticalframework.org/)), which is responsible for parsing in GLIF.\n",
    "We will only work through a \"hello world\" level example - to learn the true power of GF we recommend taking a look at the [GF tutorial](https://www.grammaticalframework.org/doc/tutorial/gf-tutorial.html).\n",
    "\n",
    "If you are already familiar with GF, you should still skim through this notebook to see how GF can be used in a GLIF notebook."
   ]
  },
  {
   "cell_type": "markdown",
   "id": "9da1cafb",
   "metadata": {},
   "source": [
    "In this notebook we will develop a very small grammar that supports sentences like:\n",
    "* *John loves Mary*\n",
    "* *Mary runs and jumps*\n",
    "* *John loves Mary and runs*"
   ]
  },
  {
   "cell_type": "markdown",
   "id": "daffa783-9275-43d2-aea6-9a353aefa439",
   "metadata": {},
   "source": [
    "A GF grammar consists of an **abstract syntax**, which describes what abstract syntax trees are supported by the grammar, and (potentially multiple) **concrete syntaxes** that describe how the abstract syntax trees correspond to strings in a particular language."
   ]
  },
  {
   "cell_type": "markdown",
   "id": "20d98be2-0644-4d6d-8073-4e1624db04e2",
   "metadata": {},
   "source": [
    "Normally, GF modules are described in `.gf` files, but in a GLIF notebook, we can simply enter it into a code cell.\n",
    "GLIF will then store it in a file behind the scenes (you can change the location with the `archive` command).\n"
   ]
  },
  {
   "cell_type": "markdown",
   "id": "d2878cdb",
   "metadata": {},
   "source": [
    "## Abstract syntax\n",
    "\n",
    "Here we describe the abstract syntax of the grammar.\n",
    "For the example sentence, we need three syntactic categories.\n",
    "We will call them `S` (sentences), `Person` and `Verb`.\n",
    "These are the node types of the abstract syntax trees.\n",
    "\n",
    "The abstract syntax contains rules that describe how we can combine\n",
    "different nodes.\n",
    "For example, we can take a `Person` (*John*) and a `Verb` (*runs*) and make a sentence (`S`) from that (*John runs*).\n",
    "We write this in GF as\n",
    "```\n",
    "        sentence: Person -> Verb -> S\n",
    "```\n",
    "Another way to think about it is that the `sentence` rule is a function that gets two arguments (a person and a verb) and returns a sentence."
   ]
  },
  {
   "cell_type": "code",
   "execution_count": 1,
   "id": "36592334",
   "metadata": {},
   "outputs": [
    {
     "data": {
      "text/html": [
       "<div class=\"glif-stdout\"><span>Successfully imported Gossip.gf</span></div>"
      ]
     },
     "metadata": {},
     "output_type": "display_data"
    }
   ],
   "source": [
    "-- Comments start with \"--\"\n",
    "\n",
    "-- Let us call the abstract syntax `Gossip`:\n",
    "abstract Gossip = {\n",
    "    cat           -- the `cat` keyword is used to introduce the syntactic categories\n",
    "        S;        -- for complete sentences\n",
    "        Person;   -- \"John\", \"Mary\", ...\n",
    "        Verb;     -- \"runs\", \"loves Mary\", ...\n",
    "    \n",
    "    fun           -- the `fun` keyword is used to introduce rules\n",
    "        -- the `sentence` rule combines a `Person` and a `Verb` to get a complete sentence (`S`)\n",
    "        sentence : Person -> Verb -> S;    -- \"John\" -> \"runs\" -> \"John runs\"\n",
    "        and: Verb -> Verb -> Verb;         -- \"runs\" -> \"loves Mary\" -> \"runs and loves Mary\"\n",
    "        \n",
    "        -- \"terminals\"\n",
    "        john: Person;\n",
    "        mary: Person;\n",
    "        run: Verb;\n",
    "        jump: Verb;\n",
    "        \n",
    "        -- transitive verbs like \"love\" require an object\n",
    "        love : Person -> Verb;    -- \"John\" -> \"loves John\"\n",
    "        hate : Person -> Verb;\n",
    "}"
   ]
  },
  {
   "cell_type": "markdown",
   "id": "2829e14e",
   "metadata": {},
   "source": [
    "With the abstract syntax in place, we can now express the abstract syntax trees for our example sentences.\n",
    "GF usually uses a string representation.\n",
    "For example, the sentence *John loves Mary and runs* would have the abstract syntax tree `sentence john (and (love mary) run)`.\n",
    "Abstract syntax trees can be visualized with the `visualize_tree` command:"
   ]
  },
  {
   "cell_type": "code",
   "execution_count": 2,
   "id": "aa081526",
   "metadata": {},
   "outputs": [
    {
     "data": {
      "application/vnd.jupyter.widget-view+json": {
       "model_id": "481edd6d99974a33b391f00fa9a178c2",
       "version_major": 2,
       "version_minor": 0
      },
      "text/plain": [
       "Dropdown(layout=Layout(width='max-content'), options=('0.0. sentence john (and (love mary) run)',), value='0.0…"
      ]
     },
     "metadata": {},
     "output_type": "display_data"
    },
    {
     "data": {
      "application/vnd.jupyter.widget-view+json": {
       "model_id": "3bf3cdcd8fca4d4fa94856febb50d3d5",
       "version_major": 2,
       "version_minor": 0
      },
      "text/plain": [
       "Image(value=b'<?xml version=\"1.0\" encoding=\"UTF-8\" sta...', format='svg+xml')"
      ]
     },
     "metadata": {},
     "output_type": "display_data"
    }
   ],
   "source": [
    "visualize_tree sentence john (and (love mary) run)"
   ]
  },
  {
   "cell_type": "markdown",
   "id": "024ae3f6",
   "metadata": {},
   "source": [
    "# Concrete syntax\n",
    "\n",
    "In the concrete syntax we describe how abstract syntax trees can be linearized into strings.\n",
    "GF is designed such that it can also generate a parse from that description.\n",
    "Let us start by making a concrete syntax for English, again as a code cell:"
   ]
  },
  {
   "cell_type": "code",
   "execution_count": 3,
   "id": "f4008210",
   "metadata": {},
   "outputs": [
    {
     "data": {
      "text/html": [
       "<div class=\"glif-stdout\"><span>Successfully imported GossipEng.gf</span></div>"
      ]
     },
     "metadata": {},
     "output_type": "display_data"
    }
   ],
   "source": [
    "concrete GossipEng of Gossip = {\n",
    "    lincat    -- after the `lincat` keyword, we describe what concrete types the syntactic categories have\n",
    "              -- in this very simple example, everything should be a string\n",
    "        S = Str; Person = Str; Verb = Str;\n",
    "\n",
    "    lin       -- after the `lin` keyword, we describe the linearization of rules\n",
    "        \n",
    "        -- the `sentence` rule gets a `Person` (`pers`) and a `Verb` (`vrb`) and concatenates them (`++`).\n",
    "        sentence pers vrb = pers ++ vrb;\n",
    "        -- the `and` rule takes two `Verb`s and concatenates them with and \"and\" in between:\n",
    "        and v1 v2 = v1 ++ \"and\" ++ v2;\n",
    "        \n",
    "        john = \"John\";\n",
    "        mary = \"Mary\";\n",
    "        run = \"runs\";\n",
    "        jump = \"jumps\";\n",
    "        love pers = \"loves\" ++ pers;\n",
    "        hate pers = \"hates\" ++ pers;\n",
    "}"
   ]
  },
  {
   "cell_type": "markdown",
   "id": "cc3f2b6f-e8ce-4222-9cba-c556e23c3854",
   "metadata": {},
   "source": [
    "# Parsing and linearizing"
   ]
  },
  {
   "cell_type": "markdown",
   "id": "3b931a1f",
   "metadata": {},
   "source": [
    "With the concrete syntax in place, we can now linearize and parse sentences:"
   ]
  },
  {
   "cell_type": "code",
   "execution_count": 4,
   "id": "b41cff4e",
   "metadata": {},
   "outputs": [
    {
     "data": {
      "text/html": [
       "<div class=\"glif-stdout\"><span>John loves Mary and runs</span></div>"
      ]
     },
     "metadata": {},
     "output_type": "display_data"
    }
   ],
   "source": [
    "linearize sentence john (and (love mary) run)"
   ]
  },
  {
   "cell_type": "code",
   "execution_count": 5,
   "id": "6f0ecade",
   "metadata": {},
   "outputs": [
    {
     "data": {
      "text/html": [
       "<div class=\"glif-stdout\"><span>sentence john (and (love mary) run)</span></div>"
      ]
     },
     "metadata": {},
     "output_type": "display_data"
    }
   ],
   "source": [
    "parse \"John loves Mary and runs\""
   ]
  },
  {
   "cell_type": "markdown",
   "id": "a23dda71",
   "metadata": {},
   "source": [
    "By default, GF tries to parse something of the category `S`, if we want to parse anything else, we have to specify the category, otherwise we get a parser error:"
   ]
  },
  {
   "cell_type": "code",
   "execution_count": 6,
   "id": "5fe4d8eb",
   "metadata": {},
   "outputs": [
    {
     "data": {
      "text/html": [
       "<div class=\"glif-stdout\"></div>\n",
       "<br/><div class=\"glif-stderr\"><b>Errors</b><br/>The parser failed at token 1: \"loves\"</div>"
      ]
     },
     "metadata": {},
     "output_type": "display_data"
    }
   ],
   "source": [
    "parse \"loves Mary\""
   ]
  },
  {
   "cell_type": "code",
   "execution_count": 7,
   "id": "1eec0351",
   "metadata": {},
   "outputs": [
    {
     "data": {
      "text/html": [
       "<div class=\"glif-stdout\"><span>love mary</span></div>"
      ]
     },
     "metadata": {},
     "output_type": "display_data"
    }
   ],
   "source": [
    "parse -cat=Verb \"loves Mary\""
   ]
  },
  {
   "cell_type": "markdown",
   "id": "b132c9ac",
   "metadata": {},
   "source": [
    "Commands can be concatenated with the `|` operator.\n",
    "For example, we can first parse a sentence and then visualize the resulting abstract syntax tree:"
   ]
  },
  {
   "cell_type": "code",
   "execution_count": 8,
   "id": "07ef3c4e",
   "metadata": {},
   "outputs": [
    {
     "data": {
      "application/vnd.jupyter.widget-view+json": {
       "model_id": "e13df3f1bb9143f3a355ca8a2adbe6d0",
       "version_major": 2,
       "version_minor": 0
      },
      "text/plain": [
       "Dropdown(layout=Layout(width='max-content'), options=('0.0. sentence john (and (love mary) run)',), value='0.0…"
      ]
     },
     "metadata": {},
     "output_type": "display_data"
    },
    {
     "data": {
      "application/vnd.jupyter.widget-view+json": {
       "model_id": "06639b48d3e34868a93ed73cad481cd2",
       "version_major": 2,
       "version_minor": 0
      },
      "text/plain": [
       "Image(value=b'<?xml version=\"1.0\" encoding=\"UTF-8\" sta...', format='svg+xml')"
      ]
     },
     "metadata": {},
     "output_type": "display_data"
    }
   ],
   "source": [
    "parse \"John loves Mary and runs\" | visualize_tree"
   ]
  },
  {
   "cell_type": "markdown",
   "id": "e2d1588c",
   "metadata": {},
   "source": [
    "Similarly, we can use the `generate_random` command to generate random abstract syntax trees and directly linearize them:"
   ]
  },
  {
   "cell_type": "code",
   "execution_count": 9,
   "id": "af3da782",
   "metadata": {},
   "outputs": [
    {
     "data": {
      "text/html": [
       "<div class=\"glif-stdout\"><span>John loves John</span><br/><span>John hates John</span><br/><span>Mary runs</span><br/><span>Mary loves Mary</span><br/><span>John loves John</span><br/><span>Mary hates John</span><br/><span>Mary jumps</span><br/><span>Mary jumps</span></div>"
      ]
     },
     "metadata": {},
     "output_type": "display_data"
    }
   ],
   "source": [
    "generate_random -number=8 | linearize"
   ]
  },
  {
   "cell_type": "markdown",
   "id": "38076780-6ff4-4904-9924-c591adf64a07",
   "metadata": {},
   "source": [
    "# Translation"
   ]
  },
  {
   "cell_type": "markdown",
   "id": "dffecfbd",
   "metadata": {},
   "source": [
    "A common application of GF is translation.\n",
    "The idea is to have two concrete syntaxes that share the same abstract syntax.\n",
    "In our example, we have an English concrete syntax and we will additionally create a German concrete syntax.\n",
    "Then we can parse a sentence using e.g. the English concrete syntax and linearize it using the German concrete syntax, which effectively translates a sentence from English to German."
   ]
  },
  {
   "cell_type": "code",
   "execution_count": 10,
   "id": "a4a429c8",
   "metadata": {},
   "outputs": [
    {
     "data": {
      "text/html": [
       "<div class=\"glif-stdout\"><span>Successfully imported GossipGer.gf</span></div>"
      ]
     },
     "metadata": {},
     "output_type": "display_data"
    }
   ],
   "source": [
    "concrete GossipGer of Gossip = {\n",
    "    lincat\n",
    "        S = Str; Person = Str; Verb = Str;\n",
    "    \n",
    "    lin\n",
    "        sentence pers vrb = pers ++ vrb;\n",
    "        and v1 v2 = v1 ++ \"und\" ++ v2;\n",
    "        \n",
    "        john = \"Johann\";    -- let us translate names as well\n",
    "        mary = \"Maria\";\n",
    "        run = \"rennt\";\n",
    "        jump = \"springt\";\n",
    "        love pers = \"liebt\" ++ pers;\n",
    "        hate pers = \"hasst\" ++ pers;\n",
    "}"
   ]
  },
  {
   "cell_type": "markdown",
   "id": "f06f0267",
   "metadata": {},
   "source": [
    "Now that we have two different concrete syntaxes loaded, we always have to specify what language we want - otherwise GF will use all languages:"
   ]
  },
  {
   "cell_type": "code",
   "execution_count": 11,
   "id": "f81ed59c",
   "metadata": {},
   "outputs": [
    {
     "data": {
      "text/html": [
       "<div class=\"glif-stdout\"><span>John loves Mary and runs</span><br/><span>Johann liebt Maria und rennt</span></div>"
      ]
     },
     "metadata": {},
     "output_type": "display_data"
    }
   ],
   "source": [
    "-- all languages\n",
    "linearize sentence john (and (love mary) run)"
   ]
  },
  {
   "cell_type": "code",
   "execution_count": 12,
   "id": "edab2972",
   "metadata": {},
   "outputs": [
    {
     "data": {
      "text/html": [
       "<div class=\"glif-stdout\"><span>Johann liebt Maria und rennt</span></div>"
      ]
     },
     "metadata": {},
     "output_type": "display_data"
    }
   ],
   "source": [
    "-- only German\n",
    "linearize -lang=Ger sentence john (and (love mary) run)"
   ]
  },
  {
   "cell_type": "markdown",
   "id": "35a9afd9-3ece-40d8-b63b-c8f4806c1eba",
   "metadata": {},
   "source": [
    "Note: GF uses the suffix of the concrete syntax as the language (so in `GossipGer` the suffix is `Ger`)."
   ]
  },
  {
   "cell_type": "code",
   "execution_count": 13,
   "id": "4ce1d220",
   "metadata": {},
   "outputs": [
    {
     "data": {
      "text/html": [
       "<div class=\"glif-stdout\"><span>Johann liebt Maria und rennt</span></div>"
      ]
     },
     "metadata": {},
     "output_type": "display_data"
    }
   ],
   "source": [
    "-- and finally translation\n",
    "parse -lang=Eng \"John loves Mary and runs\" | linearize -lang=Ger"
   ]
  }
 ],
 "metadata": {
  "kernelspec": {
   "display_name": "GLIF",
   "language": "glif",
   "name": "glif"
  },
  "language_info": {
   "codemirror_mode": {
    "name": "glif"
   },
   "file_extension": ".glif",
   "mimetype": "text/glif",
   "name": "GLIF"
  }
 },
 "nbformat": 4,
 "nbformat_minor": 5
}
