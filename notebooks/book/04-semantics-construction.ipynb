{
 "cells": [
  {
   "cell_type": "markdown",
   "id": "ec40e10e-5399-4079-b1f7-31b5765d4d4c",
   "metadata": {},
   "source": [
    "# Semantics construction \n",
    "\n",
    "In this notebook, we will combine GF and MMT to implement a Montague-style fragment of English.\n",
    "We will use GF for parsing and MMT for describing the logic and semantics construction.\n",
    "\n",
    "The example is intentionally very minimal.\n",
    "Concretely, we want to support sentences like\n",
    "* *John runs*\n",
    "* *John runs and Mary runs*"
   ]
  },
  {
   "cell_type": "markdown",
   "id": "fffc8064-bc3d-48f4-9a0c-9e48c83bbfd0",
   "metadata": {},
   "source": [
    "## Grammar\n",
    "\n",
    "The grammar is very simple. If you read the GF introduction notebook, you should be able to understand it easily."
   ]
  },
  {
   "cell_type": "code",
   "execution_count": 1,
   "id": "8f657fbb-2c2d-47ce-a2e0-d636ed022f66",
   "metadata": {},
   "outputs": [
    {
     "data": {
      "text/html": [
       "<div class=\"glif-stdout\"><span>Successfully imported MiniGrammar.gf</span></div>"
      ]
     },
     "metadata": {},
     "output_type": "display_data"
    }
   ],
   "source": [
    "abstract MiniGrammar = {\n",
    "    cat\n",
    "        S; NP; VP;\n",
    "    fun\n",
    "        pred : NP -> VP -> S;\n",
    "        and : S -> S -> S;\n",
    "        john : NP;\n",
    "        mary : NP;\n",
    "        run : VP;\n",
    "}"
   ]
  },
  {
   "cell_type": "code",
   "execution_count": 2,
   "id": "726411ab-a7e7-40a2-bfde-2347fc9f8e04",
   "metadata": {},
   "outputs": [
    {
     "data": {
      "text/html": [
       "<div class=\"glif-stdout\"><span>Successfully imported MiniGrammarEng.gf</span></div>"
      ]
     },
     "metadata": {},
     "output_type": "display_data"
    }
   ],
   "source": [
    "concrete MiniGrammarEng of MiniGrammar = {\n",
    "    lincat\n",
    "        S = Str; NP = Str; VP = Str;\n",
    "    lin\n",
    "        pred np vp = np ++ vp;\n",
    "        and a b = a ++ \"and\" ++ b;\n",
    "        john = \"John\";\n",
    "        mary = \"Mary\";\n",
    "        run = \"runs\";\n",
    "}"
   ]
  },
  {
   "cell_type": "code",
   "execution_count": 3,
   "id": "5652279f-cf76-4b7a-9728-a275bae92bd1",
   "metadata": {},
   "outputs": [
    {
     "data": {
      "text/html": [
       "<div class=\"glif-stdout\"><span>and (pred john run) (pred mary run)</span></div>"
      ]
     },
     "metadata": {},
     "output_type": "display_data"
    }
   ],
   "source": [
    "parse \"John runs and Mary runs\""
   ]
  },
  {
   "cell_type": "code",
   "execution_count": 4,
   "id": "29b50659-b452-41b5-9737-957a158a76b5",
   "metadata": {},
   "outputs": [
    {
     "data": {
      "application/vnd.jupyter.widget-view+json": {
       "model_id": "25bc8d2b624c4cb597618f6dc4d4c3cf",
       "version_major": 2,
       "version_minor": 0
      },
      "text/plain": [
       "Dropdown(layout=Layout(width='max-content'), options=('0.0. and (pred john run) (pred mary run)',), value='0.0…"
      ]
     },
     "metadata": {},
     "output_type": "display_data"
    },
    {
     "data": {
      "application/vnd.jupyter.widget-view+json": {
       "model_id": "ef214446208f4beabc4de0772b894f0a",
       "version_major": 2,
       "version_minor": 0
      },
      "text/plain": [
       "Image(value=b'<?xml version=\"1.0\" encoding=\"UTF-8\" sta...', format='svg+xml')"
      ]
     },
     "metadata": {},
     "output_type": "display_data"
    }
   ],
   "source": [
    "parse \"John runs and Mary runs\" | vp -showfun"
   ]
  },
  {
   "cell_type": "markdown",
   "id": "ef9330c4-3bbd-44a6-959d-be45c4e6950d",
   "metadata": {},
   "source": [
    "## Logic\n",
    "\n",
    "The logic is very simple as well.\n",
    "If you read the MMT intro, this should be very straight-forward:"
   ]
  },
  {
   "cell_type": "code",
   "execution_count": 5,
   "id": "5498d198-2f55-4694-9645-3da8cf90547c",
   "metadata": {},
   "outputs": [
    {
     "data": {
      "text/html": [
       "<div class=\"glif-stdout\"><span>Successfully imported minilogic.mmt</span></div>"
      ]
     },
     "metadata": {},
     "output_type": "display_data"
    }
   ],
   "source": [
    "theory minilogic : ur:?LF =\n",
    "    prop : type ❘ # o ❙\n",
    "    conjunction : o ⟶ o ⟶ o ❘ # 1 ∧ 2 prec 80 ❙\n",
    "    // no need for other connectives ❙\n",
    "    individual : type ❘ # ι ❙\n",
    "❚"
   ]
  },
  {
   "cell_type": "markdown",
   "id": "7dd70f48-32a0-4c71-a67c-e93b95ae830b",
   "metadata": {},
   "source": [
    "We also need a **discourse domain theory (ddt)** that introduces all the constants we will need:"
   ]
  },
  {
   "cell_type": "code",
   "execution_count": 6,
   "id": "515d8b11-9147-4e5b-942b-ee5609898465",
   "metadata": {},
   "outputs": [
    {
     "data": {
      "text/html": [
       "<div class=\"glif-stdout\"><span>Successfully imported miniddt.mmt</span></div>"
      ]
     },
     "metadata": {},
     "output_type": "display_data"
    }
   ],
   "source": [
    "theory miniddt : ?minilogic =\n",
    "    j : ι ❙       // john ❙\n",
    "    m : ι ❙       // mary ❙\n",
    "    r : ι ⟶ o ❙   // run (unary predicate) ❙\n",
    "❚"
   ]
  },
  {
   "cell_type": "markdown",
   "id": "8f1d2d43-9a75-4718-b3fa-82b50d489edd",
   "metadata": {},
   "source": [
    "## Semantics construction"
   ]
  },
  {
   "cell_type": "markdown",
   "id": "1db897d6-32be-49fa-9637-b09de85fbe2f",
   "metadata": {},
   "source": [
    "For the semantics construction need to represent abstract syntax trees in MMT.\n",
    "For this we will make a **language theory** that corresponds to the abstract syntax:"
   ]
  },
  {
   "cell_type": "code",
   "execution_count": 7,
   "id": "a474b7f2-76ad-49c8-aef5-14c7553fe51b",
   "metadata": {},
   "outputs": [
    {
     "data": {
      "text/html": [
       "<div class=\"glif-stdout\"><span>Successfully imported minilanguage.mmt</span></div>"
      ]
     },
     "metadata": {},
     "output_type": "display_data"
    }
   ],
   "source": [
    "theory minilanguage : ur:?LF =\n",
    "    S : type ❙\n",
    "    NP : type ❙\n",
    "    VP : type ❙\n",
    "\n",
    "    sentence : NP ⟶ VP ⟶ S ❙\n",
    "    and : S ⟶ S ⟶ S ❙\n",
    "    john : NP ❙\n",
    "    mary : NP ❙\n",
    "    run : VP ❙\n",
    "❚"
   ]
  },
  {
   "cell_type": "markdown",
   "id": "877ec803-0b31-4fed-81ac-23473fa294dd",
   "metadata": {},
   "source": [
    "Creating a language theory from the abstract syntax is very straight-forward, so GLIF does it *automatically* for us in the background.\n",
    "So this is the only time we will write it by hand."
   ]
  },
  {
   "cell_type": "markdown",
   "id": "53c5afc6-f762-4b63-a714-c48a89e2af6f",
   "metadata": {},
   "source": [
    "We represent the semantics construction as an MMT **view**.\n",
    "A few maps every symbol in a source theory to an expression in the target theory.\n",
    "For example, we will map `S` (a type in the language theory) to propositions (`o`) as a sentence should be translated to a proposition.\n",
    "Noun phrases (`NP`) will be mapped to individuals and verb phrases (`VP`) to unary predicates.\n",
    "\n",
    "Afterwards, we will have to map all the function rules.\n",
    "`john` will be mapped to `j`. Similarly, `mary` will be mapped to `m` and `run` to `r`.\n",
    "`sentence` and `and` are a bit trickier and we will use lambda functions for that.\n",
    "`and` should combine the arguments with a `∧`, i.e. we will map it to the function `[x, y] x ∧ y` and `sentence` should apply the verb phrase (a predicate) to the noun phrase (an individual).\n",
    "Here is the full semantics construction:"
   ]
  },
  {
   "cell_type": "code",
   "execution_count": 8,
   "id": "2a7985e6-3a01-47cb-87e4-c390fea097ad",
   "metadata": {},
   "outputs": [
    {
     "data": {
      "text/html": [
       "<div class=\"glif-stdout\"><span>Successfully imported MiniGrammarSemantics.mmt</span></div>"
      ]
     },
     "metadata": {},
     "output_type": "display_data"
    }
   ],
   "source": [
    "view MiniGrammarSemantics : http://mathhub.info/tmpGLIF/default/MiniGrammar.gf?MiniGrammar -> ?miniddt =\n",
    "    S = o ❙\n",
    "    NP = ι ❙\n",
    "    VP = ι⟶o ❙\n",
    "\n",
    "    pred = [n:ι, v:ι⟶o] v n ❙\n",
    "    and = [x, y] x ∧ y ❙\n",
    "    john = j ❙\n",
    "    mary = m ❙\n",
    "    run = r ❙\n",
    "❚\n"
   ]
  },
  {
   "cell_type": "markdown",
   "id": "3ddfa1bd-bfc9-4028-a4e4-7620a1cad3f3",
   "metadata": {},
   "source": [
    "Now we can test it with the `construct` command.\n",
    "By default, it uses the most recently imported view (i.e. the view from most recently run Jupyter cell)."
   ]
  },
  {
   "cell_type": "code",
   "execution_count": 9,
   "id": "4e654da6-dfe4-4907-a476-7962cc47f4d2",
   "metadata": {},
   "outputs": [
    {
     "data": {
      "text/html": [
       "<div class=\"glif-stdout\"><span>(r j)∧(r m)</span></div>"
      ]
     },
     "metadata": {},
     "output_type": "display_data"
    }
   ],
   "source": [
    "parse \"John runs and Mary runs\" | construct"
   ]
  },
  {
   "cell_type": "markdown",
   "id": "b9503229-7f3b-4944-bfa7-892ab3845c3b",
   "metadata": {},
   "source": [
    "To understand what is happening, we can also just view the AST and the result of the semantics construction without simplification (i.e. without β-reduction):"
   ]
  },
  {
   "cell_type": "code",
   "execution_count": 10,
   "id": "cb67a28d-a551-4e85-bf64-6d2798373f43",
   "metadata": {},
   "outputs": [
    {
     "data": {
      "text/html": [
       "<div class=\"glif-stdout\"><span>and (pred john run) (pred mary run)</span></div>"
      ]
     },
     "metadata": {},
     "output_type": "display_data"
    },
    {
     "data": {
      "text/html": [
       "<hr class=\"glif-sep\"/>"
      ]
     },
     "metadata": {},
     "output_type": "display_data"
    },
    {
     "data": {
      "text/html": [
       "<div class=\"glif-stdout\"><span>([x,y]x∧y) (([n:ι,v:ι⟶o]v n) j r) (([n:ι,v:ι⟶o]v n) m r)</span></div>"
      ]
     },
     "metadata": {},
     "output_type": "display_data"
    }
   ],
   "source": [
    "parse \"John runs and Mary runs\"\n",
    "parse \"John runs and Mary runs\" | construct -no-simplify"
   ]
  }
 ],
 "metadata": {
  "kernelspec": {
   "display_name": "GLIF",
   "language": "glif",
   "name": "glif"
  },
  "language_info": {
   "codemirror_mode": {
    "name": "glif"
   },
   "file_extension": ".glif",
   "mimetype": "text/glif",
   "name": "GLIF"
  }
 },
 "nbformat": 4,
 "nbformat_minor": 5
}
