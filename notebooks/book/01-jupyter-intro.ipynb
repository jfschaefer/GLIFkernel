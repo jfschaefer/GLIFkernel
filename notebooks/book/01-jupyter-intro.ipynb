{
 "cells": [
  {
   "cell_type": "markdown",
   "metadata": {},
   "source": [
    "# A Brief Introduction to Jupyter Notebooks\n",
    "\n",
    "Jupyter notebooks are very popular for scientific computing/data science.\n",
    "By default, Jupyter supports the languages Jupyter, Python and R.\n",
    "We've developed a custom Jupyter kernel to support GLIF.\n",
    "\n",
    "There are two different types of cells:\n",
    "1. Markdown cells and\n",
    "2. code cells.\n",
    "\n",
    "This cell is a markdown cell. You can edit it by double-clicking on it and render the changed version by pressing `Shift+Return`.\n",
    "\n",
    "Code cells can contain code, which can be executed.\n",
    "In the case of GLIF, code cells can contain either commands or content, like grammars, which we will see in the next notebooks.\n",
    "Here is an example of a code cell:"
   ]
  },
  {
   "cell_type": "code",
   "execution_count": 4,
   "metadata": {},
   "outputs": [
    {
     "data": {
      "text/html": [
       "<span class=\"glif-stdout\">Hello world</span>"
      ]
     },
     "metadata": {},
     "output_type": "display_data"
    }
   ],
   "source": [
    "put_string \"Hello world\""
   ]
  },
  {
   "cell_type": "markdown",
   "metadata": {},
   "source": [
    "You can edit the code cell and press `Shift+Return` to execute it.\n",
    "When you execute a code cell, Jupyter sends it to the GLIF kernel.\n",
    "The GLIF kernel then processes it (maybe using GF, MMT or ELPI) and sends a response.\n",
    "You might get errors if one of the underlying systems does not work properly or cannot be found.\n",
    "GLIF has a `status` command, which might provide some useful information for debugging:"
   ]
  },
  {
   "cell_type": "code",
   "execution_count": 5,
   "metadata": {},
   "outputs": [
    {
     "data": {
      "text/html": [
       "<span class=\"glif-stdout\">Current working directory: /home/jfs/MMT/MMT-content/tmpGLIF/default/source</span><br/><span class=\"glif-stdout\"></span><br/><span class=\"glif-stdout\">GF STATUS</span><br/><span class=\"glif-stdout\">GF is running</span><br/><span class=\"glif-stdout\"></span><br/><span class=\"glif-stdout\">MMT STATUS</span><br/><span class=\"glif-stdout\">MMT is not running</span><br/><span class=\"glif-stdout\">Logs from initialization</span><br/><span class=\"glif-stdout\">Finding mmt.jar: &quot;Lucky guess&quot;</span><br/><span class=\"glif-stdout\">Location: /home/jfs/MMT/systems/MMT/deploy/mmt.jar</span><br/><span class=\"glif-stdout\">Finding MathHub: &quot;Inferred from environment variable MATHHUB&quot;</span><br/><span class=\"glif-stdout\">Location: /home/jfs/MMT/MMT-content</span><br/><span class=\"glif-stdout\"></span><br/><span class=\"glif-stdout\">ELPI STATUS</span><br/><span class=\"glif-stdout\">ELPI location: /home/jfs/.opam/default/bin/elpi</span><br/><span class=\"glif-stdout\">ELPI version: 1.13.7</span>"
      ]
     },
     "metadata": {},
     "output_type": "display_data"
    }
   ],
   "source": [
    "status"
   ]
  }
 ],
 "metadata": {
  "kernelspec": {
   "display_name": "GLIF",
   "language": "glif",
   "name": "glif"
  },
  "language_info": {
   "file_extension": ".glif",
   "mimetype": "text/glif",
   "name": "GLIF"
  },
  "orig_nbformat": 4
 },
 "nbformat": 4,
 "nbformat_minor": 2
}
