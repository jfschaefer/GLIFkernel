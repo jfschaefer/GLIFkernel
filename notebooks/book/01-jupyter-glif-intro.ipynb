{
 "cells": [
  {
   "cell_type": "markdown",
   "metadata": {},
   "source": [
    "# A Brief Introduction to Jupyter/GLIF Notebooks\n",
    "\n",
    "Jupyter notebooks are very popular for scientific computing/data science.\n",
    "By default, Jupyter supports the languages Jupyter, Python and R.\n",
    "We've developed a custom Jupyter kernel to support GLIF.\n",
    "\n",
    "There are two different types of cells:\n",
    "1. Markdown cells and\n",
    "2. code cells.\n",
    "\n",
    "This cell is a markdown cell. You can edit it by double-clicking on it and render the changed version by pressing `Shift+Return`.\n",
    "\n",
    "Code cells can contain code, which can be executed.\n",
    "In the case of GLIF, code cells can contain either commands or content, like grammars, which we will see in the next notebooks.\n",
    "Here is an example of a code cell:"
   ]
  },
  {
   "cell_type": "code",
   "execution_count": 7,
   "metadata": {},
   "outputs": [
    {
     "data": {
      "text/html": [
       "<span class=\"glif-stdout\">Hello world</span>"
      ]
     },
     "metadata": {},
     "output_type": "display_data"
    }
   ],
   "source": [
    "put_string \"Hello world\""
   ]
  },
  {
   "cell_type": "markdown",
   "metadata": {},
   "source": [
    "You can edit the code cell and press `Shift+Return` to execute it.\n",
    "When you execute a code cell, Jupyter sends it to the GLIF kernel.\n",
    "The GLIF kernel then processes it (maybe using GF, MMT or ELPI) and sends a response.\n",
    "You might get errors if one of the underlying systems does not work properly or cannot be found.\n",
    "The `status` command (see below) can help with debugging."
   ]
  },
  {
   "cell_type": "markdown",
   "metadata": {},
   "source": [
    "## Running all cells\n",
    "\n",
    "Often, the code in cells depends on previous cells.\n",
    "So you cannot run an individual cell without running the previous cells.\n",
    "To make things worse, the order of execution can matter.\n",
    "Running all cells manually can be very tedious, but the Jupyter interface can help with that.\n",
    "For example, in the menu, you can go to `Run` > `Run All Cells`.\n",
    "Sometimes, the kernel gets into a very confusing state. In that case, it can help to restart the kernel (e.g. `Kernel` > `Restart Kernel and Run All Cells...`).\n",
    "\n",
    "Usually, notebooks store the output of cells, so you can view an existing notebook without running any commands.\n",
    "An exception are visualizations, which require running all cells once.\n",
    "Here is an example:"
   ]
  },
  {
   "cell_type": "code",
   "execution_count": 19,
   "metadata": {},
   "outputs": [
    {
     "data": {
      "text/html": [
       "<span class=\"glif-stdout\">Successfully imported Example.gf</span>"
      ]
     },
     "metadata": {},
     "output_type": "display_data"
    }
   ],
   "source": [
    "abstract Example = { cat X; fun World: X; Hello : X -> X; }"
   ]
  },
  {
   "cell_type": "code",
   "execution_count": 21,
   "metadata": {},
   "outputs": [
    {
     "data": {
      "application/vnd.jupyter.widget-view+json": {
       "model_id": "77a820e4531d4212bfc8412166279028",
       "version_major": 2,
       "version_minor": 0
      },
      "text/plain": [
       "Dropdown(layout=Layout(width='max-content'), options=('0.0. Hello World',), value='0.0. Hello World')"
      ]
     },
     "metadata": {},
     "output_type": "display_data"
    },
    {
     "data": {
      "application/vnd.jupyter.widget-view+json": {
       "model_id": "168d6f25e86547b5bf8b553e9e3d4946",
       "version_major": 2,
       "version_minor": 0
      },
      "text/plain": [
       "Image(value=b'<?xml version=\"1.0\" encoding=\"UTF-8\" sta...', format='svg+xml')"
      ]
     },
     "metadata": {},
     "output_type": "display_data"
    }
   ],
   "source": [
    "visualize_tree \"Hello World\""
   ]
  },
  {
   "cell_type": "markdown",
   "metadata": {},
   "source": [
    "## Important GLIF commands"
   ]
  },
  {
   "cell_type": "markdown",
   "metadata": {},
   "source": [
    "### `status`\n",
    "\n",
    "GLIF has a `status` command, which might provide some useful information for debugging:"
   ]
  },
  {
   "cell_type": "code",
   "execution_count": 22,
   "metadata": {},
   "outputs": [
    {
     "data": {
      "text/html": [
       "<span class=\"glif-stdout\">Current working directory: /home/jfs/MMT/MMT-content/tmpGLIF/default/source</span><br/><span class=\"glif-stdout\"></span><br/><span class=\"glif-stdout\">GF STATUS</span><br/><span class=\"glif-stdout\">GF is running</span><br/><span class=\"glif-stdout\"></span><br/><span class=\"glif-stdout\">MMT STATUS</span><br/><span class=\"glif-stdout\">MMT is running on port 42801</span><br/><span class=\"glif-stdout\">Logs from initialization</span><br/><span class=\"glif-stdout\">Finding mmt.jar: &quot;Lucky guess&quot;</span><br/><span class=\"glif-stdout\">Location: /home/jfs/MMT/systems/MMT/deploy/mmt.jar</span><br/><span class=\"glif-stdout\">Finding MathHub: &quot;Inferred from environment variable MATHHUB&quot;</span><br/><span class=\"glif-stdout\">Location: /home/jfs/MMT/MMT-content</span><br/><span class=\"glif-stdout\"></span><br/><span class=\"glif-stdout\">ELPI STATUS</span><br/><span class=\"glif-stdout\">ELPI location: /home/jfs/.opam/default/bin/elpi</span><br/><span class=\"glif-stdout\">ELPI version: 1.15.2</span>"
      ]
     },
     "metadata": {},
     "output_type": "display_data"
    }
   ],
   "source": [
    "status"
   ]
  },
  {
   "cell_type": "markdown",
   "metadata": {},
   "source": [
    "### `help`\n",
    "\n",
    "You can use the `help` command to list all commands.\n",
    "You can also use it to get more details on a particular command:"
   ]
  },
  {
   "cell_type": "code",
   "execution_count": 23,
   "metadata": {},
   "outputs": [
    {
     "data": {
      "text/html": [
       "<span class=\"glif-stdout\">Prints information about the GLIF status<br/><br/>Flags:<br/>&nbsp;&nbsp;&nbsp;&nbsp;-load-gf | -lg<br/>&nbsp;&nbsp;&nbsp;&nbsp;&nbsp;&nbsp;&nbsp;&nbsp;Load the GF shell if it hadn&#x27;t been loaded before<br/><br/>&nbsp;&nbsp;&nbsp;&nbsp;-load-mmt | -lm<br/>&nbsp;&nbsp;&nbsp;&nbsp;&nbsp;&nbsp;&nbsp;&nbsp;Load the MMT interface if it hadn&#x27;t been loaded before<br/><br/>&nbsp;&nbsp;&nbsp;&nbsp;-gf-logs | -gl<br/>&nbsp;&nbsp;&nbsp;&nbsp;&nbsp;&nbsp;&nbsp;&nbsp;Show the output of the GF start-up<br/><br/>&nbsp;&nbsp;&nbsp;&nbsp;-mmt-logs | -ml<br/>&nbsp;&nbsp;&nbsp;&nbsp;&nbsp;&nbsp;&nbsp;&nbsp;Show MMT logs<br/><br/>Example calls:<br/>&nbsp;&nbsp;&nbsp;&nbsp;None</span>"
      ]
     },
     "metadata": {},
     "output_type": "display_data"
    }
   ],
   "source": [
    "help status"
   ]
  }
 ],
 "metadata": {
  "kernelspec": {
   "display_name": "GLIF",
   "language": "glif",
   "name": "glif"
  },
  "language_info": {
   "codemirror_mode": {
    "name": "glif"
   },
   "file_extension": ".glif",
   "mimetype": "text/glif",
   "name": "GLIF"
  }
 },
 "nbformat": 4,
 "nbformat_minor": 4
}
