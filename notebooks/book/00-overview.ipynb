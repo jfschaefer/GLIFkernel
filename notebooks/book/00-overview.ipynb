{
 "cells": [
  {
   "cell_type": "markdown",
   "id": "f9d4119c-b714-41a2-bcbf-bb43461809e1",
   "metadata": {},
   "source": [
    "# GLIF Book – Overview\n",
    "\n",
    "The GLIF Book is intended as a comprehensive introduction to the **Grammatical Logical Inference Framework** (**GLIF**).\n",
    "It is still work in progress.\n",
    "In the end, the GLIF book is supposed to be a series of Jupyter notebooks, providing:\n",
    "1. Introductions to the systems underlying GLIF (GF, MMT, ELPI)\n",
    "2. A tutorial on developing natural language understanding pipelines with GLIF\n",
    "3. An incomplete introduction to natural language semantics"
   ]
  },
  {
   "cell_type": "markdown",
   "id": "c663f791",
   "metadata": {},
   "source": [
    "## What is GLIF?\n",
    "\n",
    "GLIF is a framework for prototyping natural language understanding (NLU) pipelines.\n",
    "For us, an NLU pipeline consists of three steps:\n",
    "1. parsing,\n",
    "2. semantics construction,\n",
    "3. semantic/pragmatic analysis.\n",
    "For example, let us consider the sentence *John and Mary laugh*.\n",
    "Parsing gives us an abstract syntax tree (AST).\n",
    "The semantics construction maps the AST to a logical expression: *laugh(john) ∧ laugh(mary)*.\n",
    "These first two steps correspond to the Montague-style approach to natural language semantics.\n",
    "The third step, semantic/pragmatic analysis, can be used for further, inferential processing (e.g. disambiguation).\n",
    "\n",
    "Each of the three steps is based on an existing, specialized framework:\n",
    "1. Parsing is based on the [**Grammatical Framework** (**GF**)](http://www.grammaticalframework.org/).\n",
    "2. The semantics construction and the logic development are based on [MMT](https://uniformal.github.io/).\n",
    "3. The semantic/pragmatic analysis is based on [ELPI](https://github.com/lpcic/elpi).\n",
    "GLIF connects these three frameworks into a natural language understanding framework."
   ]
  },
  {
   "cell_type": "markdown",
   "id": "9033c23f",
   "metadata": {},
   "source": [
    "## Publications (TODO)"
   ]
  }
 ],
 "metadata": {
  "kernelspec": {
   "display_name": "GLIF",
   "language": "glif",
   "name": "glif"
  },
  "language_info": {
   "codemirror_mode": {
    "name": "glif"
   },
   "file_extension": ".glif",
   "mimetype": "text/glif",
   "name": "GLIF"
  }
 },
 "nbformat": 4,
 "nbformat_minor": 5
}
