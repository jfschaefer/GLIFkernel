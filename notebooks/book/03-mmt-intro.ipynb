{
 "cells": [
  {
   "cell_type": "markdown",
   "id": "b9f3ce87",
   "metadata": {},
   "source": [
    "# MMT Intro\n",
    "\n",
    "In this notebook, we will introduce MMT and do some basic logic development.\n",
    "\n",
    "MMT knowledge is stored in modules that we call **theories**.\n",
    "A theory contains a list of symbol declarations.\n",
    "You can directly enter MMT theories in notebook cells.\n",
    "GLIF will then write them to a file and important them to MMT.\n",
    "You can change the location with the `archive` command."
   ]
  },
  {
   "cell_type": "markdown",
   "id": "0fec7ba9-c588-44ef-a67d-f741b29e73bb",
   "metadata": {},
   "source": [
    "## Entering unicode\n",
    "\n",
    "MMT uses a lot of unicode characters.\n",
    "You can enter them by typing e.g. `\\alpha` and then pressing the `<Tab>` key to get the letter α (only works in code cells).\n",
    "Generally, this is inspired by how you would enter them in LaTeX.\n",
    "[Here](https://github.com/jfschaefer/GLIFkernel/blob/main/glif_kernel/unicode-latex-map) is the list of the currently supported characters.\n",
    "\n",
    "MMT uses unicode characters as delimiters (to avoid using up too many of the symbols you might want to use in your logic):\n",
    "* End of module: ❚ (`\\MD<TAB>`)\n",
    "* End of declaration: ❙ (`\\DD<TAB>`)\n",
    "* End of declaration part: ❘ (`\\OD<TAB>`)"
   ]
  },
  {
   "cell_type": "markdown",
   "id": "ac1ada40-0b6d-4575-bd18-c71f21e8d6ae",
   "metadata": {},
   "source": [
    "## Syntax of propositional logic\n",
    "\n",
    "Let us start with a theory that specifies the syntax of propositional logic.\n",
    "Basically, we will introduce a type for propositions, `prop`.\n",
    "Then we can describe the connectives as functions. For example, negation would be function that takes one proposition and returns a new one, i.e. `not : prop ⟶ prop`.\n",
    "\n",
    "The arrow (`⟶`) can be entered with `\\longrightarrow<Tab>`. Because that's very inefficient (and you will need lots of arrows), there is the shortcut `\\raa<Tab>`.\n",
    "\n",
    "Typically, an MMT theory has a **meta theory**, which provides \"the building blocks\" for your theory.\n",
    "We will often use `ur:?LF`, the Edinburgh Logical Framework, which provides `⟶`, and `type`, but also lambdas and dependent types.\n",
    "\n",
    "Here is the first theory:"
   ]
  },
  {
   "cell_type": "code",
   "execution_count": 1,
   "id": "2ac0797c-a5d9-40dd-a024-2bad52d5d045",
   "metadata": {},
   "outputs": [
    {
     "data": {
      "text/html": [
       "<div class=\"glif-stdout\"><span>Successfully imported proplog_syntax_first_attempt.mmt</span></div>"
      ]
     },
     "metadata": {},
     "output_type": "display_data"
    }
   ],
   "source": [
    "theory proplog_syntax_first_attempt : ur:?LF =\n",
    "    prop : type ❙\n",
    "    not : prop ⟶ prop ❙\n",
    "    and : prop ⟶ prop ❙\n",
    "    or : prop ⟶ prop ❙\n",
    "❚"
   ]
  },
  {
   "cell_type": "markdown",
   "id": "5c771728-bf97-47a2-9b83-103db0fa4f5c",
   "metadata": {},
   "source": [
    "We can make another theory that uses `proplog_syntax_first_attempt` to make some propositions.\n",
    "In this case, we will use `proplog_syntax_first_attempt` as the meta theory:"
   ]
  },
  {
   "cell_type": "code",
   "execution_count": 2,
   "id": "8fbe7d28-4d71-4f36-948e-65686fa66c80",
   "metadata": {},
   "outputs": [
    {
     "data": {
      "text/html": [
       "<div class=\"glif-stdout\"><span>Successfully imported test0.mmt</span></div>"
      ]
     },
     "metadata": {},
     "output_type": "display_data"
    }
   ],
   "source": [
    "theory test0 : ?proplog_syntax_first_attempt =\n",
    "    // make a few propositions (linguistically inspired) ❙\n",
    "    johnlaughs: prop ❙\n",
    "    marylaughs: prop ❙\n",
    "    // we can also define propositions (instead of declaring them): ❙\n",
    "    john_doesnt_laugh: prop ❘ = not johnlaughs ❙\n",
    "    // MMT knows that `not johnlaughs` is of type `prop`, so we can omit it ❙\n",
    "    mary_doesnt_laugh = not marylaughs ❙\n",
    "❚"
   ]
  },
  {
   "cell_type": "markdown",
   "id": "a3949d87-0ab2-4923-a1ed-500ad23cc508",
   "metadata": {},
   "source": [
    "Writing logical expressions like that can become somewhat unreadable.\n",
    "MMT allows us to introduce notations for symbols (e.g. `¬ X` instead of `not X`).\n",
    "In the notation string, we use `1`, `2`, etc. for the placement of the argument.\n",
    "That lets us define infix operators.\n",
    "We can also specify precedences (higher precedences bind stronger).\n",
    "\n",
    "Typically, when defining a logic, we try to have a minimal set of core connectives\n",
    "(e.g. ¬ and ∧) and then say that the other connectives are just \"syntactic sugar\",\n",
    "or defined in terms of the other connectives.\n",
    "We can do the same in MMT by providing a definition for e.g. `or` using De Morgan's law.\n",
    "We will say that A ∨ B is defined as ¬(¬A ∧ ¬B).\n",
    "But instead of this syncategorematic definition, we will have to define the meaning of `or`\n",
    "directly, which we can do with a lambda function:\n",
    "\n",
    "    ∨ = λA.λB.¬(¬A∧¬B)\n",
    "\n",
    "In MMT, we use the notation `[x] M` for λx.M."
   ]
  },
  {
   "cell_type": "code",
   "execution_count": 3,
   "id": "56f4309c-3d8e-4563-a139-96760f605eeb",
   "metadata": {},
   "outputs": [
    {
     "data": {
      "text/html": [
       "<div class=\"glif-stdout\"><span>Successfully imported proplog_syntax.mmt</span></div>"
      ]
     },
     "metadata": {},
     "output_type": "display_data"
    }
   ],
   "source": [
    "theory proplog_syntax : ur:?LF =\n",
    "    // We introduce `o` as a notation for `prop` ❙\n",
    "    prop : type ❘ # o ❙\n",
    "    not : o ⟶ o ❘ # ¬ 1 prec 100 ❙\n",
    "    and : o ⟶ o ⟶ o ❘ # 1 ∧ 2 prec 80 ❙\n",
    "    or : o ⟶ o ⟶ o ❘ # 1 ∨ 2 prec 70 ❘ = [a, b] ¬(¬a ∧ ¬b) ❙\n",
    "    impl : o ⟶ o ⟶ o ❘ # 1 ⇒ 2 prec 60 ❘ = [a, b] ¬a ∨ b ❙\n",
    "❚"
   ]
  },
  {
   "cell_type": "markdown",
   "id": "a3fe48b7-1f8e-4cf9-a18b-c1b84226f375",
   "metadata": {},
   "source": [
    "Now we have a theory for the syntax for propositional logic.\n",
    "There is another logic that we will be interested in: **PLNQ** (Predicate Logic, No Quantifiers).\n",
    "It's first-order logic without quantifiers.\n",
    "For this, we need to add a new type (for what we will call individuals).\n",
    "\n",
    "In MMT, we can develop theories in a modular way.\n",
    "So the new theory will include everything from `proplog_syntax` and add the new type.\n",
    "(Note: we could have developed `proplog_syntax` in a more modular way too)."
   ]
  },
  {
   "cell_type": "code",
   "execution_count": 4,
   "id": "2b85e4b1-ee2c-4763-a3af-6a2d9ae8700a",
   "metadata": {},
   "outputs": [
    {
     "data": {
      "text/html": [
       "<div class=\"glif-stdout\"><span>Successfully imported plnq_syntax.mmt</span></div>"
      ]
     },
     "metadata": {},
     "output_type": "display_data"
    }
   ],
   "source": [
    "theory plnq_syntax : ur:?LF =\n",
    "    include ?proplog_syntax ❙    // include everything from proplog_syntax ❙\n",
    "    individual : type ❘ # ι ❙\n",
    "❚"
   ]
  },
  {
   "cell_type": "markdown",
   "id": "7e1198c7-f066-459e-b4ff-2d8a985cde78",
   "metadata": {},
   "source": [
    "And let's test one more time:"
   ]
  },
  {
   "cell_type": "code",
   "execution_count": 5,
   "id": "203eae37-7e13-425d-ba09-f516c52ee0ed",
   "metadata": {},
   "outputs": [
    {
     "data": {
      "text/html": [
       "<div class=\"glif-stdout\"><span>Successfully imported test1.mmt</span></div>"
      ]
     },
     "metadata": {},
     "output_type": "display_data"
    }
   ],
   "source": [
    "theory test1 : ?plnq_syntax =\n",
    "    john : ι ❙\n",
    "    mary : ι ❙\n",
    "    run : ι ⟶ o ❙\n",
    "\n",
    "    if_john_runs_then_mary_doesnt_run : o ❘\n",
    "        = run john ⇒ ¬ run mary ❙\n",
    "❚"
   ]
  },
  {
   "cell_type": "markdown",
   "id": "1aff6598-bd66-45f8-8e15-90905795661f",
   "metadata": {},
   "source": [
    "MMT type-checks everything we do.\n",
    "So we get an error if we e.g. pretend the `run` is a proposition:"
   ]
  },
  {
   "cell_type": "code",
   "execution_count": 6,
   "id": "a91dbe46-1fd8-4c3d-82de-f74b97d1caf3",
   "metadata": {},
   "outputs": [
    {
     "data": {
      "text/html": [
       "<div class=\"glif-stdout\"></div>\n",
       "<br/><div class=\"glif-stderr\"><b>Errors</b><br/>invalid unit: http://mathhub.info/tmpGLIF/default?test2?test_prop?definition: Judgment   |--  (run john)∨¬run  ::  o</div>"
      ]
     },
     "metadata": {},
     "output_type": "display_data"
    }
   ],
   "source": [
    "theory test2 : ?plnq_syntax =\n",
    "    include ?test1 ❙  // import constants from above ❙\n",
    "\n",
    "    test_prop = run john ∨ ¬ run ❙\n",
    "❚"
   ]
  },
  {
   "cell_type": "markdown",
   "id": "b324c2ef-5871-4d31-8b3e-d373315bc974",
   "metadata": {},
   "source": [
    "## Theorems and proofs\n",
    "\n",
    "Typically, we want to talk about what is true in a particular situation.\n",
    "For this, we will introduce a new constant `ded` with the notation `⊢`:"
   ]
  },
  {
   "cell_type": "code",
   "execution_count": 7,
   "id": "6f2722e1-937c-4969-88d5-8f3a0c750e15",
   "metadata": {},
   "outputs": [
    {
     "data": {
      "text/html": [
       "<div class=\"glif-stdout\"><span>Successfully imported proof.mmt</span></div>"
      ]
     },
     "metadata": {},
     "output_type": "display_data"
    }
   ],
   "source": [
    "theory proof : ur:?LF =\n",
    "    include ?proplog_syntax ❙    // we only need `prop`, but we did not put it in a separate theory ❙\n",
    "\n",
    "    ded : o ⟶ type ❘ # ⊢ 1 prec 5 ❙\n",
    "❚"
   ]
  },
  {
   "cell_type": "markdown",
   "id": "fbb93c20-d27d-4a2d-be67-ac74997f8815",
   "metadata": {},
   "source": [
    "The idea is that we can write `⊢ φ` to state that `φ` is true.\n",
    "If you look at the \"type\" of `⊢`, we see that `⊢ φ` is a `type`.\n",
    "This is the idea behind the **judgements as types** paradigm.\n",
    "If you have not seen it before, this takes some getting used to.\n",
    "\n",
    "One way to think about it is that `⊢ φ` is the *type of all proofs of `φ`*.\n",
    "So if we say\n",
    "```\n",
    "    x : ⊢ φ\n",
    "```\n",
    "then we say that `x` is a proof of `φ`.\n",
    "We can think of this as an **axiom**.\n",
    "\n",
    "A **theorem** is like an axiom, except that we provide a proof term:\n",
    "```\n",
    "    x : ⊢ φ ❘ = \"some term of type ⊢φ...\"\n",
    "```\n",
    "\n",
    "To create proof terms, we need proof construction rules.\n",
    "For example, if we have a proof of `φ` and a proof of `ψ`, then we want to be able to construct a proof of type `φ∧ψ`.\n",
    "For this, we can create a function `andI` of type `⊢φ ⟶ ⊢ψ ⟶ ⊢φ∧ψ`,\n",
    "which means that the function takes a proof of `φ` and a proof `ψ` and returns a proof of `φ∧ψ` – exactly as we wanted.\n",
    "This is called \"conjunction introduction\" in the natural deduction calculus.\n",
    "As this will have to work for all propositions `φ` and `ψ`, we will use another trick:\n",
    "the Π operator (or dependent type operator).\n",
    "In MMT it is written in curly braces:\n",
    "```\n",
    "    andI : {φ:o, ψ:o} ⊢φ ⟶ ⊢ψ ⟶ ⊢φ∧ψ\n",
    "```\n",
    "`andI` now takes 4 arguments: a proposition φ, a proposition ψ, a proof of φ, a proof of ψ, and then it returns a proof of φ∧ψ.\n",
    "\n",
    "Let us now see the whole thing in practice:"
   ]
  },
  {
   "cell_type": "code",
   "execution_count": 8,
   "id": "b113cdff-fc02-4fcd-94d7-494941be131a",
   "metadata": {},
   "outputs": [
    {
     "data": {
      "text/html": [
       "<div class=\"glif-stdout\"><span>Successfully imported test3.mmt</span></div>"
      ]
     },
     "metadata": {},
     "output_type": "display_data"
    }
   ],
   "source": [
    "theory test3 : ?proof =\n",
    "    // Two propositions. ❙\n",
    "    johnruns : o ❙\n",
    "    maryruns : o ❙\n",
    "    \n",
    "    // Note: Just because `johnruns` is a proposition, this doesn't mean that it is actually true. ❙\n",
    "    // There are lots of false propositions. However, we can use an axiom to state that it is true: ❙\n",
    "    axiom1 : ⊢ johnruns ❙\n",
    "    axiom2 : ⊢ ¬maryruns ❙\n",
    "\n",
    "    // Here is our proof construction rule: ❙\n",
    "    andI : {φ:o, ψ:o} ⊢φ ⟶ ⊢ψ ⟶ ⊢φ∧ψ ❙\n",
    "\n",
    "    // And now we can make a first theorem: ❙\n",
    "    theorem1 : ⊢johnruns ∧ ¬maryruns ❘\n",
    "        = andI johnruns (¬maryruns) axiom1 axiom2 ❙\n",
    "        //         φ        ψ         ⊢φ     ⊢ψ   ❙\n",
    "❚"
   ]
  },
  {
   "cell_type": "markdown",
   "id": "9c8d9bce-4382-4274-9ede-f0cbd66693e3",
   "metadata": {},
   "source": [
    "Due to the way we described proof rules etc., proof checking boils down to type checking.\n",
    "If we provide a wrong proof, the type checker will complain:"
   ]
  },
  {
   "cell_type": "code",
   "execution_count": 9,
   "id": "0aea2be4-d829-41b4-bb5f-9c323892f5f7",
   "metadata": {},
   "outputs": [
    {
     "data": {
      "text/html": [
       "<div class=\"glif-stdout\"></div>\n",
       "<br/><div class=\"glif-stderr\"><b>Errors</b><br/>invalid unit: http://mathhub.info/tmpGLIF/default?test4?theorem2?definition: Judgment   |--  andI johnruns maryruns axiom1 axiom2  ::  ⊢johnruns∧maryruns</div>"
      ]
     },
     "metadata": {},
     "output_type": "display_data"
    }
   ],
   "source": [
    "theory test4 : ?proof =\n",
    "    include ?test3 ❙\n",
    "    theorem2 : ⊢johnruns ∧ maryruns ❘\n",
    "        = andI johnruns maryruns axiom1 axiom2 ❙\n",
    "❚"
   ]
  }
 ],
 "metadata": {
  "kernelspec": {
   "display_name": "GLIF",
   "language": "glif",
   "name": "glif"
  },
  "language_info": {
   "codemirror_mode": {
    "name": "glif"
   },
   "file_extension": ".glif",
   "mimetype": "text/glif",
   "name": "GLIF"
  }
 },
 "nbformat": 4,
 "nbformat_minor": 5
}
